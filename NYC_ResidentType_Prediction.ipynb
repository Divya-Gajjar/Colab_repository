{
  "nbformat": 4,
  "nbformat_minor": 0,
  "metadata": {
    "colab": {
      "name": "NYC_ResidentType_Prediction.ipynb",
      "provenance": [],
      "collapsed_sections": [],
      "machine_shape": "hm",
      "include_colab_link": true
    },
    "kernelspec": {
      "name": "python3",
      "display_name": "Python 3"
    }
  },
  "cells": [
    {
      "cell_type": "markdown",
      "metadata": {
        "id": "view-in-github",
        "colab_type": "text"
      },
      "source": [
        "<a href=\"https://colab.research.google.com/github/Divya-Gajjar/Colab_repository/blob/master/NYC_ResidentType_Prediction.ipynb\" target=\"_parent\"><img src=\"https://colab.research.google.com/assets/colab-badge.svg\" alt=\"Open In Colab\"/></a>"
      ]
    },
    {
      "cell_type": "markdown",
      "metadata": {
        "id": "PfqNIlyLpETC",
        "colab_type": "text"
      },
      "source": [
        "# **Multiclass Classification problem to identify the Resident type of Newyork Income Tax payers.**\n",
        "\n",
        "Newyork Income Tax Return dataset has both catagorical and numeric features. Resident Type have three classes Full-Year Resident, Full Year Non-resident, Part-Year Non-resident.\n",
        "\n",
        "This dataset have the prefect fitted decision tree and random forest with all the data features so the important thing is to reduce the variables and get the accuracy and recall arround to perfeect fitted score.\n",
        "\n",
        "\n",
        "\n",
        "\n",
        "\n",
        "\n",
        "\n",
        "         "
      ]
    },
    {
      "cell_type": "markdown",
      "metadata": {
        "id": "mVnTdy8JrFm2",
        "colab_type": "text"
      },
      "source": [
        "Importing the Inbuild libaries of machine learning\n"
      ]
    },
    {
      "cell_type": "code",
      "metadata": {
        "id": "pWwOwr3YHBQG",
        "colab_type": "code",
        "colab": {}
      },
      "source": [
        "import pandas as pd\n",
        "import numpy as np\n",
        "import sklearn as sk\n",
        "import matplotlib.pyplot as plt\n",
        "import seaborn as sn\n",
        "import yellowbrick"
      ],
      "execution_count": 0,
      "outputs": []
    },
    {
      "cell_type": "markdown",
      "metadata": {
        "id": "2Y0qtatpF9c1",
        "colab_type": "text"
      },
      "source": [
        "Read the data into the variable df"
      ]
    },
    {
      "cell_type": "code",
      "metadata": {
        "id": "OEa-UQHa9uq2",
        "colab_type": "code",
        "colab": {}
      },
      "source": [
        "df = pd.read_csv(\"/content/NYC Income return.csv\")"
      ],
      "execution_count": 0,
      "outputs": []
    },
    {
      "cell_type": "markdown",
      "metadata": {
        "id": "7GStDTmR9QdB",
        "colab_type": "text"
      },
      "source": [
        "## This how the multiclass of the Resident type is distributed into the dataset."
      ]
    },
    {
      "cell_type": "code",
      "metadata": {
        "id": "g5bzpaHM8EF2",
        "colab_type": "code",
        "colab": {
          "base_uri": "https://localhost:8080/",
          "height": 408
        },
        "outputId": "70f60a94-af5a-4160-a724-74e5a115b20d"
      },
      "source": [
        "sn.countplot('Resident Type',data = df,palette=colors,)\n",
        "plt.title(\"Class\\n(0 :Full year resident||1: Full year non residenr||2:part year non resident)\")"
      ],
      "execution_count": 125,
      "outputs": [
        {
          "output_type": "execute_result",
          "data": {
            "text/plain": [
              "Text(0.5, 1.0, 'Class\\n(0 :Full year resident||1: Full year non residenr||2:part year non resident)')"
            ]
          },
          "metadata": {
            "tags": []
          },
          "execution_count": 125
        },
        {
          "output_type": "display_data",
          "data": {
            "image/png": "[encoded data removed]",
            "text/plain": [
              "<Figure size 576x396 with 1 Axes>"
            ]
          },
          "metadata": {
            "tags": []
          }
        }
      ]
    },
    {
      "cell_type": "markdown",
      "metadata": {
        "id": "Y5gnfR_GCtXb",
        "colab_type": "text"
      },
      "source": [
        "## This plot is showing which resident type have the highest count in particular year. \n",
        "\n",
        "Full year Resident have the highest count during 1999 to 2010.\n",
        "full year Nonresident have the highest count during the 2011 to 2014.\n",
        "Wehre Part year resident have the minimal activities during 1999 to 2014 compare to other two."
      ]
    },
    {
      "cell_type": "code",
      "metadata": {
        "id": "S4OhfhdTAWjb",
        "colab_type": "code",
        "colab": {
          "base_uri": "https://localhost:8080/",
          "height": 378
        },
        "outputId": "41e545d7-0e99-4437-e8d0-ae59aea5a1c6"
      },
      "source": [
        "sn.countplot('Tax Year',data=df,hue='Resident Type',)"
      ],
      "execution_count": 126,
      "outputs": [
        {
          "output_type": "execute_result",
          "data": {
            "text/plain": [
              "<matplotlib.axes._subplots.AxesSubplot at 0x7f79611eeeb8>"
            ]
          },
          "metadata": {
            "tags": []
          },
          "execution_count": 126
        },
        {
          "output_type": "display_data",
          "data": {
            "image/png": "[encoded data removed]",
            "text/plain": [
              "<Figure size 576x396 with 1 Axes>"
            ]
          },
          "metadata": {
            "tags": []
          }
        }
      ]
    },
    {
      "cell_type": "markdown",
      "metadata": {
        "id": "s4nlRcJRrWy9",
        "colab_type": "text"
      },
      "source": [
        "## **Preprocessing** **function**\n",
        "Preprocessing function to remove all the missing values and not important features from data set.\n",
        "\n",
        "The scikit-learn uses only numerical features and these features are interpreted always as continuous numeric variables, so have to convert the catagorical features into numeric variables using label encoding."
      ]
    },
    {
      "cell_type": "code",
      "metadata": {
        "id": "EMbFkJLqBFTd",
        "colab_type": "code",
        "outputId": "6f7ee6ff-dfe2-4c25-cc46-897545be9cbf",
        "colab": {
          "base_uri": "https://localhost:8080/",
          "height": 1000
        }
      },
      "source": [
        "def preprocessing():\n",
        "  global df\n",
        "  print('\\nBefore droping missing values\\n',df.isnull().sum())\n",
        "  df = df.drop(\"Disclosure\", axis=1)\n",
        "  df = df.dropna()\n",
        "  print('\\nAfter droping missing values\\n',df.isnull().sum())\n",
        "\n",
        "  print('\\nBefore lable encoding:\\n',df.dtypes)\n",
        "  from sklearn import preprocessing\n",
        "  le = preprocessing.LabelEncoder()\n",
        "  df['Resident Type'] = le.fit_transform(df['Resident Type'])\n",
        "  df['Place of Residence'] = le.fit_transform(df['Place of Residence'])\n",
        "  df['Country'] = le.fit_transform(df['Country'])\n",
        "  df['State'] = le.fit_transform(df['State'])\n",
        "  df['County'] = le.fit_transform(df['County'])\n",
        "  df['Income Class'] = le.fit_transform(df['Income Class'])\n",
        "  print('\\nAfter lable encoding:\\n',df.dtypes)\n",
        "\n",
        "  return;\n",
        "\n",
        "preprocessing()"
      ],
      "execution_count": 127,
      "outputs": [
        {
          "output_type": "stream",
          "text": [
            "\n",
            "Before droping missing values\n",
            " Tax Year                                                  0\n",
            "Resident Type                                             0\n",
            "Place of Residence                                        0\n",
            "Country                                                   0\n",
            "State                                                     0\n",
            "County                                                    0\n",
            "Income Class                                              0\n",
            "Disclosure                                            23439\n",
            "Number of All Returns                                   296\n",
            "NY AGI of All Returns (in thousands) *                  296\n",
            "Deductions of All Returns (in thousands)                296\n",
            "Dependent Exemptions of All Returns (in thousands)      296\n",
            "Taxable Income of All Returns (in thousands)            296\n",
            "Tax Before Credits of All Returns (in thousands)        296\n",
            "Tax Liability of All Returns (in thousands) **          296\n",
            "Place of Residence Sort Order                             0\n",
            "Income Class Sort Order                                   0\n",
            "dtype: int64\n",
            "\n",
            "After droping missing values\n",
            " Tax Year                                              0\n",
            "Resident Type                                         0\n",
            "Place of Residence                                    0\n",
            "Country                                               0\n",
            "State                                                 0\n",
            "County                                                0\n",
            "Income Class                                          0\n",
            "Number of All Returns                                 0\n",
            "NY AGI of All Returns (in thousands) *                0\n",
            "Deductions of All Returns (in thousands)              0\n",
            "Dependent Exemptions of All Returns (in thousands)    0\n",
            "Taxable Income of All Returns (in thousands)          0\n",
            "Tax Before Credits of All Returns (in thousands)      0\n",
            "Tax Liability of All Returns (in thousands) **        0\n",
            "Place of Residence Sort Order                         0\n",
            "Income Class Sort Order                               0\n",
            "dtype: int64\n",
            "\n",
            "Before lable encoding:\n",
            " Tax Year                                                int64\n",
            "Resident Type                                          object\n",
            "Place of Residence                                     object\n",
            "Country                                                object\n",
            "State                                                  object\n",
            "County                                                 object\n",
            "Income Class                                           object\n",
            "Number of All Returns                                 float64\n",
            "NY AGI of All Returns (in thousands) *                float64\n",
            "Deductions of All Returns (in thousands)              float64\n",
            "Dependent Exemptions of All Returns (in thousands)    float64\n",
            "Taxable Income of All Returns (in thousands)          float64\n",
            "Tax Before Credits of All Returns (in thousands)      float64\n",
            "Tax Liability of All Returns (in thousands) **        float64\n",
            "Place of Residence Sort Order                           int64\n",
            "Income Class Sort Order                                 int64\n",
            "dtype: object\n",
            "\n",
            "After lable encoding:\n",
            " Tax Year                                                int64\n",
            "Resident Type                                           int64\n",
            "Place of Residence                                      int64\n",
            "Country                                                 int64\n",
            "State                                                   int64\n",
            "County                                                  int64\n",
            "Income Class                                            int64\n",
            "Number of All Returns                                 float64\n",
            "NY AGI of All Returns (in thousands) *                float64\n",
            "Deductions of All Returns (in thousands)              float64\n",
            "Dependent Exemptions of All Returns (in thousands)    float64\n",
            "Taxable Income of All Returns (in thousands)          float64\n",
            "Tax Before Credits of All Returns (in thousands)      float64\n",
            "Tax Liability of All Returns (in thousands) **        float64\n",
            "Place of Residence Sort Order                           int64\n",
            "Income Class Sort Order                                 int64\n",
            "dtype: object\n"
          ],
          "name": "stdout"
        }
      ]
    },
    {
      "cell_type": "markdown",
      "metadata": {
        "id": "tsQmGXxrxcgD",
        "colab_type": "text"
      },
      "source": [
        "# **Making up the Functions of the Models:**\n",
        "\n",
        "There is a two model functions one for decision tree and another for random forest. Then fit these models on two diffrent sets of features, one is on all the variables and second is on feature engineering variables.\n"
      ]
    },
    {
      "cell_type": "markdown",
      "metadata": {
        "id": "iVA0i-nzzsul",
        "colab_type": "text"
      },
      "source": [
        "# Decision Tree Function"
      ]
    },
    {
      "cell_type": "code",
      "metadata": {
        "id": "e8Ch7ZnXago3",
        "colab_type": "code",
        "colab": {}
      },
      "source": [
        "  def decision_tree():\n",
        "    global dec_clf, xtrain, xtest, ytrain, ytest\n",
        "\n",
        "    from sklearn.model_selection import train_test_split\n",
        "    xtrain, xtest, ytrain, ytest = train_test_split(x, y, test_size = 0.3, shuffle = True)\n",
        "    \n",
        "    from sklearn import tree\n",
        "    dec_clf = tree.DecisionTreeClassifier().fit(xtrain, ytrain)\n",
        "    \n",
        "    print('\\n**decision tree**\\n')\n",
        "    \n",
        "    print(\"train score\",dec_clf.score(xtrain, ytrain))\n",
        "    print(\"test score\",dec_clf.score(xtest, ytest))\n",
        "    \n",
        "    y_pred1 = dec_clf.predict(xtest)\n",
        "    from sklearn.metrics import classification_report\n",
        "    print(\"classification_report\\n \", classification_report(ytest, y_pred1))\n",
        "    \n",
        "    from sklearn.metrics import confusion_matrix\n",
        "    print('confusion_matrix\\n',confusion_matrix(ytest,y_pred1))\n",
        "\n",
        "    from sklearn.model_selection import cross_val_score\n",
        "    cv = cross_val_score(dec_clf,x,y,cv=10)\n",
        "    print('\\nCross validation of decision tree:  ',cv.mean())\n",
        "    \n",
        "    return;"
      ],
      "execution_count": 0,
      "outputs": []
    },
    {
      "cell_type": "markdown",
      "metadata": {
        "id": "1wWoHvJ_zzmG",
        "colab_type": "text"
      },
      "source": [
        "# Random Forest Function"
      ]
    },
    {
      "cell_type": "code",
      "metadata": {
        "id": "Kw-cAqredv2f",
        "colab_type": "code",
        "colab": {}
      },
      "source": [
        "  def random_forest():\n",
        "    global random_clf, xtrain, xtest, ytrain, ytest\n",
        "    \n",
        "    from sklearn.model_selection import train_test_split\n",
        "    xtrain, xtest, ytrain, ytest = train_test_split(x, y, test_size = 0.3, shuffle = True)\n",
        "    \n",
        "    from sklearn.ensemble import RandomForestClassifier\n",
        "    random_clf = RandomForestClassifier(max_depth=15, random_state=0)\n",
        "    random_clf.fit(xtrain,ytrain)\n",
        "    \n",
        "    print(\"\\n**Random Forest**\\n\")\n",
        "    \n",
        "    print(\"train score\",random_clf.score(xtrain, ytrain))\n",
        "    print('test score:',random_clf.score(xtest,ytest))\n",
        "    \n",
        "    y_pred2 = random_clf.predict(xtest)\n",
        "    from sklearn.metrics import classification_report\n",
        "    print(\"classification_report\\n \", classification_report(ytest, y_pred2))\n",
        "    \n",
        "    from sklearn.metrics import confusion_matrix\n",
        "    print('confusion_matrix\\n',confusion_matrix(ytest,y_pred2))\n",
        "\n",
        "    from sklearn.model_selection import cross_val_score\n",
        "    cv = cross_val_score(random_clf,x,y,cv=10)\n",
        "    print('\\nCross validation of random forest:  ',cv.mean())\n",
        "    \n",
        "    return;"
      ],
      "execution_count": 0,
      "outputs": []
    },
    {
      "cell_type": "markdown",
      "metadata": {
        "id": "0BQKxPIiz_Jm",
        "colab_type": "text"
      },
      "source": [
        "## Predicting the models using all the variables. \n",
        "\n",
        "Both the function fitted perfectly and identifying the currect Resident types(Full-Year Resident, Full Year Non-resident, Part-Year Non-resident)"
      ]
    },
    {
      "cell_type": "code",
      "metadata": {
        "colab_type": "code",
        "outputId": "dcf91b25-0ff4-435c-ada1-83c7249ab6f0",
        "id": "6ERgZdlriG3C",
        "colab": {
          "base_uri": "https://localhost:8080/",
          "height": 1000
        }
      },
      "source": [
        "x = df[['Tax Year', 'Place of Residence', 'Country', 'State',\n",
        "       'County', 'Income Class', 'Number of All Returns',\n",
        "       'NY AGI of All Returns (in thousands) *',\n",
        "       'Deductions of All Returns (in thousands)',\n",
        "       'Dependent Exemptions of All Returns (in thousands)',\n",
        "       'Taxable Income of All Returns (in thousands)',\n",
        "       'Tax Before Credits of All Returns (in thousands)',\n",
        "       'Tax Liability of All Returns (in thousands) **',\n",
        "       'Place of Residence Sort Order', 'Income Class Sort Order']]\n",
        "y = df[['Resident Type']]\n",
        "\n",
        "decision_tree()\n",
        "random_forest()"
      ],
      "execution_count": 130,
      "outputs": [
        {
          "output_type": "stream",
          "text": [
            "\n",
            "**decision tree**\n",
            "\n",
            "train score 1.0\n",
            "test score 1.0\n",
            "classification_report\n",
            "                precision    recall  f1-score   support\n",
            "\n",
            "           0       1.00      1.00      1.00      2952\n",
            "           1       1.00      1.00      1.00      4028\n",
            "           2       1.00      1.00      1.00        52\n",
            "\n",
            "    accuracy                           1.00      7032\n",
            "   macro avg       1.00      1.00      1.00      7032\n",
            "weighted avg       1.00      1.00      1.00      7032\n",
            "\n",
            "confusion_matrix\n",
            " [[2952    0    0]\n",
            " [   0 4028    0]\n",
            " [   0    0   52]]\n",
            "\n",
            "Cross validation of decision tree:   1.0\n"
          ],
          "name": "stdout"
        },
        {
          "output_type": "stream",
          "text": [
            "/usr/local/lib/python3.6/dist-packages/ipykernel_launcher.py:9: DataConversionWarning: A column-vector y was passed when a 1d array was expected. Please change the shape of y to (n_samples,), for example using ravel().\n",
            "  if __name__ == '__main__':\n"
          ],
          "name": "stderr"
        },
        {
          "output_type": "stream",
          "text": [
            "\n",
            "**Random Forest**\n",
            "\n",
            "train score 1.0\n",
            "test score: 1.0\n",
            "classification_report\n",
            "                precision    recall  f1-score   support\n",
            "\n",
            "           0       1.00      1.00      1.00      2899\n",
            "           1       1.00      1.00      1.00      4074\n",
            "           2       1.00      1.00      1.00        59\n",
            "\n",
            "    accuracy                           1.00      7032\n",
            "   macro avg       1.00      1.00      1.00      7032\n",
            "weighted avg       1.00      1.00      1.00      7032\n",
            "\n",
            "confusion_matrix\n",
            " [[2899    0    0]\n",
            " [   0 4074    0]\n",
            " [   0    0   59]]\n"
          ],
          "name": "stdout"
        },
        {
          "output_type": "stream",
          "text": [
            "/usr/local/lib/python3.6/dist-packages/sklearn/model_selection/_validation.py:515: DataConversionWarning: A column-vector y was passed when a 1d array was expected. Please change the shape of y to (n_samples,), for example using ravel().\n",
            "  estimator.fit(X_train, y_train, **fit_params)\n",
            "/usr/local/lib/python3.6/dist-packages/sklearn/model_selection/_validation.py:515: DataConversionWarning: A column-vector y was passed when a 1d array was expected. Please change the shape of y to (n_samples,), for example using ravel().\n",
            "  estimator.fit(X_train, y_train, **fit_params)\n",
            "/usr/local/lib/python3.6/dist-packages/sklearn/model_selection/_validation.py:515: DataConversionWarning: A column-vector y was passed when a 1d array was expected. Please change the shape of y to (n_samples,), for example using ravel().\n",
            "  estimator.fit(X_train, y_train, **fit_params)\n",
            "/usr/local/lib/python3.6/dist-packages/sklearn/model_selection/_validation.py:515: DataConversionWarning: A column-vector y was passed when a 1d array was expected. Please change the shape of y to (n_samples,), for example using ravel().\n",
            "  estimator.fit(X_train, y_train, **fit_params)\n",
            "/usr/local/lib/python3.6/dist-packages/sklearn/model_selection/_validation.py:515: DataConversionWarning: A column-vector y was passed when a 1d array was expected. Please change the shape of y to (n_samples,), for example using ravel().\n",
            "  estimator.fit(X_train, y_train, **fit_params)\n",
            "/usr/local/lib/python3.6/dist-packages/sklearn/model_selection/_validation.py:515: DataConversionWarning: A column-vector y was passed when a 1d array was expected. Please change the shape of y to (n_samples,), for example using ravel().\n",
            "  estimator.fit(X_train, y_train, **fit_params)\n",
            "/usr/local/lib/python3.6/dist-packages/sklearn/model_selection/_validation.py:515: DataConversionWarning: A column-vector y was passed when a 1d array was expected. Please change the shape of y to (n_samples,), for example using ravel().\n",
            "  estimator.fit(X_train, y_train, **fit_params)\n",
            "/usr/local/lib/python3.6/dist-packages/sklearn/model_selection/_validation.py:515: DataConversionWarning: A column-vector y was passed when a 1d array was expected. Please change the shape of y to (n_samples,), for example using ravel().\n",
            "  estimator.fit(X_train, y_train, **fit_params)\n",
            "/usr/local/lib/python3.6/dist-packages/sklearn/model_selection/_validation.py:515: DataConversionWarning: A column-vector y was passed when a 1d array was expected. Please change the shape of y to (n_samples,), for example using ravel().\n",
            "  estimator.fit(X_train, y_train, **fit_params)\n",
            "/usr/local/lib/python3.6/dist-packages/sklearn/model_selection/_validation.py:515: DataConversionWarning: A column-vector y was passed when a 1d array was expected. Please change the shape of y to (n_samples,), for example using ravel().\n",
            "  estimator.fit(X_train, y_train, **fit_params)\n"
          ],
          "name": "stderr"
        },
        {
          "output_type": "stream",
          "text": [
            "\n",
            "Cross validation of random forest:   1.0\n"
          ],
          "name": "stdout"
        }
      ]
    },
    {
      "cell_type": "markdown",
      "metadata": {
        "id": "-v9axAtCZ2_x",
        "colab_type": "text"
      },
      "source": [
        "# Feature Engineering of the variables using Recursive Feature Elimination"
      ]
    },
    {
      "cell_type": "code",
      "metadata": {
        "id": "98lUYrX5mdK-",
        "colab_type": "code",
        "outputId": "3f0aeb11-cb10-46a2-92db-0364f39fc525",
        "colab": {
          "base_uri": "https://localhost:8080/",
          "height": 332
        }
      },
      "source": [
        "x = df[['Tax Year', 'Place of Residence', 'Country', 'State',\n",
        "       'County', 'Income Class', 'Number of All Returns',\n",
        "       'NY AGI of All Returns (in thousands) *',\n",
        "       'Deductions of All Returns (in thousands)',\n",
        "       'Dependent Exemptions of All Returns (in thousands)',\n",
        "       'Taxable Income of All Returns (in thousands)',\n",
        "       'Tax Before Credits of All Returns (in thousands)',\n",
        "       'Tax Liability of All Returns (in thousands) **',\n",
        "       'Place of Residence Sort Order', 'Income Class Sort Order']]\n",
        "y = df[['Resident Type']]\n",
        "\n",
        "from sklearn.model_selection import train_test_split\n",
        "xtrain, xtest, ytrain, ytest = train_test_split(x, y, test_size = 0.3, shuffle = True)\n",
        "\n",
        "\n",
        "from sklearn.linear_model import LinearRegression\n",
        "eng_model = LinearRegression().fit(xtrain, ytrain)\n",
        "\n",
        "\n",
        "from sklearn.feature_selection import RFE\n",
        "selector = RFE(eng_model, 5, step=1)\n",
        "selector = selector.fit(x,y)\n",
        "\n",
        "l1 = selector.ranking_\n",
        "l2 = x.columns\n",
        "\n",
        "for i in zip(l1,l2):\n",
        "  print(i)"
      ],
      "execution_count": 131,
      "outputs": [
        {
          "output_type": "stream",
          "text": [
            "(1, 'Tax Year')\n",
            "(2, 'Place of Residence')\n",
            "(1, 'Country')\n",
            "(1, 'State')\n",
            "(1, 'County')\n",
            "(4, 'Income Class')\n",
            "(6, 'Number of All Returns')\n",
            "(10, 'NY AGI of All Returns (in thousands) *')\n",
            "(11, 'Deductions of All Returns (in thousands)')\n",
            "(5, 'Dependent Exemptions of All Returns (in thousands)')\n",
            "(9, 'Taxable Income of All Returns (in thousands)')\n",
            "(8, 'Tax Before Credits of All Returns (in thousands)')\n",
            "(7, 'Tax Liability of All Returns (in thousands) **')\n",
            "(1, 'Place of Residence Sort Order')\n",
            "(3, 'Income Class Sort Order')\n"
          ],
          "name": "stdout"
        },
        {
          "output_type": "stream",
          "text": [
            "/usr/local/lib/python3.6/dist-packages/sklearn/utils/validation.py:760: DataConversionWarning: A column-vector y was passed when a 1d array was expected. Please change the shape of y to (n_samples, ), for example using ravel().\n",
            "  y = column_or_1d(y, warn=True)\n"
          ],
          "name": "stderr"
        }
      ]
    },
    {
      "cell_type": "markdown",
      "metadata": {
        "id": "A5vy2HmEvbZu",
        "colab_type": "text"
      },
      "source": [
        "## By Using top five Feature engineering varible to fit the models instead of fifteen. \n",
        "\n",
        "So using this five features instead using fifteen is very important in machine learning to get the accuracy, precision and recall score by using the minimum features and here i have managed to do that."
      ]
    },
    {
      "cell_type": "code",
      "metadata": {
        "id": "IlboEIuJ50_O",
        "colab_type": "code",
        "outputId": "f27f0e25-cb01-4845-c840-72e6fd372b19",
        "colab": {
          "base_uri": "https://localhost:8080/",
          "height": 1000
        }
      },
      "source": [
        "x = df[['Tax Year','Country','State','County','Place of Residence Sort Order']]\n",
        "y = df[['Resident Type']]\n",
        "\n",
        "decision_tree()\n",
        "random_forest()"
      ],
      "execution_count": 132,
      "outputs": [
        {
          "output_type": "stream",
          "text": [
            "\n",
            "**decision tree**\n",
            "\n",
            "train score 1.0\n",
            "test score 1.0\n",
            "classification_report\n",
            "                precision    recall  f1-score   support\n",
            "\n",
            "           0       1.00      1.00      1.00      2938\n",
            "           1       1.00      1.00      1.00      4022\n",
            "           2       1.00      1.00      1.00        72\n",
            "\n",
            "    accuracy                           1.00      7032\n",
            "   macro avg       1.00      1.00      1.00      7032\n",
            "weighted avg       1.00      1.00      1.00      7032\n",
            "\n",
            "confusion_matrix\n",
            " [[2938    0    0]\n",
            " [   0 4022    0]\n",
            " [   0    0   72]]\n",
            "\n",
            "Cross validation of decision tree:   1.0\n"
          ],
          "name": "stdout"
        },
        {
          "output_type": "stream",
          "text": [
            "/usr/local/lib/python3.6/dist-packages/ipykernel_launcher.py:9: DataConversionWarning: A column-vector y was passed when a 1d array was expected. Please change the shape of y to (n_samples,), for example using ravel().\n",
            "  if __name__ == '__main__':\n"
          ],
          "name": "stderr"
        },
        {
          "output_type": "stream",
          "text": [
            "\n",
            "**Random Forest**\n",
            "\n",
            "train score 1.0\n",
            "test score: 1.0\n",
            "classification_report\n",
            "                precision    recall  f1-score   support\n",
            "\n",
            "           0       1.00      1.00      1.00      2902\n",
            "           1       1.00      1.00      1.00      4069\n",
            "           2       1.00      1.00      1.00        61\n",
            "\n",
            "    accuracy                           1.00      7032\n",
            "   macro avg       1.00      1.00      1.00      7032\n",
            "weighted avg       1.00      1.00      1.00      7032\n",
            "\n",
            "confusion_matrix\n",
            " [[2902    0    0]\n",
            " [   0 4069    0]\n",
            " [   0    0   61]]\n"
          ],
          "name": "stdout"
        },
        {
          "output_type": "stream",
          "text": [
            "/usr/local/lib/python3.6/dist-packages/sklearn/model_selection/_validation.py:515: DataConversionWarning: A column-vector y was passed when a 1d array was expected. Please change the shape of y to (n_samples,), for example using ravel().\n",
            "  estimator.fit(X_train, y_train, **fit_params)\n",
            "/usr/local/lib/python3.6/dist-packages/sklearn/model_selection/_validation.py:515: DataConversionWarning: A column-vector y was passed when a 1d array was expected. Please change the shape of y to (n_samples,), for example using ravel().\n",
            "  estimator.fit(X_train, y_train, **fit_params)\n",
            "/usr/local/lib/python3.6/dist-packages/sklearn/model_selection/_validation.py:515: DataConversionWarning: A column-vector y was passed when a 1d array was expected. Please change the shape of y to (n_samples,), for example using ravel().\n",
            "  estimator.fit(X_train, y_train, **fit_params)\n",
            "/usr/local/lib/python3.6/dist-packages/sklearn/model_selection/_validation.py:515: DataConversionWarning: A column-vector y was passed when a 1d array was expected. Please change the shape of y to (n_samples,), for example using ravel().\n",
            "  estimator.fit(X_train, y_train, **fit_params)\n",
            "/usr/local/lib/python3.6/dist-packages/sklearn/model_selection/_validation.py:515: DataConversionWarning: A column-vector y was passed when a 1d array was expected. Please change the shape of y to (n_samples,), for example using ravel().\n",
            "  estimator.fit(X_train, y_train, **fit_params)\n",
            "/usr/local/lib/python3.6/dist-packages/sklearn/model_selection/_validation.py:515: DataConversionWarning: A column-vector y was passed when a 1d array was expected. Please change the shape of y to (n_samples,), for example using ravel().\n",
            "  estimator.fit(X_train, y_train, **fit_params)\n",
            "/usr/local/lib/python3.6/dist-packages/sklearn/model_selection/_validation.py:515: DataConversionWarning: A column-vector y was passed when a 1d array was expected. Please change the shape of y to (n_samples,), for example using ravel().\n",
            "  estimator.fit(X_train, y_train, **fit_params)\n",
            "/usr/local/lib/python3.6/dist-packages/sklearn/model_selection/_validation.py:515: DataConversionWarning: A column-vector y was passed when a 1d array was expected. Please change the shape of y to (n_samples,), for example using ravel().\n",
            "  estimator.fit(X_train, y_train, **fit_params)\n",
            "/usr/local/lib/python3.6/dist-packages/sklearn/model_selection/_validation.py:515: DataConversionWarning: A column-vector y was passed when a 1d array was expected. Please change the shape of y to (n_samples,), for example using ravel().\n",
            "  estimator.fit(X_train, y_train, **fit_params)\n",
            "/usr/local/lib/python3.6/dist-packages/sklearn/model_selection/_validation.py:515: DataConversionWarning: A column-vector y was passed when a 1d array was expected. Please change the shape of y to (n_samples,), for example using ravel().\n",
            "  estimator.fit(X_train, y_train, **fit_params)\n"
          ],
          "name": "stderr"
        },
        {
          "output_type": "stream",
          "text": [
            "\n",
            "Cross validation of random forest:   1.0\n"
          ],
          "name": "stdout"
        }
      ]
    },
    {
      "cell_type": "markdown",
      "metadata": {
        "id": "stq-5cTS7V5t",
        "colab_type": "text"
      },
      "source": [
        "## Ploting of the confusion matrix to show the models gets the exact values of the Resident types."
      ]
    },
    {
      "cell_type": "code",
      "metadata": {
        "id": "ys3NTKwrkbsm",
        "colab_type": "code",
        "outputId": "226012c4-1c18-44e7-a94c-106aaff3e5a0",
        "colab": {
          "base_uri": "https://localhost:8080/",
          "height": 293
        }
      },
      "source": [
        "import itertools\n",
        "name_model = ['Decision Tree','Random Forest']\n",
        "models = [dec_clf,random_clf]\n",
        "length = len(models)\n",
        "\n",
        "fig = plt.figure(figsize=(13,15))\n",
        "fig.set_facecolor(\"#F3F3F3\")\n",
        "for i,j,k in itertools.zip_longest(models,range(length),name_model) :\n",
        "    plt.subplot(4,3,j+1)\n",
        "    predictions = i.predict(xtest)\n",
        "    from sklearn.metrics import confusion_matrix\n",
        "    conf_matrix = confusion_matrix(predictions,ytest)\n",
        "    sn.heatmap(conf_matrix,annot=True,fmt = \"d\",square = True,\n",
        "                xticklabels='auto',\n",
        "                yticklabels='auto',\n",
        "                linewidths = 2,linecolor = \"w\",cmap = \"Blues\")\n",
        "    plt.title(k,color = \"b\")\n",
        "    plt.subplots_adjust(wspace = .3,hspace = .3)\n",
        "\n",
        "print(\"0 - Full-Year Resident\", \"\\n1 - Full Year Non-resident\", \"\\n2 - Part-Year Non-resident\\n\")"
      ],
      "execution_count": 144,
      "outputs": [
        {
          "output_type": "stream",
          "text": [
            "0 - Full-Year Resident \n",
            "1 - Full Year Non-resident \n",
            "2 - Part-Year Non-resident\n",
            "\n"
          ],
          "name": "stdout"
        },
        {
          "output_type": "display_data",
          "data": {
            "image/png": "[encoded data removed]",
            "text/plain": [
              "<Figure size 936x1080 with 4 Axes>"
            ]
          },
          "metadata": {
            "tags": []
          }
        }
      ]
    },
    {
      "cell_type": "markdown",
      "metadata": {
        "id": "XpVhcJwNHk4S",
        "colab_type": "text"
      },
      "source": [
        "# Conclusion: \n",
        "The main moto to do this kind of study is to see how the features is effects the dataset. By using the most effective features and get the highest accuracy and is more valuabable then getting the highest accuracy or recall by using all the variables."
      ]
    }
  ]
}