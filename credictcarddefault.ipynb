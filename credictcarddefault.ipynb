{
  "nbformat": 4,
  "nbformat_minor": 0,
  "metadata": {
    "colab": {
      "name": "credictcarddefault",
      "provenance": [],
      "collapsed_sections": [],
      "authorship_tag": "ABX9TyMKEtawsntGfhEiy0XYdD/F",
      "include_colab_link": true
    },
    "kernelspec": {
      "name": "python3",
      "display_name": "Python 3"
    }
  },
  "cells": [
    {
      "cell_type": "markdown",
      "metadata": {
        "id": "view-in-github",
        "colab_type": "text"
      },
      "source": [
        "<a href=\"https://colab.research.google.com/github/Divya-Gajjar/Colab_repository/blob/master/credictcarddefault.ipynb\" target=\"_parent\"><img src=\"https://colab.research.google.com/assets/colab-badge.svg\" alt=\"Open In Colab\"/></a>"
      ]
    },
    {
      "cell_type": "markdown",
      "metadata": {
        "id": "6m81VIEstwQb",
        "colab_type": "text"
      },
      "source": [
        "# This Notebook is about Credit Card Fraud Detection.\n"
      ]
    },
    {
      "cell_type": "markdown",
      "metadata": {
        "id": "32N6pAKhuJMX",
        "colab_type": "text"
      },
      "source": [
        "# Overall scenario of this notebook is:\n",
        "\n",
        "This is a classification problem statement, where have to make the model to predict the correct fraud of the credict card and to get best fitted model for that. Best fitted model is also mean that the recall of that model have to be the best.\n",
        "\n",
        "comparing the models like logistic regression, decision tree and random forest with all the variables and  the most valuable top 10 variables from feature engineering method to get the best results.\n",
        "\n"
      ]
    },
    {
      "cell_type": "markdown",
      "metadata": {
        "id": "98THkS1FIDYy",
        "colab_type": "text"
      },
      "source": [
        "Importing the Inbuild methods from libaries of machine learning"
      ]
    },
    {
      "cell_type": "code",
      "metadata": {
        "id": "2pcd9csYf0mQ",
        "colab_type": "code",
        "colab": {}
      },
      "source": [
        "import pandas as pd\n",
        "import sklearn as sk\n",
        "import numpy as np\n",
        "import matplotlib.pyplot as plt\n",
        "import seaborn as sn\n"
      ],
      "execution_count": 0,
      "outputs": []
    },
    {
      "cell_type": "markdown",
      "metadata": {
        "id": "2Y0qtatpF9c1",
        "colab_type": "text"
      },
      "source": [
        "Read the data into the variable df"
      ]
    },
    {
      "cell_type": "code",
      "metadata": {
        "id": "S2DilrJ0m4vK",
        "colab_type": "code",
        "colab": {}
      },
      "source": [
        "df = pd.read_csv(\"/content/creditcardfraud.csv\")"
      ],
      "execution_count": 0,
      "outputs": []
    },
    {
      "cell_type": "markdown",
      "metadata": {
        "id": "QXn6NR4yGE2T",
        "colab_type": "text"
      },
      "source": [
        "check the head of the data to get the overview of data..\n",
        "\n",
        "Data of credit card fraud has all the numeric values."
      ]
    },
    {
      "cell_type": "code",
      "metadata": {
        "id": "SGkuWchmvgJn",
        "colab_type": "code",
        "outputId": "e74bf0c1-fd1f-4abf-e753-c9ad70880237",
        "colab": {
          "base_uri": "https://localhost:8080/",
          "height": 211
        }
      },
      "source": [
        "df.head()"
      ],
      "execution_count": 85,
      "outputs": [
        {
          "output_type": "execute_result",
          "data": {
            "text/html": [
              "<div>\n",
              "<style scoped>\n",
              "    .dataframe tbody tr th:only-of-type {\n",
              "        vertical-align: middle;\n",
              "    }\n",
              "\n",
              "    .dataframe tbody tr th {\n",
              "        vertical-align: top;\n",
              "    }\n",
              "\n",
              "    .dataframe thead th {\n",
              "        text-align: right;\n",
              "    }\n",
              "</style>\n",
              "<table border=\"1\" class=\"dataframe\">\n",
              "  <thead>\n",
              "    <tr style=\"text-align: right;\">\n",
              "      <th></th>\n",
              "      <th>Time</th>\n",
              "      <th>V1</th>\n",
              "      <th>V2</th>\n",
              "      <th>V3</th>\n",
              "      <th>V4</th>\n",
              "      <th>V5</th>\n",
              "      <th>V6</th>\n",
              "      <th>V7</th>\n",
              "      <th>V8</th>\n",
              "      <th>V9</th>\n",
              "      <th>V10</th>\n",
              "      <th>V11</th>\n",
              "      <th>V12</th>\n",
              "      <th>V13</th>\n",
              "      <th>V14</th>\n",
              "      <th>V15</th>\n",
              "      <th>V16</th>\n",
              "      <th>V17</th>\n",
              "      <th>V18</th>\n",
              "      <th>V19</th>\n",
              "      <th>V20</th>\n",
              "      <th>V21</th>\n",
              "      <th>V22</th>\n",
              "      <th>V23</th>\n",
              "      <th>V24</th>\n",
              "      <th>V25</th>\n",
              "      <th>V26</th>\n",
              "      <th>V27</th>\n",
              "      <th>V28</th>\n",
              "      <th>Amount</th>\n",
              "      <th>Class</th>\n",
              "    </tr>\n",
              "  </thead>\n",
              "  <tbody>\n",
              "    <tr>\n",
              "      <th>0</th>\n",
              "      <td>0.0</td>\n",
              "      <td>-1.359807</td>\n",
              "      <td>-0.072781</td>\n",
              "      <td>2.536347</td>\n",
              "      <td>1.378155</td>\n",
              "      <td>-0.338321</td>\n",
              "      <td>0.462388</td>\n",
              "      <td>0.239599</td>\n",
              "      <td>0.098698</td>\n",
              "      <td>0.363787</td>\n",
              "      <td>0.090794</td>\n",
              "      <td>-0.551600</td>\n",
              "      <td>-0.617801</td>\n",
              "      <td>-0.991390</td>\n",
              "      <td>-0.311169</td>\n",
              "      <td>1.468177</td>\n",
              "      <td>-0.470401</td>\n",
              "      <td>0.207971</td>\n",
              "      <td>0.025791</td>\n",
              "      <td>0.403993</td>\n",
              "      <td>0.251412</td>\n",
              "      <td>-0.018307</td>\n",
              "      <td>0.277838</td>\n",
              "      <td>-0.110474</td>\n",
              "      <td>0.066928</td>\n",
              "      <td>0.128539</td>\n",
              "      <td>-0.189115</td>\n",
              "      <td>0.133558</td>\n",
              "      <td>-0.021053</td>\n",
              "      <td>149.62</td>\n",
              "      <td>0</td>\n",
              "    </tr>\n",
              "    <tr>\n",
              "      <th>1</th>\n",
              "      <td>0.0</td>\n",
              "      <td>1.191857</td>\n",
              "      <td>0.266151</td>\n",
              "      <td>0.166480</td>\n",
              "      <td>0.448154</td>\n",
              "      <td>0.060018</td>\n",
              "      <td>-0.082361</td>\n",
              "      <td>-0.078803</td>\n",
              "      <td>0.085102</td>\n",
              "      <td>-0.255425</td>\n",
              "      <td>-0.166974</td>\n",
              "      <td>1.612727</td>\n",
              "      <td>1.065235</td>\n",
              "      <td>0.489095</td>\n",
              "      <td>-0.143772</td>\n",
              "      <td>0.635558</td>\n",
              "      <td>0.463917</td>\n",
              "      <td>-0.114805</td>\n",
              "      <td>-0.183361</td>\n",
              "      <td>-0.145783</td>\n",
              "      <td>-0.069083</td>\n",
              "      <td>-0.225775</td>\n",
              "      <td>-0.638672</td>\n",
              "      <td>0.101288</td>\n",
              "      <td>-0.339846</td>\n",
              "      <td>0.167170</td>\n",
              "      <td>0.125895</td>\n",
              "      <td>-0.008983</td>\n",
              "      <td>0.014724</td>\n",
              "      <td>2.69</td>\n",
              "      <td>0</td>\n",
              "    </tr>\n",
              "    <tr>\n",
              "      <th>2</th>\n",
              "      <td>1.0</td>\n",
              "      <td>-1.358354</td>\n",
              "      <td>-1.340163</td>\n",
              "      <td>1.773209</td>\n",
              "      <td>0.379780</td>\n",
              "      <td>-0.503198</td>\n",
              "      <td>1.800499</td>\n",
              "      <td>0.791461</td>\n",
              "      <td>0.247676</td>\n",
              "      <td>-1.514654</td>\n",
              "      <td>0.207643</td>\n",
              "      <td>0.624501</td>\n",
              "      <td>0.066084</td>\n",
              "      <td>0.717293</td>\n",
              "      <td>-0.165946</td>\n",
              "      <td>2.345865</td>\n",
              "      <td>-2.890083</td>\n",
              "      <td>1.109969</td>\n",
              "      <td>-0.121359</td>\n",
              "      <td>-2.261857</td>\n",
              "      <td>0.524980</td>\n",
              "      <td>0.247998</td>\n",
              "      <td>0.771679</td>\n",
              "      <td>0.909412</td>\n",
              "      <td>-0.689281</td>\n",
              "      <td>-0.327642</td>\n",
              "      <td>-0.139097</td>\n",
              "      <td>-0.055353</td>\n",
              "      <td>-0.059752</td>\n",
              "      <td>378.66</td>\n",
              "      <td>0</td>\n",
              "    </tr>\n",
              "    <tr>\n",
              "      <th>3</th>\n",
              "      <td>1.0</td>\n",
              "      <td>-0.966272</td>\n",
              "      <td>-0.185226</td>\n",
              "      <td>1.792993</td>\n",
              "      <td>-0.863291</td>\n",
              "      <td>-0.010309</td>\n",
              "      <td>1.247203</td>\n",
              "      <td>0.237609</td>\n",
              "      <td>0.377436</td>\n",
              "      <td>-1.387024</td>\n",
              "      <td>-0.054952</td>\n",
              "      <td>-0.226487</td>\n",
              "      <td>0.178228</td>\n",
              "      <td>0.507757</td>\n",
              "      <td>-0.287924</td>\n",
              "      <td>-0.631418</td>\n",
              "      <td>-1.059647</td>\n",
              "      <td>-0.684093</td>\n",
              "      <td>1.965775</td>\n",
              "      <td>-1.232622</td>\n",
              "      <td>-0.208038</td>\n",
              "      <td>-0.108300</td>\n",
              "      <td>0.005274</td>\n",
              "      <td>-0.190321</td>\n",
              "      <td>-1.175575</td>\n",
              "      <td>0.647376</td>\n",
              "      <td>-0.221929</td>\n",
              "      <td>0.062723</td>\n",
              "      <td>0.061458</td>\n",
              "      <td>123.50</td>\n",
              "      <td>0</td>\n",
              "    </tr>\n",
              "    <tr>\n",
              "      <th>4</th>\n",
              "      <td>2.0</td>\n",
              "      <td>-1.158233</td>\n",
              "      <td>0.877737</td>\n",
              "      <td>1.548718</td>\n",
              "      <td>0.403034</td>\n",
              "      <td>-0.407193</td>\n",
              "      <td>0.095921</td>\n",
              "      <td>0.592941</td>\n",
              "      <td>-0.270533</td>\n",
              "      <td>0.817739</td>\n",
              "      <td>0.753074</td>\n",
              "      <td>-0.822843</td>\n",
              "      <td>0.538196</td>\n",
              "      <td>1.345852</td>\n",
              "      <td>-1.119670</td>\n",
              "      <td>0.175121</td>\n",
              "      <td>-0.451449</td>\n",
              "      <td>-0.237033</td>\n",
              "      <td>-0.038195</td>\n",
              "      <td>0.803487</td>\n",
              "      <td>0.408542</td>\n",
              "      <td>-0.009431</td>\n",
              "      <td>0.798278</td>\n",
              "      <td>-0.137458</td>\n",
              "      <td>0.141267</td>\n",
              "      <td>-0.206010</td>\n",
              "      <td>0.502292</td>\n",
              "      <td>0.219422</td>\n",
              "      <td>0.215153</td>\n",
              "      <td>69.99</td>\n",
              "      <td>0</td>\n",
              "    </tr>\n",
              "  </tbody>\n",
              "</table>\n",
              "</div>"
            ],
            "text/plain": [
              "   Time        V1        V2        V3  ...       V27       V28  Amount  Class\n",
              "0   0.0 -1.359807 -0.072781  2.536347  ...  0.133558 -0.021053  149.62      0\n",
              "1   0.0  1.191857  0.266151  0.166480  ... -0.008983  0.014724    2.69      0\n",
              "2   1.0 -1.358354 -1.340163  1.773209  ... -0.055353 -0.059752  378.66      0\n",
              "3   1.0 -0.966272 -0.185226  1.792993  ...  0.062723  0.061458  123.50      0\n",
              "4   2.0 -1.158233  0.877737  1.548718  ...  0.219422  0.215153   69.99      0\n",
              "\n",
              "[5 rows x 31 columns]"
            ]
          },
          "metadata": {
            "tags": []
          },
          "execution_count": 85
        }
      ]
    },
    {
      "cell_type": "markdown",
      "metadata": {
        "id": "9EiGkxVWvfpd",
        "colab_type": "text"
      },
      "source": [
        "Check whether the data has missing values or not. \n",
        "\n",
        "*Credit card fraud has no missing values.*"
      ]
    },
    {
      "cell_type": "code",
      "metadata": {
        "id": "UKYdyIJGnDYh",
        "colab_type": "code",
        "outputId": "22345ecf-2d3f-4230-de20-73eb2fa8996f",
        "colab": {
          "base_uri": "https://localhost:8080/",
          "height": 537
        }
      },
      "source": [
        "df.isnull().sum()\n"
      ],
      "execution_count": 86,
      "outputs": [
        {
          "output_type": "execute_result",
          "data": {
            "text/plain": [
              "Time      0\n",
              "V1        0\n",
              "V2        0\n",
              "V3        0\n",
              "V4        0\n",
              "V5        0\n",
              "V6        0\n",
              "V7        0\n",
              "V8        0\n",
              "V9        0\n",
              "V10       0\n",
              "V11       0\n",
              "V12       0\n",
              "V13       0\n",
              "V14       0\n",
              "V15       0\n",
              "V16       0\n",
              "V17       0\n",
              "V18       0\n",
              "V19       0\n",
              "V20       0\n",
              "V21       0\n",
              "V22       0\n",
              "V23       0\n",
              "V24       0\n",
              "V25       0\n",
              "V26       0\n",
              "V27       0\n",
              "V28       0\n",
              "Amount    0\n",
              "Class     0\n",
              "dtype: int64"
            ]
          },
          "metadata": {
            "tags": []
          },
          "execution_count": 86
        }
      ]
    },
    {
      "cell_type": "markdown",
      "metadata": {
        "id": "BYq57gmiGb3q",
        "colab_type": "text"
      },
      "source": [
        "Let's observe the data using some plot..\n",
        "\n",
        "*This is the anonymous fraud detection problem.* \n",
        "Plot of the attribute Class have an unbalanced dataset for fraud. "
      ]
    },
    {
      "cell_type": "code",
      "metadata": {
        "id": "s37h3AZBGYDh",
        "colab_type": "code",
        "colab": {
          "base_uri": "https://localhost:8080/",
          "height": 326
        },
        "outputId": "a43bdf02-d8f7-4c97-af91-347a1fbd4787"
      },
      "source": [
        "colors = [\"#0101DF\",\"#DF0101\"]\n",
        "sn.countplot('Class',data = df,palette=colors)\n",
        "plt.title(\"Class\\n(0 :No Fraud||1: Fraud)\")"
      ],
      "execution_count": 87,
      "outputs": [
        {
          "output_type": "execute_result",
          "data": {
            "text/plain": [
              "Text(0.5, 1.0, 'Class\\n(0 :No Fraud||1: Fraud)')"
            ]
          },
          "metadata": {
            "tags": []
          },
          "execution_count": 87
        },
        {
          "output_type": "display_data",
          "data": {
            "image/png": "[encoded data removed]",
            "text/plain": [
              "<Figure size 432x288 with 1 Axes>"
            ]
          },
          "metadata": {
            "tags": []
          }
        }
      ]
    },
    {
      "cell_type": "markdown",
      "metadata": {
        "id": "SZR00aPBZHHW",
        "colab_type": "text"
      },
      "source": [
        "Let's see the correlation graph of the data because it's easy to undestand.\n",
        "\n",
        "There's very low correlation between attributes, aalmost like no correlation."
      ]
    },
    {
      "cell_type": "code",
      "metadata": {
        "id": "heQyBxizk7o2",
        "colab_type": "code",
        "colab": {
          "base_uri": "https://localhost:8080/",
          "height": 302
        },
        "outputId": "d53853f6-10de-44f0-f73b-b568ae6e8a9b"
      },
      "source": [
        "corelation = df.corr()\n",
        "sn.heatmap(corelation, cmap = \"Blues\")"
      ],
      "execution_count": 89,
      "outputs": [
        {
          "output_type": "execute_result",
          "data": {
            "text/plain": [
              "<matplotlib.axes._subplots.AxesSubplot at 0x7fa52af5c9b0>"
            ]
          },
          "metadata": {
            "tags": []
          },
          "execution_count": 89
        },
        {
          "output_type": "display_data",
          "data": {
            "image/png": "[encoded data removed]",
            "text/plain": [
              "<Figure size 432x288 with 2 Axes>"
            ]
          },
          "metadata": {
            "tags": []
          }
        }
      ]
    },
    {
      "cell_type": "markdown",
      "metadata": {
        "id": "KbZrhRA1s5Nq",
        "colab_type": "text"
      },
      "source": [
        "# Modeling:\n",
        "\n",
        "There's a three function of the models are logistic regression, decision tree and random forest.\n",
        "\n",
        "Fit the models on every Features of the dataset.\n",
        "\n",
        "Feature Engineering on the data to get the most valuable features.\n",
        "\n",
        "Fit the models on most vaaluable variables. \n",
        "\n",
        "Then find out which model performs the best.\n",
        "\n",
        "and at last which model have the lowest False Negative.\n",
        "\n",
        "\n"
      ]
    },
    {
      "cell_type": "markdown",
      "metadata": {
        "id": "lcgS4vggjhDD",
        "colab_type": "text"
      },
      "source": [
        "**Logistic classification function**\n"
      ]
    },
    {
      "cell_type": "code",
      "metadata": {
        "id": "5fHX_3VKe-g_",
        "colab_type": "code",
        "colab": {}
      },
      "source": [
        "def logistic_clf():\n",
        "  global log_clf\n",
        "  \n",
        "  from sklearn.model_selection import train_test_split\n",
        "  xtrain, xtest, ytrain, ytest = train_test_split(x, y, test_size = 0.3, shuffle = True) \n",
        "  \n",
        "  from sklearn.linear_model import LogisticRegression\n",
        "  log_clf=LogisticRegression().fit(xtrain, ytrain)\n",
        "  print(\"\\n**Logistic Regression**\\n\")\n",
        "  \n",
        "  print('train accuracy',log_clf.score(xtrain,ytrain))\n",
        "  print('test accuracy',log_clf.score(xtest,ytest))\n",
        "  \n",
        "  y_pred = log_clf.predict(xtest)\n",
        "  \n",
        "  from sklearn.metrics import classification_report, confusion_matrix\n",
        "  print(\"classification report :  \\n \", classification_report(ytest, y_pred))\n",
        "  print(\"confusion matrix:\\n\",confusion_matrix(ytest,y_pred))\n",
        "  confusion_matrix = confusion_matrix(ytest, y_pred)\n",
        "  \n",
        "  return;\n"
      ],
      "execution_count": 0,
      "outputs": []
    },
    {
      "cell_type": "markdown",
      "metadata": {
        "id": "OMEZeTQ_jpYQ",
        "colab_type": "text"
      },
      "source": [
        "**Function of the Decision Tree**"
      ]
    },
    {
      "cell_type": "code",
      "metadata": {
        "id": "opNHohKbe4U5",
        "colab_type": "code",
        "colab": {}
      },
      "source": [
        "def decision_tree():\n",
        "  global dec_clf\n",
        "  from sklearn.model_selection import train_test_split\n",
        "  xtrain, xtest, ytrain, ytest = train_test_split(x, y, test_size = 0.3, shuffle = True)\n",
        "  \n",
        "  from sklearn import tree\n",
        "  dec_clf = tree.DecisionTreeClassifier().fit(xtrain, ytrain)\n",
        "  print(\"\\n**Decision Tree**\\n\")\n",
        "  \n",
        "  print('train accuracy',dec_clf.score(xtrain,ytrain))\n",
        "  print('test accuracy',dec_clf.score(xtest,ytest))\n",
        " \n",
        "  y_pred = dec_clf.predict(xtest)\n",
        "  \n",
        "  from sklearn.metrics import classification_report, confusion_matrix\n",
        "  print(\"classification report :  \\n \", classification_report(ytest, y_pred))\n",
        "  print(\"confusion matrix:\\n\",confusion_matrix(ytest,y_pred))\n",
        "  confusion_matrix = confusion_matrix(ytest, y_pred)  \n",
        "  \n",
        "  return;\n"
      ],
      "execution_count": 0,
      "outputs": []
    },
    {
      "cell_type": "markdown",
      "metadata": {
        "id": "pgb27YPijvDS",
        "colab_type": "text"
      },
      "source": [
        "**Function of Random Forest**\n",
        "\n"
      ]
    },
    {
      "cell_type": "code",
      "metadata": {
        "id": "w72XKFjmvyAK",
        "colab_type": "code",
        "colab": {}
      },
      "source": [
        "def random_forest():\n",
        "  global random_clf\n",
        "  from sklearn.model_selection import train_test_split\n",
        "  xtrain, xtest, ytrain, ytest = train_test_split(x, y, test_size = 0.3, shuffle = True)\n",
        "  from sklearn.ensemble import RandomForestClassifier\n",
        "  random_clf = RandomForestClassifier(max_depth=15, random_state=0)\n",
        "  random_clf.fit(xtrain,ytrain)\n",
        "  print(\"\\n**Random forest**\\n\")\n",
        "  \n",
        "  print('train accuracy',random_clf.score(xtrain,ytrain))\n",
        "  print('test accuracy',random_clf.score(xtest,ytest))\n",
        "  \n",
        "  y_pred = random_clf.predict(xtest)\n",
        "  \n",
        "  from sklearn.metrics import classification_report, confusion_matrix\n",
        "  print(\"classification report :  \\n \", classification_report(ytest, y_pred))\n",
        "  print(\"confusion matrix:\\n\",confusion_matrix(ytest,y_pred))\n",
        "  confusion_matrix = confusion_matrix(ytest, y_pred)  \n",
        "  \n",
        "  return;\n"
      ],
      "execution_count": 0,
      "outputs": []
    },
    {
      "cell_type": "markdown",
      "metadata": {
        "id": "807slZeSu823",
        "colab_type": "text"
      },
      "source": [
        "Using all the variables in model, best fitted model is **Random forest** and it is also have low False Negative value.  "
      ]
    },
    {
      "cell_type": "code",
      "metadata": {
        "id": "7Oq6FoEWm45k",
        "colab_type": "code",
        "colab": {
          "base_uri": "https://localhost:8080/",
          "height": 1000
        },
        "outputId": "876eb7b9-47a3-46d2-fa83-df46235aa9e6"
      },
      "source": [
        "x = df[['Time','V1','V2','V3','V4','V5','V6','V7','V8','V9','V10','V11','V12','V13','V14','V15','V16','V17','V18','V19','V20','V21','V22','V23','V24','V25','V26','V27','V28','Amount']]\n",
        "y = df[['Class']]\n",
        "logistic_clf()\n",
        "decision_tree()\n",
        "random_forest()"
      ],
      "execution_count": 93,
      "outputs": [
        {
          "output_type": "stream",
          "text": [
            "/usr/local/lib/python3.6/dist-packages/sklearn/utils/validation.py:760: DataConversionWarning: A column-vector y was passed when a 1d array was expected. Please change the shape of y to (n_samples, ), for example using ravel().\n",
            "  y = column_or_1d(y, warn=True)\n",
            "/usr/local/lib/python3.6/dist-packages/sklearn/linear_model/_logistic.py:940: ConvergenceWarning: lbfgs failed to converge (status=1):\n",
            "STOP: TOTAL NO. of ITERATIONS REACHED LIMIT.\n",
            "\n",
            "Increase the number of iterations (max_iter) or scale the data as shown in:\n",
            "    https://scikit-learn.org/stable/modules/preprocessing.html\n",
            "Please also refer to the documentation for alternative solver options:\n",
            "    https://scikit-learn.org/stable/modules/linear_model.html#logistic-regression\n",
            "  extra_warning_msg=_LOGISTIC_SOLVER_CONVERGENCE_MSG)\n"
          ],
          "name": "stderr"
        },
        {
          "output_type": "stream",
          "text": [
            "\n",
            "**Logistic Regression**\n",
            "\n",
            "train accuracy 0.9989416343973837\n",
            "test accuracy 0.9989934810341398\n",
            "classification report :  \n",
            "                precision    recall  f1-score   support\n",
            "\n",
            "           0       1.00      1.00      1.00     85307\n",
            "           1       0.69      0.66      0.68       136\n",
            "\n",
            "    accuracy                           1.00     85443\n",
            "   macro avg       0.85      0.83      0.84     85443\n",
            "weighted avg       1.00      1.00      1.00     85443\n",
            "\n",
            "confusion matrix:\n",
            " [[85267    40]\n",
            " [   46    90]]\n",
            "\n",
            "**Decision Tree**\n",
            "\n",
            "train accuracy 1.0\n",
            "test accuracy 0.9990051847430451\n",
            "classification report :  \n",
            "                precision    recall  f1-score   support\n",
            "\n",
            "           0       1.00      1.00      1.00     85297\n",
            "           1       0.70      0.72      0.71       146\n",
            "\n",
            "    accuracy                           1.00     85443\n",
            "   macro avg       0.85      0.86      0.86     85443\n",
            "weighted avg       1.00      1.00      1.00     85443\n",
            "\n",
            "confusion matrix:\n",
            " [[85253    44]\n",
            " [   41   105]]\n"
          ],
          "name": "stdout"
        },
        {
          "output_type": "stream",
          "text": [
            "/usr/local/lib/python3.6/dist-packages/ipykernel_launcher.py:7: DataConversionWarning: A column-vector y was passed when a 1d array was expected. Please change the shape of y to (n_samples,), for example using ravel().\n",
            "  import sys\n"
          ],
          "name": "stderr"
        },
        {
          "output_type": "stream",
          "text": [
            "\n",
            "**Random forest**\n",
            "\n",
            "train accuracy 0.9997592343652816\n",
            "test accuracy 0.9995669627705019\n",
            "classification report :  \n",
            "                precision    recall  f1-score   support\n",
            "\n",
            "           0       1.00      1.00      1.00     85303\n",
            "           1       0.92      0.81      0.86       140\n",
            "\n",
            "    accuracy                           1.00     85443\n",
            "   macro avg       0.96      0.90      0.93     85443\n",
            "weighted avg       1.00      1.00      1.00     85443\n",
            "\n",
            "confusion matrix:\n",
            " [[85293    10]\n",
            " [   27   113]]\n"
          ],
          "name": "stdout"
        }
      ]
    },
    {
      "cell_type": "markdown",
      "metadata": {
        "id": "-v9axAtCZ2_x",
        "colab_type": "text"
      },
      "source": [
        "Feature Engineering of the variables using Recursive Feature Elimination"
      ]
    },
    {
      "cell_type": "code",
      "metadata": {
        "id": "R6gCB6xpjJ8J",
        "colab_type": "code",
        "outputId": "ff8cf512-8b29-4ffb-d662-f130b5514d1b",
        "colab": {
          "base_uri": "https://localhost:8080/",
          "height": 590
        }
      },
      "source": [
        "#dividing data into x and y\n",
        "x = df[['Time','V1','V2','V3','V4','V5','V6','V7','V8','V9','V10','V11','V12','V13','V14','V15','V16','V17','V18','V19','V20','V21','V22','V23','V24','V25','V26','V27','V28','Amount']]\n",
        "y = df[['Class']]\n",
        "\n",
        "#build model for feature engineering\n",
        "from sklearn.model_selection import train_test_split\n",
        "xtrain, xtest, ytrain, ytest = train_test_split(x, y, test_size = 0.3, shuffle = True)\n",
        "from sklearn.ensemble import RandomForestClassifier\n",
        "random_clf = RandomForestClassifier(max_depth=15, random_state=0)\n",
        "random_clf.fit(xtrain,ytrain)\n",
        "#feature engineering\n",
        "from sklearn.feature_selection import RFE\n",
        "selector = RFE(clf,10).fit(x,y)\n",
        "l1 = selector.ranking_\n",
        "l2 = x.columns\n",
        "for i in zip(l1,l2):\n",
        "  print(i)"
      ],
      "execution_count": 144,
      "outputs": [
        {
          "output_type": "stream",
          "text": [
            "/usr/local/lib/python3.6/dist-packages/ipykernel_launcher.py:9: DataConversionWarning: A column-vector y was passed when a 1d array was expected. Please change the shape of y to (n_samples,), for example using ravel().\n",
            "  if __name__ == '__main__':\n",
            "/usr/local/lib/python3.6/dist-packages/sklearn/utils/validation.py:760: DataConversionWarning: A column-vector y was passed when a 1d array was expected. Please change the shape of y to (n_samples, ), for example using ravel().\n",
            "  y = column_or_1d(y, warn=True)\n"
          ],
          "name": "stderr"
        },
        {
          "output_type": "stream",
          "text": [
            "(11, 'Time')\n",
            "(6, 'V1')\n",
            "(20, 'V2')\n",
            "(21, 'V3')\n",
            "(2, 'V4')\n",
            "(13, 'V5')\n",
            "(16, 'V6')\n",
            "(1, 'V7')\n",
            "(8, 'V8')\n",
            "(18, 'V9')\n",
            "(1, 'V10')\n",
            "(9, 'V11')\n",
            "(1, 'V12')\n",
            "(7, 'V13')\n",
            "(1, 'V14')\n",
            "(1, 'V15')\n",
            "(1, 'V16')\n",
            "(1, 'V17')\n",
            "(19, 'V18')\n",
            "(3, 'V19')\n",
            "(4, 'V20')\n",
            "(14, 'V21')\n",
            "(5, 'V22')\n",
            "(10, 'V23')\n",
            "(1, 'V24')\n",
            "(17, 'V25')\n",
            "(1, 'V26')\n",
            "(1, 'V27')\n",
            "(12, 'V28')\n",
            "(15, 'Amount')\n"
          ],
          "name": "stdout"
        }
      ]
    },
    {
      "cell_type": "markdown",
      "metadata": {
        "id": "A5vy2HmEvbZu",
        "colab_type": "text"
      },
      "source": [
        "Using top Feature engineering varibles, best fitted model is **Random Forest** and it is also have low False Negative value. "
      ]
    },
    {
      "cell_type": "code",
      "metadata": {
        "id": "NHUMbP9AmK25",
        "colab_type": "code",
        "colab": {
          "base_uri": "https://localhost:8080/",
          "height": 980
        },
        "outputId": "8f397cea-e8c5-43b2-b114-04b31162ec3e"
      },
      "source": [
        "x = df[['V7','V10','V12','V14','V15','V16','V17','V24','V26','V27']]\n",
        "y = df[['Class']]\n",
        "logistic_clf()\n",
        "decision_tree()\n",
        "random_forest()"
      ],
      "execution_count": 145,
      "outputs": [
        {
          "output_type": "stream",
          "text": [
            "/usr/local/lib/python3.6/dist-packages/sklearn/utils/validation.py:760: DataConversionWarning: A column-vector y was passed when a 1d array was expected. Please change the shape of y to (n_samples, ), for example using ravel().\n",
            "  y = column_or_1d(y, warn=True)\n"
          ],
          "name": "stderr"
        },
        {
          "output_type": "stream",
          "text": [
            "\n",
            "**Logistic Regression**\n",
            "\n",
            "train accuracy 0.9991222086234225\n",
            "test accuracy 0.999204147794436\n",
            "classification report :  \n",
            "                precision    recall  f1-score   support\n",
            "\n",
            "           0       1.00      1.00      1.00     85301\n",
            "           1       0.90      0.58      0.71       142\n",
            "\n",
            "    accuracy                           1.00     85443\n",
            "   macro avg       0.95      0.79      0.85     85443\n",
            "weighted avg       1.00      1.00      1.00     85443\n",
            "\n",
            "confusion matrix:\n",
            " [[85292     9]\n",
            " [   59    83]]\n",
            "\n",
            "**Decision Tree**\n",
            "\n",
            "train accuracy 1.0\n",
            "test accuracy 0.9992158515033414\n",
            "classification report :  \n",
            "                precision    recall  f1-score   support\n",
            "\n",
            "           0       1.00      1.00      1.00     85302\n",
            "           1       0.75      0.78      0.77       141\n",
            "\n",
            "    accuracy                           1.00     85443\n",
            "   macro avg       0.88      0.89      0.88     85443\n",
            "weighted avg       1.00      1.00      1.00     85443\n",
            "\n",
            "confusion matrix:\n",
            " [[85266    36]\n",
            " [   31   110]]\n"
          ],
          "name": "stdout"
        },
        {
          "output_type": "stream",
          "text": [
            "/usr/local/lib/python3.6/dist-packages/ipykernel_launcher.py:7: DataConversionWarning: A column-vector y was passed when a 1d array was expected. Please change the shape of y to (n_samples,), for example using ravel().\n",
            "  import sys\n"
          ],
          "name": "stderr"
        },
        {
          "output_type": "stream",
          "text": [
            "\n",
            "**Random forest**\n",
            "\n",
            "train accuracy 0.9997943460203447\n",
            "test accuracy 0.9995318516437859\n",
            "classification report :  \n",
            "                precision    recall  f1-score   support\n",
            "\n",
            "           0       1.00      1.00      1.00     85293\n",
            "           1       0.92      0.81      0.86       150\n",
            "\n",
            "    accuracy                           1.00     85443\n",
            "   macro avg       0.96      0.90      0.93     85443\n",
            "weighted avg       1.00      1.00      1.00     85443\n",
            "\n",
            "confusion matrix:\n",
            " [[85282    11]\n",
            " [   29   121]]\n"
          ],
          "name": "stdout"
        }
      ]
    },
    {
      "cell_type": "markdown",
      "metadata": {
        "id": "GeJM3sMKOYZu",
        "colab_type": "text"
      },
      "source": [
        "# ROC Curve"
      ]
    },
    {
      "cell_type": "code",
      "metadata": {
        "id": "DiVG1xPrDSUm",
        "colab_type": "code",
        "colab": {
          "base_uri": "https://localhost:8080/",
          "height": 252
        },
        "outputId": "282b21bd-3f50-4759-f8ee-8a8299b3b86e"
      },
      "source": [
        "import itertools\n",
        "from sklearn.metrics import roc_curve,roc_auc_score,auc\n",
        "name_model = ['Logistic','Decision Tree','Random Forest']\n",
        "models = [log_clf,dec_clf,random_clf]\n",
        "length = len(models)\n",
        "fig = plt.figure(figsize=(12,16))\n",
        "#fig.set_facecolor(\"#F3F3F3\")\n",
        "for i,j,k in itertools.zip_longest(models,range(length),name_model) :\n",
        "    qx = plt.subplot(4,3,j+1)\n",
        "    probabilities = i.predict_proba(xtest)\n",
        "    predictions   = i.predict(xtest)\n",
        "    fpr,tpr,thresholds = roc_curve(ytest,probabilities[:,1])\n",
        "    plt.plot(fpr,tpr,linestyle = \"dotted\",\n",
        "             color = \"royalblue\",linewidth = 2,\n",
        "             label = \"AUC = \" + str(np.around(roc_auc_score(ytest,predictions),3)))\n",
        "    plt.plot([0,1],[0,1],linestyle = \"dashed\",\n",
        "             color = \"orangered\",linewidth = 1.5)\n",
        "    plt.fill_between(fpr,tpr,alpha = .4)\n",
        "    plt.fill_between([0,1],[0,1],color = \"w\")\n",
        "    plt.legend(loc = \"lower right\",\n",
        "               prop = {\"size\" : 12})\n",
        "    #qx.set_facecolor(\"k\")\n",
        "    plt.grid(True,alpha = .15)\n",
        "    plt.title(k,color = \"b\")\n",
        "    plt.xticks(np.arange(0,1,.3))\n",
        "    plt.yticks(np.arange(0,1,.3))"
      ],
      "execution_count": 149,
      "outputs": [
        {
          "output_type": "display_data",
          "data": {
            "image/png": "[encoded data removed]",
            "text/plain": [
              "<Figure size 864x1152 with 3 Axes>"
            ]
          },
          "metadata": {
            "tags": []
          }
        }
      ]
    },
    {
      "cell_type": "markdown",
      "metadata": {
        "id": "UU5zXtfiOf-V",
        "colab_type": "text"
      },
      "source": [
        "# Heat map of Confusion Matrix for all three models\n",
        "\n"
      ]
    },
    {
      "cell_type": "code",
      "metadata": {
        "colab_type": "code",
        "outputId": "c4933564-bbfb-4ee7-c31c-84dfccb0c81c",
        "id": "j8iIAQZhCk2G",
        "colab": {
          "base_uri": "https://localhost:8080/",
          "height": 225
        }
      },
      "source": [
        "import itertools\n",
        "name_model = ['Logistic','Decision Tree','Random Forest']\n",
        "models = [log_clf,dec_clf,random_clf]\n",
        "length = len(models)\n",
        "\n",
        "fig = plt.figure(figsize=(13,15))\n",
        "fig.set_facecolor(\"#F3F3F3\")\n",
        "for i,j,k in itertools.zip_longest(models,range(length),name_model) :\n",
        "    plt.subplot(4,3,j+1)\n",
        "    predictions = i.predict(xtest)\n",
        "    from sklearn.metrics import confusion_matrix\n",
        "    conf_matrix = confusion_matrix(predictions,ytest)\n",
        "    sn.heatmap(conf_matrix,annot=True,fmt = \"d\",square = True,\n",
        "                xticklabels=[\"not fraud\",\"fraud\"],\n",
        "                yticklabels=[\"not fraud\",\"fraud\"],\n",
        "                linewidths = 2,linecolor = \"w\",cmap = \"Blues\")\n",
        "    plt.title(k,color = \"b\")\n",
        "    plt.subplots_adjust(wspace = .3,hspace = .3)"
      ],
      "execution_count": 150,
      "outputs": [
        {
          "output_type": "display_data",
          "data": {
            "image/png": "[encoded data removed]",
            "text/plain": [
              "<Figure size 936x1080 with 6 Axes>"
            ]
          },
          "metadata": {
            "tags": []
          }
        }
      ]
    },
    {
      "cell_type": "markdown",
      "metadata": {
        "id": "_XwN0DlkOsjv",
        "colab_type": "text"
      },
      "source": [
        "# Conclusion:\n",
        "\n",
        "In Credit card fraud detection Random Forest is the Best perfomed model because it gives the almost same accuracy to other models but what matters the most in this business kind of problem statment is good recall, so this random forest model is  good at identifying the True negative and True positive as well as False Negative."
      ]
    }
  ]
}