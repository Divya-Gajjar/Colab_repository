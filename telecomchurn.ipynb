{
  "nbformat": 4,
  "nbformat_minor": 0,
  "metadata": {
    "colab": {
      "name": "telecomchurn.ipynb",
      "provenance": [],
      "collapsed_sections": [],
      "include_colab_link": true
    },
    "kernelspec": {
      "name": "python3",
      "display_name": "Python 3"
    }
  },
  "cells": [
    {
      "cell_type": "markdown",
      "metadata": {
        "id": "view-in-github",
        "colab_type": "text"
      },
      "source": [
        "<a href=\"https://colab.research.google.com/github/Divya-Gajjar/Colab_repository/blob/master/telecomchurn.ipynb\" target=\"_parent\"><img src=\"https://colab.research.google.com/assets/colab-badge.svg\" alt=\"Open In Colab\"/></a>"
      ]
    },
    {
      "cell_type": "code",
      "metadata": {
        "id": "dN0rNEqhcVf7",
        "colab_type": "code",
        "outputId": "624e9e3d-a0fa-45a5-a363-9803b4d08202",
        "colab": {
          "base_uri": "https://localhost:8080/",
          "height": 71
        }
      },
      "source": [
        "import pandas as pd\n",
        "import sklearn as sk\n",
        "import numpy as np\n",
        "import matplotlib.pyplot as plt\n",
        "import yellowbrick\n",
        "import seaborn as sns"
      ],
      "execution_count": 1,
      "outputs": [
        {
          "output_type": "stream",
          "text": [
            "/usr/local/lib/python3.6/dist-packages/sklearn/utils/deprecation.py:144: FutureWarning: The sklearn.metrics.classification module is  deprecated in version 0.22 and will be removed in version 0.24. The corresponding classes / functions should instead be imported from sklearn.metrics. Anything that cannot be imported from sklearn.metrics is now part of the private API.\n",
            "  warnings.warn(message, FutureWarning)\n"
          ],
          "name": "stderr"
        }
      ]
    },
    {
      "cell_type": "code",
      "metadata": {
        "id": "xEssoLdVdP_r",
        "colab_type": "code",
        "colab": {}
      },
      "source": [
        "df=pd.read_csv(\"/content/telecomchurn.csv\")"
      ],
      "execution_count": 0,
      "outputs": []
    },
    {
      "cell_type": "markdown",
      "metadata": {
        "id": "aZI3t-LMuuwi",
        "colab_type": "text"
      },
      "source": [
        "Preproccesing function\n"
      ]
    },
    {
      "cell_type": "code",
      "metadata": {
        "id": "t61ZX_9-oi6M",
        "colab_type": "code",
        "outputId": "a4fd3306-7335-4b28-ce68-b6fde642b5c9",
        "colab": {
          "base_uri": "https://localhost:8080/",
          "height": 1000
        }
      },
      "source": [
        "def main():\n",
        "  global df\n",
        "  print(\"\\n\\nbefore preprocessing total numbers of null values\\n\")\n",
        "  print(df.isnull().sum())\n",
        "  '''df=df.fillna(df.mean())\n",
        "  print(\"\\n\\nreplacing null numeric values with mean\\n\")\n",
        "  print(df.isnull().sum())\n",
        "  print(\"\\n\\ndroping non-numeric null values\\n\")'''\n",
        "  df = df.dropna()\n",
        "  print(df.isnull().sum())\n",
        "\n",
        "  return;\n",
        "\n",
        "main()\n"
      ],
      "execution_count": 0,
      "outputs": [
        {
          "output_type": "stream",
          "text": [
            "\n",
            "\n",
            "before preprocessing total numbers of null values\n",
            "\n",
            "CustomerID                     0\n",
            "Churn                          0\n",
            "MonthlyRevenue                25\n",
            "MonthlyMinutes                25\n",
            "TotalRecurringCharge          25\n",
            "DirectorAssistedCalls         25\n",
            "OverageMinutes                25\n",
            "RoamingCalls                  25\n",
            "PercChangeMinutes             72\n",
            "PercChangeRevenues            72\n",
            "DroppedCalls                   0\n",
            "BlockedCalls                   0\n",
            "UnansweredCalls                0\n",
            "CustomerCareCalls              0\n",
            "ThreewayCalls                  0\n",
            "ReceivedCalls                  0\n",
            "OutboundCalls                  0\n",
            "InboundCalls                   0\n",
            "PeakCallsInOut                 0\n",
            "OffPeakCallsInOut              0\n",
            "DroppedBlockedCalls            0\n",
            "CallForwardingCalls            0\n",
            "CallWaitingCalls               0\n",
            "MonthsInService                0\n",
            "UniqueSubs                     0\n",
            "ActiveSubs                     0\n",
            "ServiceArea                    8\n",
            "Handsets                       0\n",
            "HandsetModels                  0\n",
            "CurrentEquipmentDays           0\n",
            "AgeHH1                       229\n",
            "AgeHH2                       229\n",
            "ChildrenInHH                   1\n",
            "HandsetRefurbished             1\n",
            "HandsetWebCapable              1\n",
            "TruckOwner                     1\n",
            "RVOwner                        1\n",
            "Homeownership                  1\n",
            "BuysViaMailOrder               1\n",
            "RespondsToMailOffers           1\n",
            "OptOutMailings                 1\n",
            "NonUSTravel                    1\n",
            "OwnsComputer                   1\n",
            "HasCreditCard                  1\n",
            "RetentionCalls                 1\n",
            "RetentionOffersAccepted        1\n",
            "NewCellphoneUser               1\n",
            "NotNewCellphoneUser            1\n",
            "ReferralsMadeBySubscriber      1\n",
            "IncomeGroup                    1\n",
            "OwnsMotorcycle                 1\n",
            "AdjustmentsToCreditRating      1\n",
            "HandsetPrice                   1\n",
            "MadeCallToRetentionTeam        1\n",
            "CreditRating                   1\n",
            "PrizmCode                      1\n",
            "Occupation                     1\n",
            "MaritalStatus                  1\n",
            "dtype: int64\n",
            "CustomerID                   0\n",
            "Churn                        0\n",
            "MonthlyRevenue               0\n",
            "MonthlyMinutes               0\n",
            "TotalRecurringCharge         0\n",
            "DirectorAssistedCalls        0\n",
            "OverageMinutes               0\n",
            "RoamingCalls                 0\n",
            "PercChangeMinutes            0\n",
            "PercChangeRevenues           0\n",
            "DroppedCalls                 0\n",
            "BlockedCalls                 0\n",
            "UnansweredCalls              0\n",
            "CustomerCareCalls            0\n",
            "ThreewayCalls                0\n",
            "ReceivedCalls                0\n",
            "OutboundCalls                0\n",
            "InboundCalls                 0\n",
            "PeakCallsInOut               0\n",
            "OffPeakCallsInOut            0\n",
            "DroppedBlockedCalls          0\n",
            "CallForwardingCalls          0\n",
            "CallWaitingCalls             0\n",
            "MonthsInService              0\n",
            "UniqueSubs                   0\n",
            "ActiveSubs                   0\n",
            "ServiceArea                  0\n",
            "Handsets                     0\n",
            "HandsetModels                0\n",
            "CurrentEquipmentDays         0\n",
            "AgeHH1                       0\n",
            "AgeHH2                       0\n",
            "ChildrenInHH                 0\n",
            "HandsetRefurbished           0\n",
            "HandsetWebCapable            0\n",
            "TruckOwner                   0\n",
            "RVOwner                      0\n",
            "Homeownership                0\n",
            "BuysViaMailOrder             0\n",
            "RespondsToMailOffers         0\n",
            "OptOutMailings               0\n",
            "NonUSTravel                  0\n",
            "OwnsComputer                 0\n",
            "HasCreditCard                0\n",
            "RetentionCalls               0\n",
            "RetentionOffersAccepted      0\n",
            "NewCellphoneUser             0\n",
            "NotNewCellphoneUser          0\n",
            "ReferralsMadeBySubscriber    0\n",
            "IncomeGroup                  0\n",
            "OwnsMotorcycle               0\n",
            "AdjustmentsToCreditRating    0\n",
            "HandsetPrice                 0\n",
            "MadeCallToRetentionTeam      0\n",
            "CreditRating                 0\n",
            "PrizmCode                    0\n",
            "Occupation                   0\n",
            "MaritalStatus                0\n",
            "dtype: int64\n"
          ],
          "name": "stdout"
        }
      ]
    },
    {
      "cell_type": "code",
      "metadata": {
        "id": "MdS3U77hxbxZ",
        "colab_type": "code",
        "outputId": "0f6eb47d-7d74-4f31-dc8f-a20745373a77",
        "colab": {
          "base_uri": "https://localhost:8080/",
          "height": 1000
        }
      },
      "source": [
        "df.dtypes"
      ],
      "execution_count": 0,
      "outputs": [
        {
          "output_type": "execute_result",
          "data": {
            "text/plain": [
              "CustomerID                     int64\n",
              "Churn                          int64\n",
              "MonthlyRevenue               float64\n",
              "MonthlyMinutes               float64\n",
              "TotalRecurringCharge         float64\n",
              "DirectorAssistedCalls        float64\n",
              "OverageMinutes               float64\n",
              "RoamingCalls                 float64\n",
              "PercChangeMinutes            float64\n",
              "PercChangeRevenues           float64\n",
              "DroppedCalls                 float64\n",
              "BlockedCalls                 float64\n",
              "UnansweredCalls              float64\n",
              "CustomerCareCalls            float64\n",
              "ThreewayCalls                float64\n",
              "ReceivedCalls                float64\n",
              "OutboundCalls                float64\n",
              "InboundCalls                 float64\n",
              "PeakCallsInOut               float64\n",
              "OffPeakCallsInOut            float64\n",
              "DroppedBlockedCalls          float64\n",
              "CallForwardingCalls          float64\n",
              "CallWaitingCalls             float64\n",
              "MonthsInService                int64\n",
              "UniqueSubs                     int64\n",
              "ActiveSubs                     int64\n",
              "ServiceArea                    int64\n",
              "Handsets                     float64\n",
              "HandsetModels                float64\n",
              "CurrentEquipmentDays         float64\n",
              "AgeHH1                       float64\n",
              "AgeHH2                       float64\n",
              "ChildrenInHH                   int64\n",
              "HandsetRefurbished             int64\n",
              "HandsetWebCapable              int64\n",
              "TruckOwner                     int64\n",
              "RVOwner                        int64\n",
              "Homeownership                  int64\n",
              "BuysViaMailOrder               int64\n",
              "RespondsToMailOffers           int64\n",
              "OptOutMailings                 int64\n",
              "NonUSTravel                    int64\n",
              "OwnsComputer                   int64\n",
              "HasCreditCard                  int64\n",
              "RetentionCalls                 int64\n",
              "RetentionOffersAccepted        int64\n",
              "NewCellphoneUser               int64\n",
              "NotNewCellphoneUser            int64\n",
              "ReferralsMadeBySubscriber      int64\n",
              "IncomeGroup                    int64\n",
              "OwnsMotorcycle                 int64\n",
              "AdjustmentsToCreditRating      int64\n",
              "HandsetPrice                   int64\n",
              "MadeCallToRetentionTeam        int64\n",
              "CreditRating                   int64\n",
              "PrizmCode                      int64\n",
              "Occupation                     int64\n",
              "MaritalStatus                  int64\n",
              "dtype: object"
            ]
          },
          "metadata": {
            "tags": []
          },
          "execution_count": 41
        }
      ]
    },
    {
      "cell_type": "markdown",
      "metadata": {
        "id": "7LlC1RZwwUSo",
        "colab_type": "text"
      },
      "source": [
        "label encoding for the object varibles"
      ]
    },
    {
      "cell_type": "code",
      "metadata": {
        "id": "6lnE_1T8S0-o",
        "colab_type": "code",
        "outputId": "ef28097f-a9b1-4c3f-ab6b-57883ec7218a",
        "colab": {
          "base_uri": "https://localhost:8080/",
          "height": 323
        }
      },
      "source": [
        "df.columns"
      ],
      "execution_count": 0,
      "outputs": [
        {
          "output_type": "execute_result",
          "data": {
            "text/plain": [
              "Index(['CustomerID', 'Churn', 'MonthlyRevenue', 'MonthlyMinutes',\n",
              "       'TotalRecurringCharge', 'DirectorAssistedCalls', 'OverageMinutes',\n",
              "       'RoamingCalls', 'PercChangeMinutes', 'PercChangeRevenues',\n",
              "       'DroppedCalls', 'BlockedCalls', 'UnansweredCalls', 'CustomerCareCalls',\n",
              "       'ThreewayCalls', 'ReceivedCalls', 'OutboundCalls', 'InboundCalls',\n",
              "       'PeakCallsInOut', 'OffPeakCallsInOut', 'DroppedBlockedCalls',\n",
              "       'CallForwardingCalls', 'CallWaitingCalls', 'MonthsInService',\n",
              "       'UniqueSubs', 'ActiveSubs', 'ServiceArea', 'Handsets', 'HandsetModels',\n",
              "       'CurrentEquipmentDays', 'AgeHH1', 'AgeHH2', 'ChildrenInHH',\n",
              "       'HandsetRefurbished', 'HandsetWebCapable', 'TruckOwner', 'RVOwner',\n",
              "       'Homeownership', 'BuysViaMailOrder', 'RespondsToMailOffers',\n",
              "       'OptOutMailings', 'NonUSTravel', 'OwnsComputer', 'HasCreditCard',\n",
              "       'RetentionCalls', 'RetentionOffersAccepted', 'NewCellphoneUser',\n",
              "       'NotNewCellphoneUser', 'ReferralsMadeBySubscriber', 'IncomeGroup',\n",
              "       'OwnsMotorcycle', 'AdjustmentsToCreditRating', 'HandsetPrice',\n",
              "       'MadeCallToRetentionTeam', 'CreditRating', 'PrizmCode', 'Occupation',\n",
              "       'MaritalStatus'],\n",
              "      dtype='object')"
            ]
          },
          "metadata": {
            "tags": []
          },
          "execution_count": 59
        }
      ]
    },
    {
      "cell_type": "code",
      "metadata": {
        "id": "oRNk4wI4wS_M",
        "colab_type": "code",
        "colab": {}
      },
      "source": [
        "from sklearn import preprocessing\n",
        "le = preprocessing.LabelEncoder()"
      ],
      "execution_count": 0,
      "outputs": []
    },
    {
      "cell_type": "code",
      "metadata": {
        "id": "QYFk1OmV7zDZ",
        "colab_type": "code",
        "colab": {}
      },
      "source": [
        "df['ServiceArea'] = df['ServiceArea'].astype(str)"
      ],
      "execution_count": 0,
      "outputs": []
    },
    {
      "cell_type": "code",
      "metadata": {
        "id": "mTSgqnJq0Tqg",
        "colab_type": "code",
        "colab": {}
      },
      "source": [
        "df['ServiceArea']= le.fit_transform(df['ServiceArea'])  "
      ],
      "execution_count": 0,
      "outputs": []
    },
    {
      "cell_type": "code",
      "metadata": {
        "id": "Go-6-3y90NHy",
        "colab_type": "code",
        "colab": {}
      },
      "source": [
        "df['Churn']= le.fit_transform(df['Churn']) \n",
        "df['ChildrenInHH']= le.fit_transform(df['ChildrenInHH']) \n",
        "df['HandsetRefurbished']= le.fit_transform(df['HandsetRefurbished']) \n",
        "df['HandsetWebCapable']= le.fit_transform(df['HandsetWebCapable'])  \n",
        "df['TruckOwner']= le.fit_transform(df['TruckOwner'])  \n",
        "df['RVOwner']= le.fit_transform(df['RVOwner'])  \n",
        "df['Homeownership']= le.fit_transform(df['Homeownership'])  \n",
        "df['BuysViaMailOrder']= le.fit_transform(df['BuysViaMailOrder'])  \n",
        "df['RespondsToMailOffers']= le.fit_transform(df['RespondsToMailOffers'])\n",
        "df['OptOutMailings']= le.fit_transform(df['OptOutMailings'])   \n",
        "df['NonUSTravel']= le.fit_transform(df['NonUSTravel'])   \n",
        "df['OwnsComputer']= le.fit_transform(df['OwnsComputer'])  \n",
        "df['HasCreditCard']= le.fit_transform(df['HasCreditCard']) \n",
        "df['NewCellphoneUser']= le.fit_transform(df['NewCellphoneUser'])\n",
        "df['NotNewCellphoneUser']= le.fit_transform(df['NotNewCellphoneUser'])\n",
        "df['OwnsMotorcycle']= le.fit_transform(df['OwnsMotorcycle'])\n",
        "df['HandsetPrice']= le.fit_transform(df['HandsetPrice'])\n",
        "df['MadeCallToRetentionTeam']= le.fit_transform(df['MadeCallToRetentionTeam'])\n",
        "df['CreditRating']= le.fit_transform(df['CreditRating'])\n",
        "df['PrizmCode']= le.fit_transform(df['PrizmCode'])\n",
        "df['Occupation']= le.fit_transform(df['Occupation'])\n",
        "df['MaritalStatus']= le.fit_transform(df['MaritalStatus'])"
      ],
      "execution_count": 0,
      "outputs": []
    },
    {
      "cell_type": "code",
      "metadata": {
        "id": "4hHSAKUd0gMZ",
        "colab_type": "code",
        "outputId": "0e591c47-7237-43f4-a199-c75f5645ad4e",
        "colab": {
          "base_uri": "https://localhost:8080/",
          "height": 218
        }
      },
      "source": [
        "df.head()"
      ],
      "execution_count": 0,
      "outputs": [
        {
          "output_type": "execute_result",
          "data": {
            "text/html": [
              "<div>\n",
              "<style scoped>\n",
              "    .dataframe tbody tr th:only-of-type {\n",
              "        vertical-align: middle;\n",
              "    }\n",
              "\n",
              "    .dataframe tbody tr th {\n",
              "        vertical-align: top;\n",
              "    }\n",
              "\n",
              "    .dataframe thead th {\n",
              "        text-align: right;\n",
              "    }\n",
              "</style>\n",
              "<table border=\"1\" class=\"dataframe\">\n",
              "  <thead>\n",
              "    <tr style=\"text-align: right;\">\n",
              "      <th></th>\n",
              "      <th>CustomerID</th>\n",
              "      <th>Churn</th>\n",
              "      <th>MonthlyRevenue</th>\n",
              "      <th>MonthlyMinutes</th>\n",
              "      <th>TotalRecurringCharge</th>\n",
              "      <th>DirectorAssistedCalls</th>\n",
              "      <th>OverageMinutes</th>\n",
              "      <th>RoamingCalls</th>\n",
              "      <th>PercChangeMinutes</th>\n",
              "      <th>PercChangeRevenues</th>\n",
              "      <th>DroppedCalls</th>\n",
              "      <th>BlockedCalls</th>\n",
              "      <th>UnansweredCalls</th>\n",
              "      <th>CustomerCareCalls</th>\n",
              "      <th>ThreewayCalls</th>\n",
              "      <th>ReceivedCalls</th>\n",
              "      <th>OutboundCalls</th>\n",
              "      <th>InboundCalls</th>\n",
              "      <th>PeakCallsInOut</th>\n",
              "      <th>OffPeakCallsInOut</th>\n",
              "      <th>DroppedBlockedCalls</th>\n",
              "      <th>CallForwardingCalls</th>\n",
              "      <th>CallWaitingCalls</th>\n",
              "      <th>MonthsInService</th>\n",
              "      <th>UniqueSubs</th>\n",
              "      <th>ActiveSubs</th>\n",
              "      <th>ServiceArea</th>\n",
              "      <th>Handsets</th>\n",
              "      <th>HandsetModels</th>\n",
              "      <th>CurrentEquipmentDays</th>\n",
              "      <th>AgeHH1</th>\n",
              "      <th>AgeHH2</th>\n",
              "      <th>ChildrenInHH</th>\n",
              "      <th>HandsetRefurbished</th>\n",
              "      <th>HandsetWebCapable</th>\n",
              "      <th>TruckOwner</th>\n",
              "      <th>RVOwner</th>\n",
              "      <th>Homeownership</th>\n",
              "      <th>BuysViaMailOrder</th>\n",
              "      <th>RespondsToMailOffers</th>\n",
              "      <th>OptOutMailings</th>\n",
              "      <th>NonUSTravel</th>\n",
              "      <th>OwnsComputer</th>\n",
              "      <th>HasCreditCard</th>\n",
              "      <th>RetentionCalls</th>\n",
              "      <th>RetentionOffersAccepted</th>\n",
              "      <th>NewCellphoneUser</th>\n",
              "      <th>NotNewCellphoneUser</th>\n",
              "      <th>ReferralsMadeBySubscriber</th>\n",
              "      <th>IncomeGroup</th>\n",
              "      <th>OwnsMotorcycle</th>\n",
              "      <th>AdjustmentsToCreditRating</th>\n",
              "      <th>HandsetPrice</th>\n",
              "      <th>MadeCallToRetentionTeam</th>\n",
              "      <th>CreditRating</th>\n",
              "      <th>PrizmCode</th>\n",
              "      <th>Occupation</th>\n",
              "      <th>MaritalStatus</th>\n",
              "    </tr>\n",
              "  </thead>\n",
              "  <tbody>\n",
              "    <tr>\n",
              "      <th>0</th>\n",
              "      <td>3000002</td>\n",
              "      <td>1</td>\n",
              "      <td>24.00</td>\n",
              "      <td>219.0</td>\n",
              "      <td>22.0</td>\n",
              "      <td>0.25</td>\n",
              "      <td>0.0</td>\n",
              "      <td>0.0</td>\n",
              "      <td>-157.0</td>\n",
              "      <td>-19.0</td>\n",
              "      <td>0.7</td>\n",
              "      <td>0.7</td>\n",
              "      <td>6.3</td>\n",
              "      <td>0.0</td>\n",
              "      <td>0.0</td>\n",
              "      <td>97.2</td>\n",
              "      <td>0.0</td>\n",
              "      <td>0.0</td>\n",
              "      <td>58.0</td>\n",
              "      <td>24.0</td>\n",
              "      <td>1.3</td>\n",
              "      <td>0.0</td>\n",
              "      <td>0.3</td>\n",
              "      <td>61</td>\n",
              "      <td>2</td>\n",
              "      <td>1</td>\n",
              "      <td>658</td>\n",
              "      <td>2.0</td>\n",
              "      <td>2.0</td>\n",
              "      <td>361.0</td>\n",
              "      <td>62.0</td>\n",
              "      <td>0.0</td>\n",
              "      <td>0</td>\n",
              "      <td>0</td>\n",
              "      <td>1</td>\n",
              "      <td>0</td>\n",
              "      <td>0</td>\n",
              "      <td>0</td>\n",
              "      <td>1</td>\n",
              "      <td>1</td>\n",
              "      <td>0</td>\n",
              "      <td>0</td>\n",
              "      <td>1</td>\n",
              "      <td>1</td>\n",
              "      <td>1</td>\n",
              "      <td>0</td>\n",
              "      <td>0</td>\n",
              "      <td>0</td>\n",
              "      <td>0</td>\n",
              "      <td>4</td>\n",
              "      <td>0</td>\n",
              "      <td>0</td>\n",
              "      <td>8</td>\n",
              "      <td>1</td>\n",
              "      <td>0</td>\n",
              "      <td>2</td>\n",
              "      <td>4</td>\n",
              "      <td>0</td>\n",
              "    </tr>\n",
              "    <tr>\n",
              "      <th>1</th>\n",
              "      <td>3000010</td>\n",
              "      <td>1</td>\n",
              "      <td>16.99</td>\n",
              "      <td>10.0</td>\n",
              "      <td>17.0</td>\n",
              "      <td>0.00</td>\n",
              "      <td>0.0</td>\n",
              "      <td>0.0</td>\n",
              "      <td>-4.0</td>\n",
              "      <td>0.0</td>\n",
              "      <td>0.3</td>\n",
              "      <td>0.0</td>\n",
              "      <td>2.7</td>\n",
              "      <td>0.0</td>\n",
              "      <td>0.0</td>\n",
              "      <td>0.0</td>\n",
              "      <td>0.0</td>\n",
              "      <td>0.0</td>\n",
              "      <td>5.0</td>\n",
              "      <td>1.0</td>\n",
              "      <td>0.3</td>\n",
              "      <td>0.0</td>\n",
              "      <td>0.0</td>\n",
              "      <td>58</td>\n",
              "      <td>1</td>\n",
              "      <td>1</td>\n",
              "      <td>610</td>\n",
              "      <td>2.0</td>\n",
              "      <td>1.0</td>\n",
              "      <td>1504.0</td>\n",
              "      <td>40.0</td>\n",
              "      <td>42.0</td>\n",
              "      <td>1</td>\n",
              "      <td>0</td>\n",
              "      <td>0</td>\n",
              "      <td>0</td>\n",
              "      <td>0</td>\n",
              "      <td>0</td>\n",
              "      <td>1</td>\n",
              "      <td>1</td>\n",
              "      <td>0</td>\n",
              "      <td>0</td>\n",
              "      <td>1</td>\n",
              "      <td>1</td>\n",
              "      <td>0</td>\n",
              "      <td>0</td>\n",
              "      <td>1</td>\n",
              "      <td>0</td>\n",
              "      <td>0</td>\n",
              "      <td>5</td>\n",
              "      <td>0</td>\n",
              "      <td>0</td>\n",
              "      <td>8</td>\n",
              "      <td>0</td>\n",
              "      <td>3</td>\n",
              "      <td>2</td>\n",
              "      <td>4</td>\n",
              "      <td>2</td>\n",
              "    </tr>\n",
              "    <tr>\n",
              "      <th>2</th>\n",
              "      <td>3000014</td>\n",
              "      <td>0</td>\n",
              "      <td>38.00</td>\n",
              "      <td>8.0</td>\n",
              "      <td>38.0</td>\n",
              "      <td>0.00</td>\n",
              "      <td>0.0</td>\n",
              "      <td>0.0</td>\n",
              "      <td>-2.0</td>\n",
              "      <td>0.0</td>\n",
              "      <td>0.0</td>\n",
              "      <td>0.0</td>\n",
              "      <td>0.0</td>\n",
              "      <td>0.0</td>\n",
              "      <td>0.0</td>\n",
              "      <td>0.4</td>\n",
              "      <td>0.3</td>\n",
              "      <td>0.0</td>\n",
              "      <td>1.3</td>\n",
              "      <td>3.7</td>\n",
              "      <td>0.0</td>\n",
              "      <td>0.0</td>\n",
              "      <td>0.0</td>\n",
              "      <td>60</td>\n",
              "      <td>1</td>\n",
              "      <td>1</td>\n",
              "      <td>352</td>\n",
              "      <td>1.0</td>\n",
              "      <td>1.0</td>\n",
              "      <td>1812.0</td>\n",
              "      <td>26.0</td>\n",
              "      <td>26.0</td>\n",
              "      <td>1</td>\n",
              "      <td>0</td>\n",
              "      <td>0</td>\n",
              "      <td>0</td>\n",
              "      <td>0</td>\n",
              "      <td>1</td>\n",
              "      <td>0</td>\n",
              "      <td>0</td>\n",
              "      <td>0</td>\n",
              "      <td>0</td>\n",
              "      <td>0</td>\n",
              "      <td>1</td>\n",
              "      <td>0</td>\n",
              "      <td>0</td>\n",
              "      <td>1</td>\n",
              "      <td>0</td>\n",
              "      <td>0</td>\n",
              "      <td>6</td>\n",
              "      <td>0</td>\n",
              "      <td>0</td>\n",
              "      <td>15</td>\n",
              "      <td>0</td>\n",
              "      <td>2</td>\n",
              "      <td>3</td>\n",
              "      <td>1</td>\n",
              "      <td>2</td>\n",
              "    </tr>\n",
              "    <tr>\n",
              "      <th>3</th>\n",
              "      <td>3000022</td>\n",
              "      <td>0</td>\n",
              "      <td>82.28</td>\n",
              "      <td>1312.0</td>\n",
              "      <td>75.0</td>\n",
              "      <td>1.24</td>\n",
              "      <td>0.0</td>\n",
              "      <td>0.0</td>\n",
              "      <td>157.0</td>\n",
              "      <td>8.1</td>\n",
              "      <td>52.0</td>\n",
              "      <td>7.7</td>\n",
              "      <td>76.0</td>\n",
              "      <td>4.3</td>\n",
              "      <td>1.3</td>\n",
              "      <td>200.3</td>\n",
              "      <td>370.3</td>\n",
              "      <td>147.0</td>\n",
              "      <td>555.7</td>\n",
              "      <td>303.7</td>\n",
              "      <td>59.7</td>\n",
              "      <td>0.0</td>\n",
              "      <td>22.7</td>\n",
              "      <td>59</td>\n",
              "      <td>2</td>\n",
              "      <td>2</td>\n",
              "      <td>610</td>\n",
              "      <td>9.0</td>\n",
              "      <td>4.0</td>\n",
              "      <td>458.0</td>\n",
              "      <td>30.0</td>\n",
              "      <td>0.0</td>\n",
              "      <td>0</td>\n",
              "      <td>0</td>\n",
              "      <td>1</td>\n",
              "      <td>0</td>\n",
              "      <td>0</td>\n",
              "      <td>0</td>\n",
              "      <td>1</td>\n",
              "      <td>1</td>\n",
              "      <td>0</td>\n",
              "      <td>0</td>\n",
              "      <td>0</td>\n",
              "      <td>1</td>\n",
              "      <td>0</td>\n",
              "      <td>0</td>\n",
              "      <td>1</td>\n",
              "      <td>0</td>\n",
              "      <td>0</td>\n",
              "      <td>6</td>\n",
              "      <td>0</td>\n",
              "      <td>0</td>\n",
              "      <td>0</td>\n",
              "      <td>0</td>\n",
              "      <td>3</td>\n",
              "      <td>0</td>\n",
              "      <td>3</td>\n",
              "      <td>0</td>\n",
              "    </tr>\n",
              "    <tr>\n",
              "      <th>4</th>\n",
              "      <td>3000026</td>\n",
              "      <td>1</td>\n",
              "      <td>17.14</td>\n",
              "      <td>0.0</td>\n",
              "      <td>17.0</td>\n",
              "      <td>0.00</td>\n",
              "      <td>0.0</td>\n",
              "      <td>0.0</td>\n",
              "      <td>0.0</td>\n",
              "      <td>-0.2</td>\n",
              "      <td>0.0</td>\n",
              "      <td>0.0</td>\n",
              "      <td>0.0</td>\n",
              "      <td>0.0</td>\n",
              "      <td>0.0</td>\n",
              "      <td>0.0</td>\n",
              "      <td>0.0</td>\n",
              "      <td>0.0</td>\n",
              "      <td>0.0</td>\n",
              "      <td>0.0</td>\n",
              "      <td>0.0</td>\n",
              "      <td>0.0</td>\n",
              "      <td>0.0</td>\n",
              "      <td>53</td>\n",
              "      <td>2</td>\n",
              "      <td>2</td>\n",
              "      <td>563</td>\n",
              "      <td>4.0</td>\n",
              "      <td>3.0</td>\n",
              "      <td>852.0</td>\n",
              "      <td>46.0</td>\n",
              "      <td>54.0</td>\n",
              "      <td>0</td>\n",
              "      <td>0</td>\n",
              "      <td>0</td>\n",
              "      <td>0</td>\n",
              "      <td>0</td>\n",
              "      <td>0</td>\n",
              "      <td>1</td>\n",
              "      <td>1</td>\n",
              "      <td>0</td>\n",
              "      <td>0</td>\n",
              "      <td>1</td>\n",
              "      <td>1</td>\n",
              "      <td>0</td>\n",
              "      <td>0</td>\n",
              "      <td>0</td>\n",
              "      <td>1</td>\n",
              "      <td>0</td>\n",
              "      <td>9</td>\n",
              "      <td>0</td>\n",
              "      <td>1</td>\n",
              "      <td>0</td>\n",
              "      <td>0</td>\n",
              "      <td>0</td>\n",
              "      <td>0</td>\n",
              "      <td>4</td>\n",
              "      <td>2</td>\n",
              "    </tr>\n",
              "  </tbody>\n",
              "</table>\n",
              "</div>"
            ],
            "text/plain": [
              "   CustomerID  Churn  MonthlyRevenue  ...  PrizmCode  Occupation  MaritalStatus\n",
              "0     3000002      1           24.00  ...          2           4              0\n",
              "1     3000010      1           16.99  ...          2           4              2\n",
              "2     3000014      0           38.00  ...          3           1              2\n",
              "3     3000022      0           82.28  ...          0           3              0\n",
              "4     3000026      1           17.14  ...          0           4              2\n",
              "\n",
              "[5 rows x 58 columns]"
            ]
          },
          "metadata": {
            "tags": []
          },
          "execution_count": 37
        }
      ]
    },
    {
      "cell_type": "markdown",
      "metadata": {
        "id": "SAcdaK8Nvsa9",
        "colab_type": "text"
      },
      "source": [
        "selection of x and y"
      ]
    },
    {
      "cell_type": "code",
      "metadata": {
        "id": "0w4cqVwAe9ic",
        "colab_type": "code",
        "colab": {}
      },
      "source": [
        "x = df[['CustomerID', 'MonthlyRevenue', 'MonthlyMinutes',\n",
        "       'TotalRecurringCharge', 'DirectorAssistedCalls', 'OverageMinutes',\n",
        "       'RoamingCalls', 'PercChangeMinutes', 'PercChangeRevenues',\n",
        "       'DroppedCalls', 'BlockedCalls', 'UnansweredCalls', 'CustomerCareCalls',\n",
        "       'ThreewayCalls', 'ReceivedCalls', 'OutboundCalls', 'InboundCalls',\n",
        "       'PeakCallsInOut', 'OffPeakCallsInOut', 'DroppedBlockedCalls',\n",
        "       'CallForwardingCalls', 'CallWaitingCalls', 'MonthsInService',\n",
        "       'UniqueSubs', 'ActiveSubs', 'ServiceArea', 'Handsets', 'HandsetModels',\n",
        "       'CurrentEquipmentDays', 'AgeHH1', 'AgeHH2', 'ChildrenInHH',\n",
        "       'HandsetRefurbished', 'HandsetWebCapable', 'TruckOwner', 'RVOwner',\n",
        "       'Homeownership', 'BuysViaMailOrder', 'RespondsToMailOffers',\n",
        "       'OptOutMailings', 'NonUSTravel', 'OwnsComputer', 'HasCreditCard',\n",
        "       'RetentionCalls', 'RetentionOffersAccepted', 'NewCellphoneUser',\n",
        "       'NotNewCellphoneUser', 'ReferralsMadeBySubscriber', 'IncomeGroup',\n",
        "       'OwnsMotorcycle', 'AdjustmentsToCreditRating', 'HandsetPrice',\n",
        "       'MadeCallToRetentionTeam', 'CreditRating', 'PrizmCode', 'Occupation',\n",
        "       'MaritalStatus']]\n",
        "y = df[['Churn']]"
      ],
      "execution_count": 0,
      "outputs": []
    },
    {
      "cell_type": "markdown",
      "metadata": {
        "id": "YwevXrEGAMP7",
        "colab_type": "text"
      },
      "source": [
        "Random forest model for feature engineering using all the variables"
      ]
    },
    {
      "cell_type": "code",
      "metadata": {
        "colab_type": "code",
        "id": "RAnG_5uwvE_P",
        "outputId": "7e8aaed6-4e82-41ba-e99f-b55575483d77",
        "colab": {
          "base_uri": "https://localhost:8080/",
          "height": 343
        }
      },
      "source": [
        "def main():\n",
        "  global clf\n",
        "  from sklearn.model_selection import train_test_split  \n",
        "  xtrain,xtest,ytrain,ytest=train_test_split(x,y,test_size=0.3,shuffle=True)\n",
        "  from sklearn.ensemble import RandomForestClassifier\n",
        "  clf = RandomForestClassifier()\n",
        "  clf.fit(xtrain,ytrain)\n",
        "  print(\"Randome Forest\")\n",
        "  print(\"train score\",clf.score(xtrain, ytrain))\n",
        "  print(\"test score\",clf.score(xtest, ytest))\n",
        "  y_pred = clf.predict(xtest)\n",
        "  print(\"prediction of y\",y_pred)\n",
        "  from sklearn.metrics import precision_recall_fscore_support,classification_report,confusion_matrix\n",
        "  print(\"precision, recall, f1-score and supports instead of averaging\",  precision_recall_fscore_support(ytest, y_pred, average=None))\n",
        "  print(classification_report(ytest,y_pred))\n",
        "  print(confusion_matrix(ytest,y_pred))\n",
        "  return; \n",
        "main()"
      ],
      "execution_count": 0,
      "outputs": [
        {
          "output_type": "stream",
          "text": [
            "/usr/local/lib/python3.6/dist-packages/ipykernel_launcher.py:7: DataConversionWarning: A column-vector y was passed when a 1d array was expected. Please change the shape of y to (n_samples,), for example using ravel().\n",
            "  import sys\n"
          ],
          "name": "stderr"
        },
        {
          "output_type": "stream",
          "text": [
            "Randome Forest\n",
            "train score 1.0\n",
            "test score 0.7100127280441239\n",
            "prediction of y [0 0 0 ... 0 0 0]\n",
            "precision, recall, f1-score and supports instead of averaging (array([0.719148, 0.45    ]), array([0.97383289, 0.05329386]), array([0.82733359, 0.09530113]), array([3363, 1351]))\n",
            "              precision    recall  f1-score   support\n",
            "\n",
            "           0       0.72      0.97      0.83      3363\n",
            "           1       0.45      0.05      0.10      1351\n",
            "\n",
            "    accuracy                           0.71      4714\n",
            "   macro avg       0.58      0.51      0.46      4714\n",
            "weighted avg       0.64      0.71      0.62      4714\n",
            "\n",
            "[[3275   88]\n",
            " [1279   72]]\n"
          ],
          "name": "stdout"
        }
      ]
    },
    {
      "cell_type": "markdown",
      "metadata": {
        "id": "vJ-0JV-8u1kP",
        "colab_type": "text"
      },
      "source": [
        "Feature engineering function\n"
      ]
    },
    {
      "cell_type": "code",
      "metadata": {
        "id": "RhnQxQrKaxz9",
        "colab_type": "code",
        "outputId": "c76abbba-543d-4dd9-9667-74a9a4ddc19c",
        "colab": {
          "base_uri": "https://localhost:8080/",
          "height": 1000
        }
      },
      "source": [
        "def feature_engineering():\n",
        "  feat_importances = pd.Series(clf.feature_importances_, index=x.columns)\n",
        "  feat_importances.nlargest(20).plot(kind='barh')\n",
        "  plt.show()\n",
        "  \n",
        "  from sklearn.feature_selection import RFE\n",
        "  selector = RFE(clf, 5)\n",
        "  selector = selector.fit(x,y)\n",
        "  l1 = selector.ranking_\n",
        "  l2 = x.columns\n",
        "  for i in zip(l1,l2):\n",
        "    print(i)\n",
        "  \n",
        "\n",
        "  return;\n",
        "feature_engineering()"
      ],
      "execution_count": 0,
      "outputs": [
        {
          "output_type": "display_data",
          "data": {
            "image/png": "[encoded data removed]",
            "text/plain": [
              "<Figure size 576x396 with 1 Axes>"
            ]
          },
          "metadata": {
            "tags": []
          }
        },
        {
          "output_type": "stream",
          "text": [
            "/usr/local/lib/python3.6/dist-packages/sklearn/utils/validation.py:760: DataConversionWarning: A column-vector y was passed when a 1d array was expected. Please change the shape of y to (n_samples, ), for example using ravel().\n",
            "  y = column_or_1d(y, warn=True)\n"
          ],
          "name": "stderr"
        },
        {
          "output_type": "stream",
          "text": [
            "(1, 'CustomerID')\n",
            "(1, 'MonthlyRevenue')\n",
            "(1, 'MonthlyMinutes')\n",
            "(8, 'TotalRecurringCharge')\n",
            "(19, 'DirectorAssistedCalls')\n",
            "(13, 'OverageMinutes')\n",
            "(18, 'RoamingCalls')\n",
            "(1, 'PercChangeMinutes')\n",
            "(2, 'PercChangeRevenues')\n",
            "(14, 'DroppedCalls')\n",
            "(16, 'BlockedCalls')\n",
            "(9, 'UnansweredCalls')\n",
            "(20, 'CustomerCareCalls')\n",
            "(29, 'ThreewayCalls')\n",
            "(7, 'ReceivedCalls')\n",
            "(11, 'OutboundCalls')\n",
            "(15, 'InboundCalls')\n",
            "(4, 'PeakCallsInOut')\n",
            "(6, 'OffPeakCallsInOut')\n",
            "(10, 'DroppedBlockedCalls')\n",
            "(53, 'CallForwardingCalls')\n",
            "(23, 'CallWaitingCalls')\n",
            "(5, 'MonthsInService')\n",
            "(25, 'UniqueSubs')\n",
            "(33, 'ActiveSubs')\n",
            "(3, 'ServiceArea')\n",
            "(26, 'Handsets')\n",
            "(31, 'HandsetModels')\n",
            "(1, 'CurrentEquipmentDays')\n",
            "(12, 'AgeHH1')\n",
            "(17, 'AgeHH2')\n",
            "(39, 'ChildrenInHH')\n",
            "(34, 'HandsetRefurbished')\n",
            "(36, 'HandsetWebCapable')\n",
            "(44, 'TruckOwner')\n",
            "(46, 'RVOwner')\n",
            "(40, 'Homeownership')\n",
            "(41, 'BuysViaMailOrder')\n",
            "(37, 'RespondsToMailOffers')\n",
            "(52, 'OptOutMailings')\n",
            "(48, 'NonUSTravel')\n",
            "(43, 'OwnsComputer')\n",
            "(45, 'HasCreditCard')\n",
            "(30, 'RetentionCalls')\n",
            "(50, 'RetentionOffersAccepted')\n",
            "(38, 'NewCellphoneUser')\n",
            "(42, 'NotNewCellphoneUser')\n",
            "(47, 'ReferralsMadeBySubscriber')\n",
            "(21, 'IncomeGroup')\n",
            "(51, 'OwnsMotorcycle')\n",
            "(49, 'AdjustmentsToCreditRating')\n",
            "(24, 'HandsetPrice')\n",
            "(35, 'MadeCallToRetentionTeam')\n",
            "(22, 'CreditRating')\n",
            "(27, 'PrizmCode')\n",
            "(28, 'Occupation')\n",
            "(32, 'MaritalStatus')\n"
          ],
          "name": "stdout"
        }
      ]
    },
    {
      "cell_type": "markdown",
      "metadata": {
        "id": "BkqTC-G0v0Xl",
        "colab_type": "text"
      },
      "source": [
        "selection of x using feature engineering"
      ]
    },
    {
      "cell_type": "code",
      "metadata": {
        "id": "Yz4Qo07SkCGS",
        "colab_type": "code",
        "colab": {}
      },
      "source": [
        "x=df[['CustomerID','MonthlyRevenue','MonthlyMinutes','PercChangeMinutes','PercChangeRevenues', 'PeakCallsInOut', 'OffPeakCallsInOut', 'MonthsInService', 'ServiceArea', 'CurrentEquipmentDays']]\n",
        "y = df[['Churn']]"
      ],
      "execution_count": 0,
      "outputs": []
    },
    {
      "cell_type": "code",
      "metadata": {
        "id": "I5VyINIYwrC2",
        "colab_type": "code",
        "colab": {}
      },
      "source": [
        "x=df[['CustomerID','MonthlyRevenue','MonthlyMinutes','PercChangeMinutes','CurrentEquipmentDays']]\n",
        "y=df[['Churn']]"
      ],
      "execution_count": 0,
      "outputs": []
    },
    {
      "cell_type": "code",
      "metadata": {
        "id": "myC9EYLJJBTk",
        "colab_type": "code",
        "outputId": "b6f0b344-f405-41a0-9512-1fd6e810fb80",
        "colab": {
          "base_uri": "https://localhost:8080/",
          "height": 345
        }
      },
      "source": [
        "df.columns\n"
      ],
      "execution_count": 0,
      "outputs": [
        {
          "output_type": "execute_result",
          "data": {
            "text/plain": [
              "Index(['CustomerID', 'Churn', 'MonthlyRevenue', 'MonthlyMinutes',\n",
              "       'TotalRecurringCharge', 'DirectorAssistedCalls', 'OverageMinutes',\n",
              "       'RoamingCalls', 'PercChangeMinutes', 'PercChangeRevenues',\n",
              "       'DroppedCalls', 'BlockedCalls', 'UnansweredCalls', 'CustomerCareCalls',\n",
              "       'ThreewayCalls', 'ReceivedCalls', 'OutboundCalls', 'InboundCalls',\n",
              "       'PeakCallsInOut', 'OffPeakCallsInOut', 'DroppedBlockedCalls',\n",
              "       'CallForwardingCalls', 'CallWaitingCalls', 'MonthsInService',\n",
              "       'UniqueSubs', 'ActiveSubs', 'ServiceArea', 'Handsets', 'HandsetModels',\n",
              "       'CurrentEquipmentDays', 'AgeHH1', 'AgeHH2', 'ChildrenInHH',\n",
              "       'HandsetRefurbished', 'HandsetWebCapable', 'TruckOwner', 'RVOwner',\n",
              "       'Homeownership', 'BuysViaMailOrder', 'RespondsToMailOffers',\n",
              "       'OptOutMailings', 'NonUSTravel', 'OwnsComputer', 'HasCreditCard',\n",
              "       'RetentionCalls', 'RetentionOffersAccepted', 'NewCellphoneUser',\n",
              "       'NotNewCellphoneUser', 'ReferralsMadeBySubscriber', 'IncomeGroup',\n",
              "       'OwnsMotorcycle', 'AdjustmentsToCreditRating', 'HandsetPrice',\n",
              "       'MadeCallToRetentionTeam', 'CreditRating', 'PrizmCode', 'Occupation',\n",
              "       'MaritalStatus'],\n",
              "      dtype='object')"
            ]
          },
          "metadata": {
            "tags": []
          },
          "execution_count": 43
        }
      ]
    },
    {
      "cell_type": "code",
      "metadata": {
        "id": "qmfKeFC1I2gh",
        "colab_type": "code",
        "colab": {}
      },
      "source": [
        "x=df[['MonthlyRevenue','MonthlyMinutes','PercChangeMinutes','PercChangeRevenues', 'PeakCallsInOut', 'OffPeakCallsInOut', 'MonthsInService', 'ServiceArea', 'CurrentEquipmentDays', 'MadeCallToRetentionTeam', 'RetentionCalls', 'RetentionOffersAccepted','CallForwardingCalls','CustomerCareCalls','UnansweredCalls','DroppedCalls','TotalRecurringCharge','CreditRating']]\n",
        "y = df[['Churn']]"
      ],
      "execution_count": 0,
      "outputs": []
    },
    {
      "cell_type": "code",
      "metadata": {
        "id": "_BqmdIzzl7kN",
        "colab_type": "code",
        "colab": {}
      },
      "source": [
        "x = df[['MonthlyRevenue','MonthlyMinutes','TotalRecurringCharge','OverageMinutes','UnansweredCalls','DroppedCalls','OutboundCalls','AgeHH1','PercChangeMinutes','PercChangeRevenues','ReceivedCalls','PeakCallsInOut','OffPeakCallsInOut','MonthsInService','ServiceArea','CurrentEquipmentDays']]"
      ],
      "execution_count": 0,
      "outputs": []
    },
    {
      "cell_type": "code",
      "metadata": {
        "id": "YDLfGjUN-kap",
        "colab_type": "code",
        "colab": {}
      },
      "source": [
        "x = df[['CustomerID','MonthlyRevenue','MonthlyMinutes','PercChangeMinutes','PercChangeRevenues', 'PeakCallsInOut', 'OffPeakCallsInOut', 'MonthsInService', 'ServiceArea', 'CurrentEquipmentDays','DroppedCalls', 'UnansweredCalls', 'CustomerCareCalls', 'RoamingCalls', 'CurrentEquipmentDays',  'Occupation',\n",
        "       'MaritalStatus']]\n",
        "y = df[['Churn']]"
      ],
      "execution_count": 0,
      "outputs": []
    },
    {
      "cell_type": "code",
      "metadata": {
        "id": "xpk8RSBwW5aq",
        "colab_type": "code",
        "colab": {}
      },
      "source": [
        "x = df[['MadeCallToRetentionTeam','RetentionCalls', 'RetentionOffersAccepted', 'HandsetWebCapable', 'CurrentEquipmentDays', 'CallForwardingCalls', 'CustomerID', 'MonthsInService', 'ServiceArea', 'TotalRecurringCharge']]\n",
        "y=df[['Churn']]"
      ],
      "execution_count": 0,
      "outputs": []
    },
    {
      "cell_type": "code",
      "metadata": {
        "id": "qm6BKk88XCQI",
        "colab_type": "code",
        "outputId": "6906cd65-af74-4fbc-ed1b-4b34f25828ad",
        "colab": {
          "base_uri": "https://localhost:8080/",
          "height": 323
        }
      },
      "source": [
        "df.columns"
      ],
      "execution_count": 0,
      "outputs": [
        {
          "output_type": "execute_result",
          "data": {
            "text/plain": [
              "Index(['CustomerID', 'Churn', 'MonthlyRevenue', 'MonthlyMinutes',\n",
              "       'TotalRecurringCharge', 'DirectorAssistedCalls', 'OverageMinutes',\n",
              "       'RoamingCalls', 'PercChangeMinutes', 'PercChangeRevenues',\n",
              "       'DroppedCalls', 'BlockedCalls', 'UnansweredCalls', 'CustomerCareCalls',\n",
              "       'ThreewayCalls', 'ReceivedCalls', 'OutboundCalls', 'InboundCalls',\n",
              "       'PeakCallsInOut', 'OffPeakCallsInOut', 'DroppedBlockedCalls',\n",
              "       'CallForwardingCalls', 'CallWaitingCalls', 'MonthsInService',\n",
              "       'UniqueSubs', 'ActiveSubs', 'ServiceArea', 'Handsets', 'HandsetModels',\n",
              "       'CurrentEquipmentDays', 'AgeHH1', 'AgeHH2', 'ChildrenInHH',\n",
              "       'HandsetRefurbished', 'HandsetWebCapable', 'TruckOwner', 'RVOwner',\n",
              "       'Homeownership', 'BuysViaMailOrder', 'RespondsToMailOffers',\n",
              "       'OptOutMailings', 'NonUSTravel', 'OwnsComputer', 'HasCreditCard',\n",
              "       'RetentionCalls', 'RetentionOffersAccepted', 'NewCellphoneUser',\n",
              "       'NotNewCellphoneUser', 'ReferralsMadeBySubscriber', 'IncomeGroup',\n",
              "       'OwnsMotorcycle', 'AdjustmentsToCreditRating', 'HandsetPrice',\n",
              "       'MadeCallToRetentionTeam', 'CreditRating', 'PrizmCode', 'Occupation',\n",
              "       'MaritalStatus'],\n",
              "      dtype='object')"
            ]
          },
          "metadata": {
            "tags": []
          },
          "execution_count": 61
        }
      ]
    },
    {
      "cell_type": "markdown",
      "metadata": {
        "id": "qFPOxccBv7_9",
        "colab_type": "text"
      },
      "source": [
        "model after feature engineering usinng for loop"
      ]
    },
    {
      "cell_type": "code",
      "metadata": {
        "id": "IRZI_Rrslikr",
        "colab_type": "code",
        "outputId": "f936b270-8ba9-43cf-abc0-adc6b9a7e3c5",
        "colab": {
          "base_uri": "https://localhost:8080/",
          "height": 707
        }
      },
      "source": [
        "def main():\n",
        "  scorelist_testing=[]\n",
        "  scorelist_training=[]\n",
        "  iteration=[]\n",
        "  for i in range (0,5):\n",
        "    from sklearn.model_selection import train_test_split\n",
        "    xtrain,xtest,ytrain,ytest=train_test_split(x,y,test_size=0.3,shuffle=True)\n",
        "    from sklearn.ensemble import RandomForestClassifier\n",
        "    clf = RandomForestClassifier(max_depth=15, random_state=0, n_estimators=100)\n",
        "    clf.fit(xtrain,ytrain)\n",
        "    scorelist_training.append(clf.score(xtrain,ytrain))\n",
        "    scorelist_testing.append(clf.score(xtest,ytest))\n",
        "    print(clf.score(xtrain,ytrain))   \n",
        "    print(clf.score(xtest,ytest))\n",
        "    iteration.append(i)\n",
        "  plt.plot(iteration,scorelist_training,label='Training_score')\n",
        "  plt.plot(iteration,scorelist_testing,label='Testing_score')\n",
        "  plt.legend()\n",
        "\n",
        "  return;\n",
        "main()"
      ],
      "execution_count": 0,
      "outputs": [
        {
          "output_type": "stream",
          "text": [
            "/usr/local/lib/python3.6/dist-packages/ipykernel_launcher.py:10: DataConversionWarning: A column-vector y was passed when a 1d array was expected. Please change the shape of y to (n_samples,), for example using ravel().\n",
            "  # Remove the CWD from sys.path while we load stuff.\n"
          ],
          "name": "stderr"
        },
        {
          "output_type": "stream",
          "text": [
            "0.8335479896964946\n",
            "0.7201933755798001\n"
          ],
          "name": "stdout"
        },
        {
          "output_type": "stream",
          "text": [
            "/usr/local/lib/python3.6/dist-packages/ipykernel_launcher.py:10: DataConversionWarning: A column-vector y was passed when a 1d array was expected. Please change the shape of y to (n_samples,), for example using ravel().\n",
            "  # Remove the CWD from sys.path while we load stuff.\n"
          ],
          "name": "stderr"
        },
        {
          "output_type": "stream",
          "text": [
            "0.8288722141337216\n",
            "0.7181028287711505\n"
          ],
          "name": "stdout"
        },
        {
          "output_type": "stream",
          "text": [
            "/usr/local/lib/python3.6/dist-packages/ipykernel_launcher.py:10: DataConversionWarning: A column-vector y was passed when a 1d array was expected. Please change the shape of y to (n_samples,), for example using ravel().\n",
            "  # Remove the CWD from sys.path while we load stuff.\n"
          ],
          "name": "stderr"
        },
        {
          "output_type": "stream",
          "text": [
            "0.828620226229141\n",
            "0.7182334879466911\n"
          ],
          "name": "stdout"
        },
        {
          "output_type": "stream",
          "text": [
            "/usr/local/lib/python3.6/dist-packages/ipykernel_launcher.py:10: DataConversionWarning: A column-vector y was passed when a 1d array was expected. Please change the shape of y to (n_samples,), for example using ravel().\n",
            "  # Remove the CWD from sys.path while we load stuff.\n"
          ],
          "name": "stderr"
        },
        {
          "output_type": "stream",
          "text": [
            "0.8316720797401724\n",
            "0.7146403606193245\n"
          ],
          "name": "stdout"
        },
        {
          "output_type": "stream",
          "text": [
            "/usr/local/lib/python3.6/dist-packages/ipykernel_launcher.py:10: DataConversionWarning: A column-vector y was passed when a 1d array was expected. Please change the shape of y to (n_samples,), for example using ravel().\n",
            "  # Remove the CWD from sys.path while we load stuff.\n"
          ],
          "name": "stderr"
        },
        {
          "output_type": "stream",
          "text": [
            "0.8277802665472057\n",
            "0.7164042594891227\n"
          ],
          "name": "stdout"
        },
        {
          "output_type": "display_data",
          "data": {
            "image/png": "[encoded data removed]",
            "text/plain": [
              "<Figure size 576x396 with 1 Axes>"
            ]
          },
          "metadata": {
            "tags": []
          }
        }
      ]
    },
    {
      "cell_type": "markdown",
      "metadata": {
        "id": "Q0warZkc9RIk",
        "colab_type": "text"
      },
      "source": [
        "from here all the processing into dataset and model starts "
      ]
    },
    {
      "cell_type": "code",
      "metadata": {
        "id": "59MIuY8gQ5dX",
        "colab_type": "code",
        "outputId": "9e426590-a64e-4299-b89c-652b31d51d1e",
        "colab": {
          "base_uri": "https://localhost:8080/",
          "height": 1000
        }
      },
      "source": [
        "x=df[['CustomerID','MonthlyRevenue','MonthlyMinutes','PercChangeMinutes','PercChangeRevenues', 'PeakCallsInOut', 'OffPeakCallsInOut', 'MonthsInService', 'ServiceArea', 'CurrentEquipmentDays']]\n",
        "y = df[['Churn']]\n",
        "for split in[2,3,4,5,6,7,8,9,10,12,14,16,18,20]:\n",
        "  from sklearn.model_selection import train_test_split  \n",
        "  xtrain,xtest,ytrain,ytest=train_test_split(x,y,test_size=0.3,shuffle=True)\n",
        "  from sklearn.ensemble import RandomForestClassifier\n",
        "  clf = RandomForestClassifier(max_depth=15, random_state=0,n_estimators=1000,min_samples_split=split)\n",
        "  clf.fit(xtrain,ytrain)\n",
        "  print(\"  split= \",split,\"\\n\")\n",
        "  print(\"train score\",clf.score(xtrain, ytrain))\n",
        "  print('clf.score',clf.score(xtest, ytest),'\\n')\n",
        "  y_pred = clf.predict(xtest)\n",
        "  from sklearn.metrics import precision_recall_fscore_support\n",
        "  print('precision_recall_fscore_support\\n',precision_recall_fscore_support(ytest, y_pred, average=None),'\\n')\n",
        "  from sklearn.metrics import classification_report\n",
        "  print('classification_report',classification_report(ytest,y_pred),'\\n')\n",
        "  from sklearn.metrics import confusion_matrix\n",
        "  print('confusion_matrix\\n',confusion_matrix(ytest,y_pred))"
      ],
      "execution_count": 0,
      "outputs": [
        {
          "output_type": "stream",
          "text": [
            "/usr/local/lib/python3.6/dist-packages/ipykernel_launcher.py:8: DataConversionWarning: A column-vector y was passed when a 1d array was expected. Please change the shape of y to (n_samples,), for example using ravel().\n",
            "  \n"
          ],
          "name": "stderr"
        },
        {
          "output_type": "stream",
          "text": [
            "  split=  2 \n",
            "\n",
            "train score 0.8328200246388173\n",
            "clf.score 0.7217612856862873 \n",
            "\n",
            "precision_recall_fscore_support\n",
            " (array([0.72877423, 0.5648855 ]), array([0.97400347, 0.08517495]), array([0.83373024, 0.14802961]), array([10963,  4344])) \n",
            "\n",
            "classification_report               precision    recall  f1-score   support\n",
            "\n",
            "           0       0.73      0.97      0.83     10963\n",
            "           1       0.56      0.09      0.15      4344\n",
            "\n",
            "    accuracy                           0.72     15307\n",
            "   macro avg       0.65      0.53      0.49     15307\n",
            "weighted avg       0.68      0.72      0.64     15307\n",
            " \n",
            "\n",
            "confusion_matrix\n",
            " [[10678   285]\n",
            " [ 3974   370]]\n"
          ],
          "name": "stdout"
        },
        {
          "output_type": "stream",
          "text": [
            "/usr/local/lib/python3.6/dist-packages/ipykernel_launcher.py:8: DataConversionWarning: A column-vector y was passed when a 1d array was expected. Please change the shape of y to (n_samples,), for example using ravel().\n",
            "  \n"
          ],
          "name": "stderr"
        },
        {
          "output_type": "stream",
          "text": [
            "  split=  3 \n",
            "\n",
            "train score 0.8268003135849479\n",
            "clf.score 0.7184948062977723 \n",
            "\n",
            "precision_recall_fscore_support\n",
            " (array([0.72759046, 0.53286713]), array([0.9695005 , 0.08746556]), array([0.83130408, 0.15026622]), array([10951,  4356])) \n",
            "\n",
            "classification_report               precision    recall  f1-score   support\n",
            "\n",
            "           0       0.73      0.97      0.83     10951\n",
            "           1       0.53      0.09      0.15      4356\n",
            "\n",
            "    accuracy                           0.72     15307\n",
            "   macro avg       0.63      0.53      0.49     15307\n",
            "weighted avg       0.67      0.72      0.64     15307\n",
            " \n",
            "\n",
            "confusion_matrix\n",
            " [[10617   334]\n",
            " [ 3975   381]]\n"
          ],
          "name": "stdout"
        },
        {
          "output_type": "stream",
          "text": [
            "/usr/local/lib/python3.6/dist-packages/ipykernel_launcher.py:8: DataConversionWarning: A column-vector y was passed when a 1d array was expected. Please change the shape of y to (n_samples,), for example using ravel().\n",
            "  \n"
          ],
          "name": "stderr"
        },
        {
          "output_type": "stream",
          "text": [
            "  split=  4 \n",
            "\n",
            "train score 0.822292529958562\n",
            "clf.score 0.7218266152740577 \n",
            "\n",
            "precision_recall_fscore_support\n",
            " (array([0.72956706, 0.55685131]), array([0.97229058, 0.08809963]), array([0.83361988, 0.15213063]), array([10971,  4336])) \n",
            "\n",
            "classification_report               precision    recall  f1-score   support\n",
            "\n",
            "           0       0.73      0.97      0.83     10971\n",
            "           1       0.56      0.09      0.15      4336\n",
            "\n",
            "    accuracy                           0.72     15307\n",
            "   macro avg       0.64      0.53      0.49     15307\n",
            "weighted avg       0.68      0.72      0.64     15307\n",
            " \n",
            "\n",
            "confusion_matrix\n",
            " [[10667   304]\n",
            " [ 3954   382]]\n"
          ],
          "name": "stdout"
        },
        {
          "output_type": "stream",
          "text": [
            "/usr/local/lib/python3.6/dist-packages/ipykernel_launcher.py:8: DataConversionWarning: A column-vector y was passed when a 1d array was expected. Please change the shape of y to (n_samples,), for example using ravel().\n",
            "  \n"
          ],
          "name": "stderr"
        },
        {
          "output_type": "stream",
          "text": [
            "  split=  5 \n",
            "\n",
            "train score 0.8159928323440475\n",
            "clf.score 0.7173188737179068 \n",
            "\n",
            "precision_recall_fscore_support\n",
            " (array([0.72282535, 0.57469244]), array([0.97778798, 0.07411605]), array([0.83119416, 0.13129894]), array([10895,  4412])) \n",
            "\n",
            "classification_report               precision    recall  f1-score   support\n",
            "\n",
            "           0       0.72      0.98      0.83     10895\n",
            "           1       0.57      0.07      0.13      4412\n",
            "\n",
            "    accuracy                           0.72     15307\n",
            "   macro avg       0.65      0.53      0.48     15307\n",
            "weighted avg       0.68      0.72      0.63     15307\n",
            " \n",
            "\n",
            "confusion_matrix\n",
            " [[10653   242]\n",
            " [ 4085   327]]\n"
          ],
          "name": "stdout"
        },
        {
          "output_type": "stream",
          "text": [
            "/usr/local/lib/python3.6/dist-packages/ipykernel_launcher.py:8: DataConversionWarning: A column-vector y was passed when a 1d array was expected. Please change the shape of y to (n_samples,), for example using ravel().\n",
            "  \n"
          ],
          "name": "stderr"
        },
        {
          "output_type": "stream",
          "text": [
            "  split=  6 \n",
            "\n",
            "train score 0.8177567476761115\n",
            "clf.score 0.7145097014437839 \n",
            "\n",
            "precision_recall_fscore_support\n",
            " (array([0.72119061, 0.5660091 ]), array([0.97364055, 0.08368858]), array([0.82861401, 0.14581704]), array([10850,  4457])) \n",
            "\n",
            "classification_report               precision    recall  f1-score   support\n",
            "\n",
            "           0       0.72      0.97      0.83     10850\n",
            "           1       0.57      0.08      0.15      4457\n",
            "\n",
            "    accuracy                           0.71     15307\n",
            "   macro avg       0.64      0.53      0.49     15307\n",
            "weighted avg       0.68      0.71      0.63     15307\n",
            " \n",
            "\n",
            "confusion_matrix\n",
            " [[10564   286]\n",
            " [ 4084   373]]\n"
          ],
          "name": "stdout"
        },
        {
          "output_type": "stream",
          "text": [
            "/usr/local/lib/python3.6/dist-packages/ipykernel_launcher.py:8: DataConversionWarning: A column-vector y was passed when a 1d array was expected. Please change the shape of y to (n_samples,), for example using ravel().\n",
            "  \n"
          ],
          "name": "stderr"
        },
        {
          "output_type": "stream",
          "text": [
            "  split=  7 \n",
            "\n",
            "train score 0.8087971777354687\n",
            "clf.score 0.7149016789704057 \n",
            "\n",
            "precision_recall_fscore_support\n",
            " (array([0.72093656, 0.57073171]), array([0.97568165, 0.07885868]), array([0.82918428, 0.13857086]), array([10856,  4451])) \n",
            "\n",
            "classification_report               precision    recall  f1-score   support\n",
            "\n",
            "           0       0.72      0.98      0.83     10856\n",
            "           1       0.57      0.08      0.14      4451\n",
            "\n",
            "    accuracy                           0.71     15307\n",
            "   macro avg       0.65      0.53      0.48     15307\n",
            "weighted avg       0.68      0.71      0.63     15307\n",
            " \n",
            "\n",
            "confusion_matrix\n",
            " [[10592   264]\n",
            " [ 4100   351]]\n"
          ],
          "name": "stdout"
        },
        {
          "output_type": "stream",
          "text": [
            "/usr/local/lib/python3.6/dist-packages/ipykernel_launcher.py:8: DataConversionWarning: A column-vector y was passed when a 1d array was expected. Please change the shape of y to (n_samples,), for example using ravel().\n",
            "  \n"
          ],
          "name": "stderr"
        },
        {
          "output_type": "stream",
          "text": [
            "  split=  8 \n",
            "\n",
            "train score 0.8070332624034047\n",
            "clf.score 0.7186254654733129 \n",
            "\n",
            "precision_recall_fscore_support\n",
            " (array([0.72410745, 0.58471761]), array([0.97706001, 0.0798367 ]), array([0.83177753, 0.14049092]), array([10898,  4409])) \n",
            "\n",
            "classification_report               precision    recall  f1-score   support\n",
            "\n",
            "           0       0.72      0.98      0.83     10898\n",
            "           1       0.58      0.08      0.14      4409\n",
            "\n",
            "    accuracy                           0.72     15307\n",
            "   macro avg       0.65      0.53      0.49     15307\n",
            "weighted avg       0.68      0.72      0.63     15307\n",
            " \n",
            "\n",
            "confusion_matrix\n",
            " [[10648   250]\n",
            " [ 4057   352]]\n"
          ],
          "name": "stdout"
        },
        {
          "output_type": "stream",
          "text": [
            "/usr/local/lib/python3.6/dist-packages/ipykernel_launcher.py:8: DataConversionWarning: A column-vector y was passed when a 1d array was expected. Please change the shape of y to (n_samples,), for example using ravel().\n",
            "  \n"
          ],
          "name": "stderr"
        },
        {
          "output_type": "stream",
          "text": [
            "  split=  9 \n",
            "\n",
            "train score 0.8031134505543734\n",
            "clf.score 0.7219572744495982 \n",
            "\n",
            "precision_recall_fscore_support\n",
            " (array([0.72784638, 0.56942004]), array([0.97767043, 0.07474048]), array([0.8344613 , 0.13213703]), array([10972,  4335])) \n",
            "\n",
            "classification_report               precision    recall  f1-score   support\n",
            "\n",
            "           0       0.73      0.98      0.83     10972\n",
            "           1       0.57      0.07      0.13      4335\n",
            "\n",
            "    accuracy                           0.72     15307\n",
            "   macro avg       0.65      0.53      0.48     15307\n",
            "weighted avg       0.68      0.72      0.64     15307\n",
            " \n",
            "\n",
            "confusion_matrix\n",
            " [[10727   245]\n",
            " [ 4011   324]]\n"
          ],
          "name": "stdout"
        },
        {
          "output_type": "stream",
          "text": [
            "/usr/local/lib/python3.6/dist-packages/ipykernel_launcher.py:8: DataConversionWarning: A column-vector y was passed when a 1d array was expected. Please change the shape of y to (n_samples,), for example using ravel().\n",
            "  \n"
          ],
          "name": "stderr"
        },
        {
          "output_type": "stream",
          "text": [
            "  split=  10 \n",
            "\n",
            "train score 0.8001735916675999\n",
            "clf.score 0.7194747501143268 \n",
            "\n",
            "precision_recall_fscore_support\n",
            " (array([0.72534587, 0.58359621]), array([0.97579536, 0.08409091]), array([0.83213448, 0.1470004 ]), array([10907,  4400])) \n",
            "\n",
            "classification_report               precision    recall  f1-score   support\n",
            "\n",
            "           0       0.73      0.98      0.83     10907\n",
            "           1       0.58      0.08      0.15      4400\n",
            "\n",
            "    accuracy                           0.72     15307\n",
            "   macro avg       0.65      0.53      0.49     15307\n",
            "weighted avg       0.68      0.72      0.64     15307\n",
            " \n",
            "\n",
            "confusion_matrix\n",
            " [[10643   264]\n",
            " [ 4030   370]]\n"
          ],
          "name": "stdout"
        },
        {
          "output_type": "stream",
          "text": [
            "/usr/local/lib/python3.6/dist-packages/ipykernel_launcher.py:8: DataConversionWarning: A column-vector y was passed when a 1d array was expected. Please change the shape of y to (n_samples,), for example using ravel().\n",
            "  \n"
          ],
          "name": "stderr"
        },
        {
          "output_type": "stream",
          "text": [
            "  split=  12 \n",
            "\n",
            "train score 0.7952738268563109\n",
            "clf.score 0.7206506826941922 \n",
            "\n",
            "precision_recall_fscore_support\n",
            " (array([0.72689561, 0.56810631]), array([0.97625354, 0.07847637]), array([0.83332034, 0.13790323]), array([10949,  4358])) \n",
            "\n",
            "classification_report               precision    recall  f1-score   support\n",
            "\n",
            "           0       0.73      0.98      0.83     10949\n",
            "           1       0.57      0.08      0.14      4358\n",
            "\n",
            "    accuracy                           0.72     15307\n",
            "   macro avg       0.65      0.53      0.49     15307\n",
            "weighted avg       0.68      0.72      0.64     15307\n",
            " \n",
            "\n",
            "confusion_matrix\n",
            " [[10689   260]\n",
            " [ 4016   342]]\n"
          ],
          "name": "stdout"
        },
        {
          "output_type": "stream",
          "text": [
            "/usr/local/lib/python3.6/dist-packages/ipykernel_launcher.py:8: DataConversionWarning: A column-vector y was passed when a 1d array was expected. Please change the shape of y to (n_samples,), for example using ravel().\n",
            "  \n"
          ],
          "name": "stderr"
        },
        {
          "output_type": "stream",
          "text": [
            "  split=  14 \n",
            "\n",
            "train score 0.7884701534326353\n",
            "clf.score 0.727967596524466 \n",
            "\n",
            "precision_recall_fscore_support\n",
            " (array([0.73381001, 0.59003215]), array([0.97688333, 0.08582788]), array([0.83807746, 0.14985708]), array([11031,  4276])) \n",
            "\n",
            "classification_report               precision    recall  f1-score   support\n",
            "\n",
            "           0       0.73      0.98      0.84     11031\n",
            "           1       0.59      0.09      0.15      4276\n",
            "\n",
            "    accuracy                           0.73     15307\n",
            "   macro avg       0.66      0.53      0.49     15307\n",
            "weighted avg       0.69      0.73      0.65     15307\n",
            " \n",
            "\n",
            "confusion_matrix\n",
            " [[10776   255]\n",
            " [ 3909   367]]\n"
          ],
          "name": "stdout"
        },
        {
          "output_type": "stream",
          "text": [
            "/usr/local/lib/python3.6/dist-packages/ipykernel_launcher.py:8: DataConversionWarning: A column-vector y was passed when a 1d array was expected. Please change the shape of y to (n_samples,), for example using ravel().\n",
            "  \n"
          ],
          "name": "stderr"
        },
        {
          "output_type": "stream",
          "text": [
            "  split=  16 \n",
            "\n",
            "train score 0.7910740284466345\n",
            "clf.score 0.717122884954596 \n",
            "\n",
            "precision_recall_fscore_support\n",
            " (array([0.72614393, 0.5369863 ]), array([0.96905612, 0.08941606]), array([0.83019608, 0.15330465]), array([10923,  4384])) \n",
            "\n",
            "classification_report               precision    recall  f1-score   support\n",
            "\n",
            "           0       0.73      0.97      0.83     10923\n",
            "           1       0.54      0.09      0.15      4384\n",
            "\n",
            "    accuracy                           0.72     15307\n",
            "   macro avg       0.63      0.53      0.49     15307\n",
            "weighted avg       0.67      0.72      0.64     15307\n",
            " \n",
            "\n",
            "confusion_matrix\n",
            " [[10585   338]\n",
            " [ 3992   392]]\n"
          ],
          "name": "stdout"
        },
        {
          "output_type": "stream",
          "text": [
            "/usr/local/lib/python3.6/dist-packages/ipykernel_launcher.py:8: DataConversionWarning: A column-vector y was passed when a 1d array was expected. Please change the shape of y to (n_samples,), for example using ravel().\n",
            "  \n"
          ],
          "name": "stderr"
        },
        {
          "output_type": "stream",
          "text": [
            "  split=  18 \n",
            "\n",
            "train score 0.782842423563669\n",
            "clf.score 0.7165349186646632 \n",
            "\n",
            "precision_recall_fscore_support\n",
            " (array([0.72122449, 0.6029654 ]), array([0.97777368, 0.08198925]), array([0.83012959, 0.14435023]), array([10843,  4464])) \n",
            "\n",
            "classification_report               precision    recall  f1-score   support\n",
            "\n",
            "           0       0.72      0.98      0.83     10843\n",
            "           1       0.60      0.08      0.14      4464\n",
            "\n",
            "    accuracy                           0.72     15307\n",
            "   macro avg       0.66      0.53      0.49     15307\n",
            "weighted avg       0.69      0.72      0.63     15307\n",
            " \n",
            "\n",
            "confusion_matrix\n",
            " [[10602   241]\n",
            " [ 4098   366]]\n"
          ],
          "name": "stdout"
        },
        {
          "output_type": "stream",
          "text": [
            "/usr/local/lib/python3.6/dist-packages/ipykernel_launcher.py:8: DataConversionWarning: A column-vector y was passed when a 1d array was expected. Please change the shape of y to (n_samples,), for example using ravel().\n",
            "  \n"
          ],
          "name": "stderr"
        },
        {
          "output_type": "stream",
          "text": [
            "  split=  20 \n",
            "\n",
            "train score 0.7795105834919924\n",
            "clf.score 0.7186254654733129 \n",
            "\n",
            "precision_recall_fscore_support\n",
            " (array([0.72545541, 0.56461538]), array([0.97407475, 0.08358005]), array([0.83158018, 0.14560603]), array([10916,  4391])) \n",
            "\n",
            "classification_report               precision    recall  f1-score   support\n",
            "\n",
            "           0       0.73      0.97      0.83     10916\n",
            "           1       0.56      0.08      0.15      4391\n",
            "\n",
            "    accuracy                           0.72     15307\n",
            "   macro avg       0.65      0.53      0.49     15307\n",
            "weighted avg       0.68      0.72      0.63     15307\n",
            " \n",
            "\n",
            "confusion_matrix\n",
            " [[10633   283]\n",
            " [ 4024   367]]\n"
          ],
          "name": "stdout"
        }
      ]
    },
    {
      "cell_type": "code",
      "metadata": {
        "id": "y27YChB2CbN6",
        "colab_type": "code",
        "outputId": "a3c2f409-1204-47c6-8de8-66fe3de08009",
        "colab": {
          "base_uri": "https://localhost:8080/",
          "height": 1000
        }
      },
      "source": [
        "x=df[['CustomerID','MonthlyRevenue','MonthlyMinutes','PercChangeMinutes','PercChangeRevenues', 'PeakCallsInOut', 'OffPeakCallsInOut', 'MonthsInService', 'ServiceArea', 'CurrentEquipmentDays']]\n",
        "y = df[['Churn']]\n",
        "for estimator in[1000,1500,2000,2500,3000]:\n",
        "  for i in range (0,3):\n",
        "    from sklearn.model_selection import train_test_split  \n",
        "    xtrain,xtest,ytrain,ytest=train_test_split(x,y,test_size=0.3,shuffle=True)\n",
        "    from sklearn.ensemble import RandomForestClassifier\n",
        "    clf = RandomForestClassifier(max_depth=15, random_state=0,n_estimators=estimator,min_samples_split=4)\n",
        "    clf.fit(xtrain,ytrain)\n",
        "    print(\"  estimator= \",estimator,\"\\n\")\n",
        "    print(\"train score\",clf.score(xtrain, ytrain))\n",
        "    print('clf.score',clf.score(xtest, ytest),'\\n')\n",
        "    y_pred = clf.predict(xtest)\n",
        "    from sklearn.metrics import classification_report\n",
        "    print('classification_report',classification_report(ytest,y_pred),'\\n')\n",
        "    from sklearn.metrics import confusion_matrix\n",
        "    print('confusion_matrix\\n',confusion_matrix(ytest,y_pred))"
      ],
      "execution_count": 0,
      "outputs": [
        {
          "output_type": "stream",
          "text": [
            "/usr/local/lib/python3.6/dist-packages/ipykernel_launcher.py:9: DataConversionWarning: A column-vector y was passed when a 1d array was expected. Please change the shape of y to (n_samples,), for example using ravel().\n",
            "  if __name__ == '__main__':\n"
          ],
          "name": "stderr"
        },
        {
          "output_type": "stream",
          "text": [
            "  estimator=  1000 \n",
            "\n",
            "train score 0.8208365998432076\n",
            "clf.score 0.7129417913372966 \n",
            "\n",
            "classification_report               precision    recall  f1-score   support\n",
            "\n",
            "           0       0.72      0.97      0.83     10837\n",
            "           1       0.56      0.08      0.14      4470\n",
            "\n",
            "    accuracy                           0.71     15307\n",
            "   macro avg       0.64      0.53      0.48     15307\n",
            "weighted avg       0.67      0.71      0.63     15307\n",
            " \n",
            "\n",
            "confusion_matrix\n",
            " [[10558   279]\n",
            " [ 4115   355]]\n"
          ],
          "name": "stdout"
        },
        {
          "output_type": "stream",
          "text": [
            "/usr/local/lib/python3.6/dist-packages/ipykernel_launcher.py:9: DataConversionWarning: A column-vector y was passed when a 1d array was expected. Please change the shape of y to (n_samples,), for example using ravel().\n",
            "  if __name__ == '__main__':\n"
          ],
          "name": "stderr"
        },
        {
          "output_type": "stream",
          "text": [
            "  estimator=  1000 \n",
            "\n",
            "train score 0.8216205622130138\n",
            "clf.score 0.7158816227869602 \n",
            "\n",
            "classification_report               precision    recall  f1-score   support\n",
            "\n",
            "           0       0.72      0.97      0.83     10912\n",
            "           1       0.53      0.08      0.15      4395\n",
            "\n",
            "    accuracy                           0.72     15307\n",
            "   macro avg       0.63      0.53      0.49     15307\n",
            "weighted avg       0.67      0.72      0.63     15307\n",
            " \n",
            "\n",
            "confusion_matrix\n",
            " [[10588   324]\n",
            " [ 4025   370]]\n"
          ],
          "name": "stdout"
        },
        {
          "output_type": "stream",
          "text": [
            "/usr/local/lib/python3.6/dist-packages/ipykernel_launcher.py:9: DataConversionWarning: A column-vector y was passed when a 1d array was expected. Please change the shape of y to (n_samples,), for example using ravel().\n",
            "  if __name__ == '__main__':\n"
          ],
          "name": "stderr"
        },
        {
          "output_type": "stream",
          "text": [
            "  estimator=  1000 \n",
            "\n",
            "train score 0.8207246052189495\n",
            "clf.score 0.7197360684654079 \n",
            "\n",
            "classification_report               precision    recall  f1-score   support\n",
            "\n",
            "           0       0.73      0.98      0.83     10943\n",
            "           1       0.56      0.08      0.14      4364\n",
            "\n",
            "    accuracy                           0.72     15307\n",
            "   macro avg       0.64      0.53      0.49     15307\n",
            "weighted avg       0.68      0.72      0.63     15307\n",
            " \n",
            "\n",
            "confusion_matrix\n",
            " [[10673   270]\n",
            " [ 4020   344]]\n"
          ],
          "name": "stdout"
        },
        {
          "output_type": "stream",
          "text": [
            "/usr/local/lib/python3.6/dist-packages/ipykernel_launcher.py:9: DataConversionWarning: A column-vector y was passed when a 1d array was expected. Please change the shape of y to (n_samples,), for example using ravel().\n",
            "  if __name__ == '__main__':\n"
          ],
          "name": "stderr"
        },
        {
          "output_type": "stream",
          "text": [
            "  estimator=  1500 \n",
            "\n",
            "train score 0.822516519207078\n",
            "clf.score 0.7167962370157445 \n",
            "\n",
            "classification_report               precision    recall  f1-score   support\n",
            "\n",
            "           0       0.72      0.97      0.83     10915\n",
            "           1       0.54      0.08      0.14      4392\n",
            "\n",
            "    accuracy                           0.72     15307\n",
            "   macro avg       0.63      0.53      0.49     15307\n",
            "weighted avg       0.67      0.72      0.63     15307\n",
            " \n",
            "\n",
            "confusion_matrix\n",
            " [[10607   308]\n",
            " [ 4027   365]]\n"
          ],
          "name": "stdout"
        },
        {
          "output_type": "stream",
          "text": [
            "/usr/local/lib/python3.6/dist-packages/ipykernel_launcher.py:9: DataConversionWarning: A column-vector y was passed when a 1d array was expected. Please change the shape of y to (n_samples,), for example using ravel().\n",
            "  if __name__ == '__main__':\n"
          ],
          "name": "stderr"
        },
        {
          "output_type": "stream",
          "text": [
            "  estimator=  1500 \n",
            "\n",
            "train score 0.8214525702766268\n",
            "clf.score 0.7174495328934475 \n",
            "\n",
            "classification_report               precision    recall  f1-score   support\n",
            "\n",
            "           0       0.72      0.98      0.83     10869\n",
            "           1       0.59      0.09      0.15      4438\n",
            "\n",
            "    accuracy                           0.72     15307\n",
            "   macro avg       0.66      0.53      0.49     15307\n",
            "weighted avg       0.68      0.72      0.63     15307\n",
            " \n",
            "\n",
            "confusion_matrix\n",
            " [[10602   267]\n",
            " [ 4058   380]]\n"
          ],
          "name": "stdout"
        },
        {
          "output_type": "stream",
          "text": [
            "/usr/local/lib/python3.6/dist-packages/ipykernel_launcher.py:9: DataConversionWarning: A column-vector y was passed when a 1d array was expected. Please change the shape of y to (n_samples,), for example using ravel().\n",
            "  if __name__ == '__main__':\n"
          ],
          "name": "stderr"
        },
        {
          "output_type": "stream",
          "text": [
            "  estimator=  1500 \n",
            "\n",
            "train score 0.8206686079068205\n",
            "clf.score 0.7156856340236493 \n",
            "\n",
            "classification_report               precision    recall  f1-score   support\n",
            "\n",
            "           0       0.72      0.98      0.83     10864\n",
            "           1       0.58      0.08      0.13      4443\n",
            "\n",
            "    accuracy                           0.72     15307\n",
            "   macro avg       0.65      0.53      0.48     15307\n",
            "weighted avg       0.68      0.72      0.63     15307\n",
            " \n",
            "\n",
            "confusion_matrix\n",
            " [[10616   248]\n",
            " [ 4104   339]]\n"
          ],
          "name": "stdout"
        },
        {
          "output_type": "stream",
          "text": [
            "/usr/local/lib/python3.6/dist-packages/ipykernel_launcher.py:9: DataConversionWarning: A column-vector y was passed when a 1d array was expected. Please change the shape of y to (n_samples,), for example using ravel().\n",
            "  if __name__ == '__main__':\n"
          ],
          "name": "stderr"
        },
        {
          "output_type": "stream",
          "text": [
            "  estimator=  2000 \n",
            "\n",
            "train score 0.8236644641057229\n",
            "clf.score 0.7141177239171621 \n",
            "\n",
            "classification_report               precision    recall  f1-score   support\n",
            "\n",
            "           0       0.72      0.98      0.83     10826\n",
            "           1       0.59      0.08      0.14      4481\n",
            "\n",
            "    accuracy                           0.71     15307\n",
            "   macro avg       0.65      0.53      0.48     15307\n",
            "weighted avg       0.68      0.71      0.63     15307\n",
            " \n",
            "\n",
            "confusion_matrix\n",
            " [[10584   242]\n",
            " [ 4134   347]]\n"
          ],
          "name": "stdout"
        },
        {
          "output_type": "stream",
          "text": [
            "/usr/local/lib/python3.6/dist-packages/ipykernel_launcher.py:9: DataConversionWarning: A column-vector y was passed when a 1d array was expected. Please change the shape of y to (n_samples,), for example using ravel().\n",
            "  if __name__ == '__main__':\n"
          ],
          "name": "stderr"
        },
        {
          "output_type": "stream",
          "text": [
            "  estimator=  2000 \n",
            "\n",
            "train score 0.8216485608690783\n",
            "clf.score 0.7159469523747305 \n",
            "\n",
            "classification_report               precision    recall  f1-score   support\n",
            "\n",
            "           0       0.72      0.98      0.83     10848\n",
            "           1       0.59      0.08      0.14      4459\n",
            "\n",
            "    accuracy                           0.72     15307\n",
            "   macro avg       0.66      0.53      0.48     15307\n",
            "weighted avg       0.68      0.72      0.63     15307\n",
            " \n",
            "\n",
            "confusion_matrix\n",
            " [[10610   238]\n",
            " [ 4110   349]]\n"
          ],
          "name": "stdout"
        },
        {
          "output_type": "stream",
          "text": [
            "/usr/local/lib/python3.6/dist-packages/ipykernel_launcher.py:9: DataConversionWarning: A column-vector y was passed when a 1d array was expected. Please change the shape of y to (n_samples,), for example using ravel().\n",
            "  if __name__ == '__main__':\n"
          ],
          "name": "stderr"
        },
        {
          "output_type": "stream",
          "text": [
            "  estimator=  2000 \n",
            "\n",
            "train score 0.8196606562884982\n",
            "clf.score 0.718429476710002 \n",
            "\n",
            "classification_report               precision    recall  f1-score   support\n",
            "\n",
            "           0       0.72      0.98      0.83     10874\n",
            "           1       0.61      0.08      0.14      4433\n",
            "\n",
            "    accuracy                           0.72     15307\n",
            "   macro avg       0.66      0.53      0.49     15307\n",
            "weighted avg       0.69      0.72      0.63     15307\n",
            " \n",
            "\n",
            "confusion_matrix\n",
            " [[10646   228]\n",
            " [ 4082   351]]\n"
          ],
          "name": "stdout"
        },
        {
          "output_type": "stream",
          "text": [
            "/usr/local/lib/python3.6/dist-packages/ipykernel_launcher.py:9: DataConversionWarning: A column-vector y was passed when a 1d array was expected. Please change the shape of y to (n_samples,), for example using ravel().\n",
            "  if __name__ == '__main__':\n"
          ],
          "name": "stderr"
        },
        {
          "output_type": "stream",
          "text": [
            "  estimator=  2500 \n",
            "\n",
            "train score 0.8214805689326913\n",
            "clf.score 0.7200627164042595 \n",
            "\n",
            "classification_report               precision    recall  f1-score   support\n",
            "\n",
            "           0       0.73      0.97      0.83     10927\n",
            "           1       0.57      0.08      0.15      4380\n",
            "\n",
            "    accuracy                           0.72     15307\n",
            "   macro avg       0.65      0.53      0.49     15307\n",
            "weighted avg       0.68      0.72      0.64     15307\n",
            " \n",
            "\n",
            "confusion_matrix\n",
            " [[10650   277]\n",
            " [ 4008   372]]\n"
          ],
          "name": "stdout"
        },
        {
          "output_type": "stream",
          "text": [
            "/usr/local/lib/python3.6/dist-packages/ipykernel_launcher.py:9: DataConversionWarning: A column-vector y was passed when a 1d array was expected. Please change the shape of y to (n_samples,), for example using ravel().\n",
            "  if __name__ == '__main__':\n"
          ],
          "name": "stderr"
        },
        {
          "output_type": "stream",
          "text": [
            "  estimator=  2500 \n",
            "\n",
            "train score 0.8199406428491433\n",
            "clf.score 0.7164042594891227 \n",
            "\n",
            "classification_report               precision    recall  f1-score   support\n",
            "\n",
            "           0       0.72      0.98      0.83     10879\n",
            "           1       0.57      0.08      0.14      4428\n",
            "\n",
            "    accuracy                           0.72     15307\n",
            "   macro avg       0.65      0.53      0.48     15307\n",
            "weighted avg       0.68      0.72      0.63     15307\n",
            " \n",
            "\n",
            "confusion_matrix\n",
            " [[10622   257]\n",
            " [ 4084   344]]\n"
          ],
          "name": "stdout"
        },
        {
          "output_type": "stream",
          "text": [
            "/usr/local/lib/python3.6/dist-packages/ipykernel_launcher.py:9: DataConversionWarning: A column-vector y was passed when a 1d array was expected. Please change the shape of y to (n_samples,), for example using ravel().\n",
            "  if __name__ == '__main__':\n"
          ],
          "name": "stderr"
        },
        {
          "output_type": "stream",
          "text": [
            "  estimator=  2500 \n",
            "\n",
            "train score 0.8203606226901109\n",
            "clf.score 0.7179721695956098 \n",
            "\n",
            "classification_report               precision    recall  f1-score   support\n",
            "\n",
            "           0       0.72      0.98      0.83     10886\n",
            "           1       0.59      0.08      0.14      4421\n",
            "\n",
            "    accuracy                           0.72     15307\n",
            "   macro avg       0.66      0.53      0.49     15307\n",
            "weighted avg       0.68      0.72      0.63     15307\n",
            " \n",
            "\n",
            "confusion_matrix\n",
            " [[10639   247]\n",
            " [ 4070   351]]\n"
          ],
          "name": "stdout"
        },
        {
          "output_type": "stream",
          "text": [
            "/usr/local/lib/python3.6/dist-packages/ipykernel_launcher.py:9: DataConversionWarning: A column-vector y was passed when a 1d array was expected. Please change the shape of y to (n_samples,), for example using ravel().\n",
            "  if __name__ == '__main__':\n"
          ],
          "name": "stderr"
        },
        {
          "output_type": "stream",
          "text": [
            "  estimator=  3000 \n",
            "\n",
            "train score 0.8197726509127562\n",
            "clf.score 0.7227412295028418 \n",
            "\n",
            "classification_report               precision    recall  f1-score   support\n",
            "\n",
            "           0       0.73      0.98      0.83     10965\n",
            "           1       0.58      0.08      0.15      4342\n",
            "\n",
            "    accuracy                           0.72     15307\n",
            "   macro avg       0.65      0.53      0.49     15307\n",
            "weighted avg       0.69      0.72      0.64     15307\n",
            " \n",
            "\n",
            "confusion_matrix\n",
            " [[10697   268]\n",
            " [ 3976   366]]\n"
          ],
          "name": "stdout"
        },
        {
          "output_type": "stream",
          "text": [
            "/usr/local/lib/python3.6/dist-packages/ipykernel_launcher.py:9: DataConversionWarning: A column-vector y was passed when a 1d array was expected. Please change the shape of y to (n_samples,), for example using ravel().\n",
            "  if __name__ == '__main__':\n"
          ],
          "name": "stderr"
        },
        {
          "output_type": "stream",
          "text": [
            "  estimator=  3000 \n",
            "\n",
            "train score 0.8235244708254004\n",
            "clf.score 0.7128764617495263 \n",
            "\n",
            "classification_report               precision    recall  f1-score   support\n",
            "\n",
            "           0       0.72      0.97      0.83     10813\n",
            "           1       0.57      0.09      0.15      4494\n",
            "\n",
            "    accuracy                           0.71     15307\n",
            "   macro avg       0.65      0.53      0.49     15307\n",
            "weighted avg       0.68      0.71      0.63     15307\n",
            " \n",
            "\n",
            "confusion_matrix\n",
            " [[10524   289]\n",
            " [ 4106   388]]\n"
          ],
          "name": "stdout"
        },
        {
          "output_type": "stream",
          "text": [
            "/usr/local/lib/python3.6/dist-packages/ipykernel_launcher.py:9: DataConversionWarning: A column-vector y was passed when a 1d array was expected. Please change the shape of y to (n_samples,), for example using ravel().\n",
            "  if __name__ == '__main__':\n"
          ],
          "name": "stderr"
        },
        {
          "output_type": "stream",
          "text": [
            "  estimator=  3000 \n",
            "\n",
            "train score 0.820808601187143\n",
            "clf.score 0.7162082707258117 \n",
            "\n",
            "classification_report               precision    recall  f1-score   support\n",
            "\n",
            "           0       0.72      0.98      0.83     10877\n",
            "           1       0.57      0.08      0.13      4430\n",
            "\n",
            "    accuracy                           0.72     15307\n",
            "   macro avg       0.65      0.53      0.48     15307\n",
            "weighted avg       0.68      0.72      0.63     15307\n",
            " \n",
            "\n",
            "confusion_matrix\n",
            " [[10628   249]\n",
            " [ 4095   335]]\n"
          ],
          "name": "stdout"
        }
      ]
    },
    {
      "cell_type": "markdown",
      "metadata": {
        "id": "LV2UaWMfyD9U",
        "colab_type": "text"
      },
      "source": [
        "grid search cv\n"
      ]
    },
    {
      "cell_type": "code",
      "metadata": {
        "id": "DxsBQKyzTaVI",
        "colab_type": "code",
        "outputId": "375a1ed0-58e7-4399-c5f3-15abff5288a8",
        "colab": {
          "base_uri": "https://localhost:8080/",
          "height": 1000
        }
      },
      "source": [
        "  x=df[['MonthlyRevenue','MonthlyMinutes','PercChangeMinutes','PercChangeRevenues', 'PeakCallsInOut', 'OffPeakCallsInOut', 'MonthsInService', 'ServiceArea', 'CurrentEquipmentDays']]\n",
        "  y = df[['Churn']]\n",
        "  for i in range (0,5):\n",
        "    from sklearn.model_selection import train_test_split  \n",
        "    xtrain,xtest,ytrain,ytest=train_test_split(x,y,test_size=0.2,shuffle=True,random_state=50)\n",
        "    from sklearn.ensemble import RandomForestClassifier\n",
        "    clf = RandomForestClassifier(max_depth=15, n_estimators=100,min_samples_split=10, min_samples_leaf=3,bootstrap=True)\n",
        "    clf.fit(xtrain,ytrain)\n",
        "    print(\"train score\",clf.score(xtrain, ytrain))\n",
        "    print('clf.score',clf.score(xtest, ytest),'\\n')\n",
        "    y_pred = clf.predict(xtest)\n",
        "    from sklearn.metrics import classification_report\n",
        "    print('classification_report',classification_report(ytest,y_pred),'\\n')\n",
        "    from sklearn.metrics import confusion_matrix\n",
        "    print('confusion_matrix\\n',confusion_matrix(ytest,y_pred))"
      ],
      "execution_count": 0,
      "outputs": [
        {
          "output_type": "stream",
          "text": [
            "/usr/local/lib/python3.6/dist-packages/ipykernel_launcher.py:8: DataConversionWarning: A column-vector y was passed when a 1d array was expected. Please change the shape of y to (n_samples,), for example using ravel().\n",
            "  \n"
          ],
          "name": "stderr"
        },
        {
          "output_type": "stream",
          "text": [
            "train score 0.7981730168644597\n",
            "clf.score 0.7042473454091193 \n",
            "\n",
            "classification_report               precision    recall  f1-score   support\n",
            "\n",
            "           0       0.71      0.98      0.82      2236\n",
            "           1       0.58      0.07      0.13       966\n",
            "\n",
            "    accuracy                           0.70      3202\n",
            "   macro avg       0.65      0.52      0.47      3202\n",
            "weighted avg       0.67      0.70      0.61      3202\n",
            " \n",
            "\n",
            "confusion_matrix\n",
            " [[2187   49]\n",
            " [ 898   68]]\n"
          ],
          "name": "stdout"
        },
        {
          "output_type": "stream",
          "text": [
            "/usr/local/lib/python3.6/dist-packages/ipykernel_launcher.py:8: DataConversionWarning: A column-vector y was passed when a 1d array was expected. Please change the shape of y to (n_samples,), for example using ravel().\n",
            "  \n"
          ],
          "name": "stderr"
        },
        {
          "output_type": "stream",
          "text": [
            "train score 0.7966895690193629\n",
            "clf.score 0.7020612117426608 \n",
            "\n",
            "classification_report               precision    recall  f1-score   support\n",
            "\n",
            "           0       0.71      0.97      0.82      2236\n",
            "           1       0.55      0.07      0.13       966\n",
            "\n",
            "    accuracy                           0.70      3202\n",
            "   macro avg       0.63      0.52      0.47      3202\n",
            "weighted avg       0.66      0.70      0.61      3202\n",
            " \n",
            "\n",
            "confusion_matrix\n",
            " [[2179   57]\n",
            " [ 897   69]]\n"
          ],
          "name": "stdout"
        },
        {
          "output_type": "stream",
          "text": [
            "/usr/local/lib/python3.6/dist-packages/ipykernel_launcher.py:8: DataConversionWarning: A column-vector y was passed when a 1d array was expected. Please change the shape of y to (n_samples,), for example using ravel().\n",
            "  \n"
          ],
          "name": "stderr"
        },
        {
          "output_type": "stream",
          "text": [
            "train score 0.7973141786383511\n",
            "clf.score 0.7026858213616489 \n",
            "\n",
            "classification_report               precision    recall  f1-score   support\n",
            "\n",
            "           0       0.71      0.98      0.82      2236\n",
            "           1       0.56      0.07      0.12       966\n",
            "\n",
            "    accuracy                           0.70      3202\n",
            "   macro avg       0.63      0.52      0.47      3202\n",
            "weighted avg       0.66      0.70      0.61      3202\n",
            " \n",
            "\n",
            "confusion_matrix\n",
            " [[2183   53]\n",
            " [ 899   67]]\n"
          ],
          "name": "stdout"
        },
        {
          "output_type": "stream",
          "text": [
            "/usr/local/lib/python3.6/dist-packages/ipykernel_launcher.py:8: DataConversionWarning: A column-vector y was passed when a 1d array was expected. Please change the shape of y to (n_samples,), for example using ravel().\n",
            "  \n"
          ],
          "name": "stderr"
        },
        {
          "output_type": "stream",
          "text": [
            "train score 0.8030137414116177\n",
            "clf.score 0.7054965646470955 \n",
            "\n",
            "classification_report               precision    recall  f1-score   support\n",
            "\n",
            "           0       0.71      0.98      0.82      2236\n",
            "           1       0.59      0.08      0.13       966\n",
            "\n",
            "    accuracy                           0.71      3202\n",
            "   macro avg       0.65      0.53      0.48      3202\n",
            "weighted avg       0.67      0.71      0.61      3202\n",
            " \n",
            "\n",
            "confusion_matrix\n",
            " [[2186   50]\n",
            " [ 893   73]]\n"
          ],
          "name": "stdout"
        },
        {
          "output_type": "stream",
          "text": [
            "/usr/local/lib/python3.6/dist-packages/ipykernel_launcher.py:8: DataConversionWarning: A column-vector y was passed when a 1d array was expected. Please change the shape of y to (n_samples,), for example using ravel().\n",
            "  \n"
          ],
          "name": "stderr"
        },
        {
          "output_type": "stream",
          "text": [
            "train score 0.7973141786383511\n",
            "clf.score 0.7036227357901311 \n",
            "\n",
            "classification_report               precision    recall  f1-score   support\n",
            "\n",
            "           0       0.71      0.98      0.82      2236\n",
            "           1       0.57      0.07      0.13       966\n",
            "\n",
            "    accuracy                           0.70      3202\n",
            "   macro avg       0.64      0.52      0.47      3202\n",
            "weighted avg       0.67      0.70      0.61      3202\n",
            " \n",
            "\n",
            "confusion_matrix\n",
            " [[2184   52]\n",
            " [ 897   69]]\n"
          ],
          "name": "stdout"
        }
      ]
    },
    {
      "cell_type": "code",
      "metadata": {
        "id": "rwgYDYfzx8Y9",
        "colab_type": "code",
        "outputId": "a2d071b9-9ff0-4e81-f0b4-bee2d4ac9e90",
        "colab": {
          "base_uri": "https://localhost:8080/",
          "height": 1000
        }
      },
      "source": [
        "  x=df[['CustomerID','MonthlyRevenue','MonthlyMinutes','PercChangeMinutes','PercChangeRevenues', 'PeakCallsInOut', 'OffPeakCallsInOut', 'MonthsInService', 'ServiceArea', 'CurrentEquipmentDays']]\n",
        "  y = df[['Churn']]\n",
        "  for i in range (0,5):\n",
        "    from sklearn.model_selection import train_test_split  \n",
        "    xtrain,xtest,ytrain,ytest=train_test_split(x,y,test_size=0.3,shuffle=True)\n",
        "    from sklearn.ensemble import RandomForestClassifier\n",
        "    clf = RandomForestClassifier(max_depth=80, n_estimators=350,min_samples_split=5, min_samples_leaf=5,bootstrap=False,max_features='sqrt')\n",
        "    clf.fit(xtrain,ytrain)\n",
        "    print(\"train score\",clf.score(xtrain, ytrain))\n",
        "    print('clf.score',clf.score(xtest, ytest),'\\n')\n",
        "    y_pred = clf.predict(xtest)\n",
        "    from sklearn.metrics import classification_report\n",
        "    print('classification_report',classification_report(ytest,y_pred),'\\n')\n",
        "    from sklearn.metrics import confusion_matrix\n",
        "    print('confusion_matrix\\n',confusion_matrix(ytest,y_pred))"
      ],
      "execution_count": 0,
      "outputs": [
        {
          "output_type": "stream",
          "text": [
            "/usr/local/lib/python3.6/dist-packages/ipykernel_launcher.py:8: DataConversionWarning: A column-vector y was passed when a 1d array was expected. Please change the shape of y to (n_samples,), for example using ravel().\n",
            "  \n"
          ],
          "name": "stderr"
        },
        {
          "output_type": "stream",
          "text": [
            "train score 0.9844607458841975\n",
            "clf.score 0.7114392108185797 \n",
            "\n",
            "classification_report               precision    recall  f1-score   support\n",
            "\n",
            "           0       0.73      0.95      0.82     10880\n",
            "           1       0.50      0.13      0.21      4427\n",
            "\n",
            "    accuracy                           0.71     15307\n",
            "   macro avg       0.62      0.54      0.52     15307\n",
            "weighted avg       0.66      0.71      0.65     15307\n",
            " \n",
            "\n",
            "confusion_matrix\n",
            " [[10303   577]\n",
            " [ 3840   587]]\n"
          ],
          "name": "stdout"
        },
        {
          "output_type": "stream",
          "text": [
            "/usr/local/lib/python3.6/dist-packages/ipykernel_launcher.py:8: DataConversionWarning: A column-vector y was passed when a 1d array was expected. Please change the shape of y to (n_samples,), for example using ravel().\n",
            "  \n"
          ],
          "name": "stderr"
        },
        {
          "output_type": "stream",
          "text": [
            "train score 0.9834807929219398\n",
            "clf.score 0.7083033906056053 \n",
            "\n",
            "classification_report               precision    recall  f1-score   support\n",
            "\n",
            "           0       0.72      0.95      0.82     10770\n",
            "           1       0.53      0.13      0.21      4537\n",
            "\n",
            "    accuracy                           0.71     15307\n",
            "   macro avg       0.63      0.54      0.51     15307\n",
            "weighted avg       0.67      0.71      0.64     15307\n",
            " \n",
            "\n",
            "confusion_matrix\n",
            " [[10265   505]\n",
            " [ 3960   577]]\n"
          ],
          "name": "stdout"
        },
        {
          "output_type": "stream",
          "text": [
            "/usr/local/lib/python3.6/dist-packages/ipykernel_launcher.py:8: DataConversionWarning: A column-vector y was passed when a 1d array was expected. Please change the shape of y to (n_samples,), for example using ravel().\n",
            "  \n"
          ],
          "name": "stderr"
        },
        {
          "output_type": "stream",
          "text": [
            "train score 0.9839567700750363\n",
            "clf.score 0.7162082707258117 \n",
            "\n",
            "classification_report               precision    recall  f1-score   support\n",
            "\n",
            "           0       0.73      0.95      0.83     10889\n",
            "           1       0.53      0.14      0.22      4418\n",
            "\n",
            "    accuracy                           0.72     15307\n",
            "   macro avg       0.63      0.54      0.52     15307\n",
            "weighted avg       0.67      0.72      0.65     15307\n",
            " \n",
            "\n",
            "confusion_matrix\n",
            " [[10366   523]\n",
            " [ 3821   597]]\n"
          ],
          "name": "stdout"
        },
        {
          "output_type": "stream",
          "text": [
            "/usr/local/lib/python3.6/dist-packages/ipykernel_launcher.py:8: DataConversionWarning: A column-vector y was passed when a 1d array was expected. Please change the shape of y to (n_samples,), for example using ravel().\n",
            "  \n"
          ],
          "name": "stderr"
        },
        {
          "output_type": "stream",
          "text": [
            "train score 0.9848247284130361\n",
            "clf.score 0.7150323381459462 \n",
            "\n",
            "classification_report               precision    recall  f1-score   support\n",
            "\n",
            "           0       0.73      0.95      0.83     10889\n",
            "           1       0.53      0.13      0.20      4418\n",
            "\n",
            "    accuracy                           0.72     15307\n",
            "   macro avg       0.63      0.54      0.52     15307\n",
            "weighted avg       0.67      0.72      0.65     15307\n",
            " \n",
            "\n",
            "confusion_matrix\n",
            " [[10386   503]\n",
            " [ 3859   559]]\n"
          ],
          "name": "stdout"
        },
        {
          "output_type": "stream",
          "text": [
            "/usr/local/lib/python3.6/dist-packages/ipykernel_launcher.py:8: DataConversionWarning: A column-vector y was passed when a 1d array was expected. Please change the shape of y to (n_samples,), for example using ravel().\n",
            "  \n"
          ],
          "name": "stderr"
        },
        {
          "output_type": "stream",
          "text": [
            "train score 0.9835367902340688\n",
            "clf.score 0.7109819037041877 \n",
            "\n",
            "classification_report               precision    recall  f1-score   support\n",
            "\n",
            "           0       0.73      0.95      0.82     10868\n",
            "           1       0.51      0.13      0.20      4439\n",
            "\n",
            "    accuracy                           0.71     15307\n",
            "   macro avg       0.62      0.54      0.51     15307\n",
            "weighted avg       0.66      0.71      0.64     15307\n",
            " \n",
            "\n",
            "confusion_matrix\n",
            " [[10313   555]\n",
            " [ 3869   570]]\n"
          ],
          "name": "stdout"
        }
      ]
    },
    {
      "cell_type": "markdown",
      "metadata": {
        "id": "tcE-tk2b2dGl",
        "colab_type": "text"
      },
      "source": [
        ""
      ]
    },
    {
      "cell_type": "code",
      "metadata": {
        "colab_type": "code",
        "outputId": "8f0ca6a5-910f-436e-a507-28517c856766",
        "id": "oRI8d3Hbz7k8",
        "colab": {
          "base_uri": "https://localhost:8080/",
          "height": 785
        }
      },
      "source": [
        "x=df[['CustomerID','MonthlyRevenue','MonthlyMinutes','PercChangeMinutes','CurrentEquipmentDays']]\n",
        "y = df[['Churn']]\n",
        "for i in range(0,5):\n",
        "  from sklearn.model_selection import train_test_split  \n",
        "  xtrain,xtest,ytrain,ytest=train_test_split(x,y,test_size=0.3,shuffle=True)\n",
        "  from sklearn.ensemble import RandomForestClassifier\n",
        "  clf = RandomForestClassifier(max_depth=15, random_state=0,n_estimators=1000)\n",
        "  clf.fit(xtrain,ytrain)\n",
        "  print(\"train score\",clf.score(xtrain, ytrain))\n",
        "  print('clf.score',clf.score(xtest, ytest),'\\n')\n",
        "  y_pred = clf.predict(xtest)\n",
        "  from sklearn.metrics import precision_recall_fscore_support\n",
        "  print('precision_recall_fscore_support\\n',precision_recall_fscore_support(ytest, y_pred, average=None),'\\n')\n",
        "  from sklearn.metrics import classification_report\n",
        "  print('classification_report',classification_report(ytest,y_pred),'\\n')\n",
        "  from sklearn.metrics import confusion_matrix\n",
        "  print('confusion_matrix\\n',confusion_matrix(ytest,y_pred))"
      ],
      "execution_count": 0,
      "outputs": [
        {
          "output_type": "stream",
          "text": [
            "/usr/local/lib/python3.6/dist-packages/ipykernel_launcher.py:6: DataConversionWarning: A column-vector y was passed when a 1d array was expected. Please change the shape of y to (n_samples,), for example using ravel().\n",
            "  \n"
          ],
          "name": "stderr"
        },
        {
          "output_type": "stream",
          "text": [
            "train score 0.7818904692574756\n",
            "clf.score 0.7162082707258117 \n",
            "\n",
            "precision_recall_fscore_support\n",
            " (array([0.72567393, 0.47586207]), array([0.97234101, 0.0639481 ]), array([0.83109106, 0.1127451 ]), array([10991,  4316])) \n",
            "\n",
            "classification_report               precision    recall  f1-score   support\n",
            "\n",
            "           0       0.73      0.97      0.83     10991\n",
            "           1       0.48      0.06      0.11      4316\n",
            "\n",
            "    accuracy                           0.72     15307\n",
            "   macro avg       0.60      0.52      0.47     15307\n",
            "weighted avg       0.66      0.72      0.63     15307\n",
            " \n",
            "\n",
            "confusion_matrix\n",
            " [[10687   304]\n",
            " [ 4040   276]]\n"
          ],
          "name": "stdout"
        },
        {
          "output_type": "stream",
          "text": [
            "/usr/local/lib/python3.6/dist-packages/ipykernel_launcher.py:6: DataConversionWarning: A column-vector y was passed when a 1d array was expected. Please change the shape of y to (n_samples,), for example using ravel().\n",
            "  \n"
          ],
          "name": "stderr"
        },
        {
          "output_type": "error",
          "ename": "KeyboardInterrupt",
          "evalue": "ignored",
          "traceback": [
            "\u001b[0;31m---------------------------------------------------------------------------\u001b[0m",
            "\u001b[0;31mKeyboardInterrupt\u001b[0m                         Traceback (most recent call last)",
            "\u001b[0;32m<ipython-input-11-bcb52c5dfc7b>\u001b[0m in \u001b[0;36m<module>\u001b[0;34m()\u001b[0m\n\u001b[1;32m      4\u001b[0m   \u001b[0;32mfrom\u001b[0m \u001b[0msklearn\u001b[0m\u001b[0;34m.\u001b[0m\u001b[0mensemble\u001b[0m \u001b[0;32mimport\u001b[0m \u001b[0mRandomForestClassifier\u001b[0m\u001b[0;34m\u001b[0m\u001b[0;34m\u001b[0m\u001b[0m\n\u001b[1;32m      5\u001b[0m   \u001b[0mclf\u001b[0m \u001b[0;34m=\u001b[0m \u001b[0mRandomForestClassifier\u001b[0m\u001b[0;34m(\u001b[0m\u001b[0mmax_depth\u001b[0m\u001b[0;34m=\u001b[0m\u001b[0;36m15\u001b[0m\u001b[0;34m,\u001b[0m \u001b[0mrandom_state\u001b[0m\u001b[0;34m=\u001b[0m\u001b[0;36m0\u001b[0m\u001b[0;34m,\u001b[0m\u001b[0mn_estimators\u001b[0m\u001b[0;34m=\u001b[0m\u001b[0;36m1000\u001b[0m\u001b[0;34m)\u001b[0m\u001b[0;34m\u001b[0m\u001b[0;34m\u001b[0m\u001b[0m\n\u001b[0;32m----> 6\u001b[0;31m   \u001b[0mclf\u001b[0m\u001b[0;34m.\u001b[0m\u001b[0mfit\u001b[0m\u001b[0;34m(\u001b[0m\u001b[0mxtrain\u001b[0m\u001b[0;34m,\u001b[0m\u001b[0mytrain\u001b[0m\u001b[0;34m)\u001b[0m\u001b[0;34m\u001b[0m\u001b[0;34m\u001b[0m\u001b[0m\n\u001b[0m\u001b[1;32m      7\u001b[0m   \u001b[0mprint\u001b[0m\u001b[0;34m(\u001b[0m\u001b[0;34m\"train score\"\u001b[0m\u001b[0;34m,\u001b[0m\u001b[0mclf\u001b[0m\u001b[0;34m.\u001b[0m\u001b[0mscore\u001b[0m\u001b[0;34m(\u001b[0m\u001b[0mxtrain\u001b[0m\u001b[0;34m,\u001b[0m \u001b[0mytrain\u001b[0m\u001b[0;34m)\u001b[0m\u001b[0;34m)\u001b[0m\u001b[0;34m\u001b[0m\u001b[0;34m\u001b[0m\u001b[0m\n\u001b[1;32m      8\u001b[0m   \u001b[0mprint\u001b[0m\u001b[0;34m(\u001b[0m\u001b[0;34m'clf.score'\u001b[0m\u001b[0;34m,\u001b[0m\u001b[0mclf\u001b[0m\u001b[0;34m.\u001b[0m\u001b[0mscore\u001b[0m\u001b[0;34m(\u001b[0m\u001b[0mxtest\u001b[0m\u001b[0;34m,\u001b[0m \u001b[0mytest\u001b[0m\u001b[0;34m)\u001b[0m\u001b[0;34m,\u001b[0m\u001b[0;34m'\\n'\u001b[0m\u001b[0;34m)\u001b[0m\u001b[0;34m\u001b[0m\u001b[0;34m\u001b[0m\u001b[0m\n",
            "\u001b[0;32m/usr/local/lib/python3.6/dist-packages/sklearn/ensemble/_forest.py\u001b[0m in \u001b[0;36mfit\u001b[0;34m(self, X, y, sample_weight)\u001b[0m\n\u001b[1;32m    381\u001b[0m                     \u001b[0mverbose\u001b[0m\u001b[0;34m=\u001b[0m\u001b[0mself\u001b[0m\u001b[0;34m.\u001b[0m\u001b[0mverbose\u001b[0m\u001b[0;34m,\u001b[0m \u001b[0mclass_weight\u001b[0m\u001b[0;34m=\u001b[0m\u001b[0mself\u001b[0m\u001b[0;34m.\u001b[0m\u001b[0mclass_weight\u001b[0m\u001b[0;34m,\u001b[0m\u001b[0;34m\u001b[0m\u001b[0;34m\u001b[0m\u001b[0m\n\u001b[1;32m    382\u001b[0m                     n_samples_bootstrap=n_samples_bootstrap)\n\u001b[0;32m--> 383\u001b[0;31m                 for i, t in enumerate(trees))\n\u001b[0m\u001b[1;32m    384\u001b[0m \u001b[0;34m\u001b[0m\u001b[0m\n\u001b[1;32m    385\u001b[0m             \u001b[0;31m# Collect newly grown trees\u001b[0m\u001b[0;34m\u001b[0m\u001b[0;34m\u001b[0m\u001b[0;34m\u001b[0m\u001b[0m\n",
            "\u001b[0;32m/usr/local/lib/python3.6/dist-packages/joblib/parallel.py\u001b[0m in \u001b[0;36m__call__\u001b[0;34m(self, iterable)\u001b[0m\n\u001b[1;32m   1005\u001b[0m                 \u001b[0mself\u001b[0m\u001b[0;34m.\u001b[0m\u001b[0m_iterating\u001b[0m \u001b[0;34m=\u001b[0m \u001b[0mself\u001b[0m\u001b[0;34m.\u001b[0m\u001b[0m_original_iterator\u001b[0m \u001b[0;32mis\u001b[0m \u001b[0;32mnot\u001b[0m \u001b[0;32mNone\u001b[0m\u001b[0;34m\u001b[0m\u001b[0;34m\u001b[0m\u001b[0m\n\u001b[1;32m   1006\u001b[0m \u001b[0;34m\u001b[0m\u001b[0m\n\u001b[0;32m-> 1007\u001b[0;31m             \u001b[0;32mwhile\u001b[0m \u001b[0mself\u001b[0m\u001b[0;34m.\u001b[0m\u001b[0mdispatch_one_batch\u001b[0m\u001b[0;34m(\u001b[0m\u001b[0miterator\u001b[0m\u001b[0;34m)\u001b[0m\u001b[0;34m:\u001b[0m\u001b[0;34m\u001b[0m\u001b[0;34m\u001b[0m\u001b[0m\n\u001b[0m\u001b[1;32m   1008\u001b[0m                 \u001b[0;32mpass\u001b[0m\u001b[0;34m\u001b[0m\u001b[0;34m\u001b[0m\u001b[0m\n\u001b[1;32m   1009\u001b[0m \u001b[0;34m\u001b[0m\u001b[0m\n",
            "\u001b[0;32m/usr/local/lib/python3.6/dist-packages/joblib/parallel.py\u001b[0m in \u001b[0;36mdispatch_one_batch\u001b[0;34m(self, iterator)\u001b[0m\n\u001b[1;32m    833\u001b[0m                 \u001b[0;32mreturn\u001b[0m \u001b[0;32mFalse\u001b[0m\u001b[0;34m\u001b[0m\u001b[0;34m\u001b[0m\u001b[0m\n\u001b[1;32m    834\u001b[0m             \u001b[0;32melse\u001b[0m\u001b[0;34m:\u001b[0m\u001b[0;34m\u001b[0m\u001b[0;34m\u001b[0m\u001b[0m\n\u001b[0;32m--> 835\u001b[0;31m                 \u001b[0mself\u001b[0m\u001b[0;34m.\u001b[0m\u001b[0m_dispatch\u001b[0m\u001b[0;34m(\u001b[0m\u001b[0mtasks\u001b[0m\u001b[0;34m)\u001b[0m\u001b[0;34m\u001b[0m\u001b[0;34m\u001b[0m\u001b[0m\n\u001b[0m\u001b[1;32m    836\u001b[0m                 \u001b[0;32mreturn\u001b[0m \u001b[0;32mTrue\u001b[0m\u001b[0;34m\u001b[0m\u001b[0;34m\u001b[0m\u001b[0m\n\u001b[1;32m    837\u001b[0m \u001b[0;34m\u001b[0m\u001b[0m\n",
            "\u001b[0;32m/usr/local/lib/python3.6/dist-packages/joblib/parallel.py\u001b[0m in \u001b[0;36m_dispatch\u001b[0;34m(self, batch)\u001b[0m\n\u001b[1;32m    752\u001b[0m         \u001b[0;32mwith\u001b[0m \u001b[0mself\u001b[0m\u001b[0;34m.\u001b[0m\u001b[0m_lock\u001b[0m\u001b[0;34m:\u001b[0m\u001b[0;34m\u001b[0m\u001b[0;34m\u001b[0m\u001b[0m\n\u001b[1;32m    753\u001b[0m             \u001b[0mjob_idx\u001b[0m \u001b[0;34m=\u001b[0m \u001b[0mlen\u001b[0m\u001b[0;34m(\u001b[0m\u001b[0mself\u001b[0m\u001b[0;34m.\u001b[0m\u001b[0m_jobs\u001b[0m\u001b[0;34m)\u001b[0m\u001b[0;34m\u001b[0m\u001b[0;34m\u001b[0m\u001b[0m\n\u001b[0;32m--> 754\u001b[0;31m             \u001b[0mjob\u001b[0m \u001b[0;34m=\u001b[0m \u001b[0mself\u001b[0m\u001b[0;34m.\u001b[0m\u001b[0m_backend\u001b[0m\u001b[0;34m.\u001b[0m\u001b[0mapply_async\u001b[0m\u001b[0;34m(\u001b[0m\u001b[0mbatch\u001b[0m\u001b[0;34m,\u001b[0m \u001b[0mcallback\u001b[0m\u001b[0;34m=\u001b[0m\u001b[0mcb\u001b[0m\u001b[0;34m)\u001b[0m\u001b[0;34m\u001b[0m\u001b[0;34m\u001b[0m\u001b[0m\n\u001b[0m\u001b[1;32m    755\u001b[0m             \u001b[0;31m# A job can complete so quickly than its callback is\u001b[0m\u001b[0;34m\u001b[0m\u001b[0;34m\u001b[0m\u001b[0;34m\u001b[0m\u001b[0m\n\u001b[1;32m    756\u001b[0m             \u001b[0;31m# called before we get here, causing self._jobs to\u001b[0m\u001b[0;34m\u001b[0m\u001b[0;34m\u001b[0m\u001b[0;34m\u001b[0m\u001b[0m\n",
            "\u001b[0;32m/usr/local/lib/python3.6/dist-packages/joblib/_parallel_backends.py\u001b[0m in \u001b[0;36mapply_async\u001b[0;34m(self, func, callback)\u001b[0m\n\u001b[1;32m    207\u001b[0m     \u001b[0;32mdef\u001b[0m \u001b[0mapply_async\u001b[0m\u001b[0;34m(\u001b[0m\u001b[0mself\u001b[0m\u001b[0;34m,\u001b[0m \u001b[0mfunc\u001b[0m\u001b[0;34m,\u001b[0m \u001b[0mcallback\u001b[0m\u001b[0;34m=\u001b[0m\u001b[0;32mNone\u001b[0m\u001b[0;34m)\u001b[0m\u001b[0;34m:\u001b[0m\u001b[0;34m\u001b[0m\u001b[0;34m\u001b[0m\u001b[0m\n\u001b[1;32m    208\u001b[0m         \u001b[0;34m\"\"\"Schedule a func to be run\"\"\"\u001b[0m\u001b[0;34m\u001b[0m\u001b[0;34m\u001b[0m\u001b[0m\n\u001b[0;32m--> 209\u001b[0;31m         \u001b[0mresult\u001b[0m \u001b[0;34m=\u001b[0m \u001b[0mImmediateResult\u001b[0m\u001b[0;34m(\u001b[0m\u001b[0mfunc\u001b[0m\u001b[0;34m)\u001b[0m\u001b[0;34m\u001b[0m\u001b[0;34m\u001b[0m\u001b[0m\n\u001b[0m\u001b[1;32m    210\u001b[0m         \u001b[0;32mif\u001b[0m \u001b[0mcallback\u001b[0m\u001b[0;34m:\u001b[0m\u001b[0;34m\u001b[0m\u001b[0;34m\u001b[0m\u001b[0m\n\u001b[1;32m    211\u001b[0m             \u001b[0mcallback\u001b[0m\u001b[0;34m(\u001b[0m\u001b[0mresult\u001b[0m\u001b[0;34m)\u001b[0m\u001b[0;34m\u001b[0m\u001b[0;34m\u001b[0m\u001b[0m\n",
            "\u001b[0;32m/usr/local/lib/python3.6/dist-packages/joblib/_parallel_backends.py\u001b[0m in \u001b[0;36m__init__\u001b[0;34m(self, batch)\u001b[0m\n\u001b[1;32m    588\u001b[0m         \u001b[0;31m# Don't delay the application, to avoid keeping the input\u001b[0m\u001b[0;34m\u001b[0m\u001b[0;34m\u001b[0m\u001b[0;34m\u001b[0m\u001b[0m\n\u001b[1;32m    589\u001b[0m         \u001b[0;31m# arguments in memory\u001b[0m\u001b[0;34m\u001b[0m\u001b[0;34m\u001b[0m\u001b[0;34m\u001b[0m\u001b[0m\n\u001b[0;32m--> 590\u001b[0;31m         \u001b[0mself\u001b[0m\u001b[0;34m.\u001b[0m\u001b[0mresults\u001b[0m \u001b[0;34m=\u001b[0m \u001b[0mbatch\u001b[0m\u001b[0;34m(\u001b[0m\u001b[0;34m)\u001b[0m\u001b[0;34m\u001b[0m\u001b[0;34m\u001b[0m\u001b[0m\n\u001b[0m\u001b[1;32m    591\u001b[0m \u001b[0;34m\u001b[0m\u001b[0m\n\u001b[1;32m    592\u001b[0m     \u001b[0;32mdef\u001b[0m \u001b[0mget\u001b[0m\u001b[0;34m(\u001b[0m\u001b[0mself\u001b[0m\u001b[0;34m)\u001b[0m\u001b[0;34m:\u001b[0m\u001b[0;34m\u001b[0m\u001b[0;34m\u001b[0m\u001b[0m\n",
            "\u001b[0;32m/usr/local/lib/python3.6/dist-packages/joblib/parallel.py\u001b[0m in \u001b[0;36m__call__\u001b[0;34m(self)\u001b[0m\n\u001b[1;32m    254\u001b[0m         \u001b[0;32mwith\u001b[0m \u001b[0mparallel_backend\u001b[0m\u001b[0;34m(\u001b[0m\u001b[0mself\u001b[0m\u001b[0;34m.\u001b[0m\u001b[0m_backend\u001b[0m\u001b[0;34m,\u001b[0m \u001b[0mn_jobs\u001b[0m\u001b[0;34m=\u001b[0m\u001b[0mself\u001b[0m\u001b[0;34m.\u001b[0m\u001b[0m_n_jobs\u001b[0m\u001b[0;34m)\u001b[0m\u001b[0;34m:\u001b[0m\u001b[0;34m\u001b[0m\u001b[0;34m\u001b[0m\u001b[0m\n\u001b[1;32m    255\u001b[0m             return [func(*args, **kwargs)\n\u001b[0;32m--> 256\u001b[0;31m                     for func, args, kwargs in self.items]\n\u001b[0m\u001b[1;32m    257\u001b[0m \u001b[0;34m\u001b[0m\u001b[0m\n\u001b[1;32m    258\u001b[0m     \u001b[0;32mdef\u001b[0m \u001b[0m__len__\u001b[0m\u001b[0;34m(\u001b[0m\u001b[0mself\u001b[0m\u001b[0;34m)\u001b[0m\u001b[0;34m:\u001b[0m\u001b[0;34m\u001b[0m\u001b[0;34m\u001b[0m\u001b[0m\n",
            "\u001b[0;32m/usr/local/lib/python3.6/dist-packages/joblib/parallel.py\u001b[0m in \u001b[0;36m<listcomp>\u001b[0;34m(.0)\u001b[0m\n\u001b[1;32m    254\u001b[0m         \u001b[0;32mwith\u001b[0m \u001b[0mparallel_backend\u001b[0m\u001b[0;34m(\u001b[0m\u001b[0mself\u001b[0m\u001b[0;34m.\u001b[0m\u001b[0m_backend\u001b[0m\u001b[0;34m,\u001b[0m \u001b[0mn_jobs\u001b[0m\u001b[0;34m=\u001b[0m\u001b[0mself\u001b[0m\u001b[0;34m.\u001b[0m\u001b[0m_n_jobs\u001b[0m\u001b[0;34m)\u001b[0m\u001b[0;34m:\u001b[0m\u001b[0;34m\u001b[0m\u001b[0;34m\u001b[0m\u001b[0m\n\u001b[1;32m    255\u001b[0m             return [func(*args, **kwargs)\n\u001b[0;32m--> 256\u001b[0;31m                     for func, args, kwargs in self.items]\n\u001b[0m\u001b[1;32m    257\u001b[0m \u001b[0;34m\u001b[0m\u001b[0m\n\u001b[1;32m    258\u001b[0m     \u001b[0;32mdef\u001b[0m \u001b[0m__len__\u001b[0m\u001b[0;34m(\u001b[0m\u001b[0mself\u001b[0m\u001b[0;34m)\u001b[0m\u001b[0;34m:\u001b[0m\u001b[0;34m\u001b[0m\u001b[0;34m\u001b[0m\u001b[0m\n",
            "\u001b[0;32m/usr/local/lib/python3.6/dist-packages/sklearn/ensemble/_forest.py\u001b[0m in \u001b[0;36m_parallel_build_trees\u001b[0;34m(tree, forest, X, y, sample_weight, tree_idx, n_trees, verbose, class_weight, n_samples_bootstrap)\u001b[0m\n\u001b[1;32m    163\u001b[0m             \u001b[0mcurr_sample_weight\u001b[0m \u001b[0;34m*=\u001b[0m \u001b[0mcompute_sample_weight\u001b[0m\u001b[0;34m(\u001b[0m\u001b[0;34m'balanced'\u001b[0m\u001b[0;34m,\u001b[0m \u001b[0my\u001b[0m\u001b[0;34m,\u001b[0m \u001b[0mindices\u001b[0m\u001b[0;34m)\u001b[0m\u001b[0;34m\u001b[0m\u001b[0;34m\u001b[0m\u001b[0m\n\u001b[1;32m    164\u001b[0m \u001b[0;34m\u001b[0m\u001b[0m\n\u001b[0;32m--> 165\u001b[0;31m         \u001b[0mtree\u001b[0m\u001b[0;34m.\u001b[0m\u001b[0mfit\u001b[0m\u001b[0;34m(\u001b[0m\u001b[0mX\u001b[0m\u001b[0;34m,\u001b[0m \u001b[0my\u001b[0m\u001b[0;34m,\u001b[0m \u001b[0msample_weight\u001b[0m\u001b[0;34m=\u001b[0m\u001b[0mcurr_sample_weight\u001b[0m\u001b[0;34m,\u001b[0m \u001b[0mcheck_input\u001b[0m\u001b[0;34m=\u001b[0m\u001b[0;32mFalse\u001b[0m\u001b[0;34m)\u001b[0m\u001b[0;34m\u001b[0m\u001b[0;34m\u001b[0m\u001b[0m\n\u001b[0m\u001b[1;32m    166\u001b[0m     \u001b[0;32melse\u001b[0m\u001b[0;34m:\u001b[0m\u001b[0;34m\u001b[0m\u001b[0;34m\u001b[0m\u001b[0m\n\u001b[1;32m    167\u001b[0m         \u001b[0mtree\u001b[0m\u001b[0;34m.\u001b[0m\u001b[0mfit\u001b[0m\u001b[0;34m(\u001b[0m\u001b[0mX\u001b[0m\u001b[0;34m,\u001b[0m \u001b[0my\u001b[0m\u001b[0;34m,\u001b[0m \u001b[0msample_weight\u001b[0m\u001b[0;34m=\u001b[0m\u001b[0msample_weight\u001b[0m\u001b[0;34m,\u001b[0m \u001b[0mcheck_input\u001b[0m\u001b[0;34m=\u001b[0m\u001b[0;32mFalse\u001b[0m\u001b[0;34m)\u001b[0m\u001b[0;34m\u001b[0m\u001b[0;34m\u001b[0m\u001b[0m\n",
            "\u001b[0;32m/usr/local/lib/python3.6/dist-packages/sklearn/tree/_classes.py\u001b[0m in \u001b[0;36mfit\u001b[0;34m(self, X, y, sample_weight, check_input, X_idx_sorted)\u001b[0m\n\u001b[1;32m    875\u001b[0m             \u001b[0msample_weight\u001b[0m\u001b[0;34m=\u001b[0m\u001b[0msample_weight\u001b[0m\u001b[0;34m,\u001b[0m\u001b[0;34m\u001b[0m\u001b[0;34m\u001b[0m\u001b[0m\n\u001b[1;32m    876\u001b[0m             \u001b[0mcheck_input\u001b[0m\u001b[0;34m=\u001b[0m\u001b[0mcheck_input\u001b[0m\u001b[0;34m,\u001b[0m\u001b[0;34m\u001b[0m\u001b[0;34m\u001b[0m\u001b[0m\n\u001b[0;32m--> 877\u001b[0;31m             X_idx_sorted=X_idx_sorted)\n\u001b[0m\u001b[1;32m    878\u001b[0m         \u001b[0;32mreturn\u001b[0m \u001b[0mself\u001b[0m\u001b[0;34m\u001b[0m\u001b[0;34m\u001b[0m\u001b[0m\n\u001b[1;32m    879\u001b[0m \u001b[0;34m\u001b[0m\u001b[0m\n",
            "\u001b[0;32m/usr/local/lib/python3.6/dist-packages/sklearn/tree/_classes.py\u001b[0m in \u001b[0;36mfit\u001b[0;34m(self, X, y, sample_weight, check_input, X_idx_sorted)\u001b[0m\n\u001b[1;32m    365\u001b[0m                                            min_impurity_split)\n\u001b[1;32m    366\u001b[0m \u001b[0;34m\u001b[0m\u001b[0m\n\u001b[0;32m--> 367\u001b[0;31m         \u001b[0mbuilder\u001b[0m\u001b[0;34m.\u001b[0m\u001b[0mbuild\u001b[0m\u001b[0;34m(\u001b[0m\u001b[0mself\u001b[0m\u001b[0;34m.\u001b[0m\u001b[0mtree_\u001b[0m\u001b[0;34m,\u001b[0m \u001b[0mX\u001b[0m\u001b[0;34m,\u001b[0m \u001b[0my\u001b[0m\u001b[0;34m,\u001b[0m \u001b[0msample_weight\u001b[0m\u001b[0;34m,\u001b[0m \u001b[0mX_idx_sorted\u001b[0m\u001b[0;34m)\u001b[0m\u001b[0;34m\u001b[0m\u001b[0;34m\u001b[0m\u001b[0m\n\u001b[0m\u001b[1;32m    368\u001b[0m \u001b[0;34m\u001b[0m\u001b[0m\n\u001b[1;32m    369\u001b[0m         \u001b[0;32mif\u001b[0m \u001b[0mself\u001b[0m\u001b[0;34m.\u001b[0m\u001b[0mn_outputs_\u001b[0m \u001b[0;34m==\u001b[0m \u001b[0;36m1\u001b[0m \u001b[0;32mand\u001b[0m \u001b[0mis_classifier\u001b[0m\u001b[0;34m(\u001b[0m\u001b[0mself\u001b[0m\u001b[0;34m)\u001b[0m\u001b[0;34m:\u001b[0m\u001b[0;34m\u001b[0m\u001b[0;34m\u001b[0m\u001b[0m\n",
            "\u001b[0;31mKeyboardInterrupt\u001b[0m: "
          ]
        }
      ]
    },
    {
      "cell_type": "code",
      "metadata": {
        "id": "-ECALdbGdKr7",
        "colab_type": "code",
        "outputId": "12500476-2b81-49f1-c4e2-8dfbc9cc4d84",
        "colab": {
          "base_uri": "https://localhost:8080/",
          "height": 1000
        }
      },
      "source": [
        "df.dtypes"
      ],
      "execution_count": 0,
      "outputs": [
        {
          "output_type": "execute_result",
          "data": {
            "text/plain": [
              "CustomerID                     int64\n",
              "Churn                          int64\n",
              "MonthlyRevenue               float64\n",
              "MonthlyMinutes               float64\n",
              "TotalRecurringCharge         float64\n",
              "DirectorAssistedCalls        float64\n",
              "OverageMinutes               float64\n",
              "RoamingCalls                 float64\n",
              "PercChangeMinutes            float64\n",
              "PercChangeRevenues           float64\n",
              "DroppedCalls                 float64\n",
              "BlockedCalls                 float64\n",
              "UnansweredCalls              float64\n",
              "CustomerCareCalls            float64\n",
              "ThreewayCalls                float64\n",
              "ReceivedCalls                float64\n",
              "OutboundCalls                float64\n",
              "InboundCalls                 float64\n",
              "PeakCallsInOut               float64\n",
              "OffPeakCallsInOut            float64\n",
              "DroppedBlockedCalls          float64\n",
              "CallForwardingCalls          float64\n",
              "CallWaitingCalls             float64\n",
              "MonthsInService                int64\n",
              "UniqueSubs                     int64\n",
              "ActiveSubs                     int64\n",
              "ServiceArea                    int64\n",
              "Handsets                     float64\n",
              "HandsetModels                float64\n",
              "CurrentEquipmentDays         float64\n",
              "AgeHH1                       float64\n",
              "AgeHH2                       float64\n",
              "ChildrenInHH                   int64\n",
              "HandsetRefurbished             int64\n",
              "HandsetWebCapable              int64\n",
              "TruckOwner                     int64\n",
              "RVOwner                        int64\n",
              "Homeownership                  int64\n",
              "BuysViaMailOrder               int64\n",
              "RespondsToMailOffers           int64\n",
              "OptOutMailings                 int64\n",
              "NonUSTravel                    int64\n",
              "OwnsComputer                   int64\n",
              "HasCreditCard                  int64\n",
              "RetentionCalls                 int64\n",
              "RetentionOffersAccepted        int64\n",
              "NewCellphoneUser               int64\n",
              "NotNewCellphoneUser            int64\n",
              "ReferralsMadeBySubscriber      int64\n",
              "IncomeGroup                    int64\n",
              "OwnsMotorcycle                 int64\n",
              "AdjustmentsToCreditRating      int64\n",
              "HandsetPrice                   int64\n",
              "MadeCallToRetentionTeam        int64\n",
              "CreditRating                   int64\n",
              "PrizmCode                      int64\n",
              "Occupation                     int64\n",
              "MaritalStatus                  int64\n",
              "dtype: object"
            ]
          },
          "metadata": {
            "tags": []
          },
          "execution_count": 29
        }
      ]
    },
    {
      "cell_type": "code",
      "metadata": {
        "id": "jSHELPbvek8w",
        "colab_type": "code",
        "outputId": "0612c6d1-d854-4751-ebde-44c3ccd0780f",
        "colab": {
          "base_uri": "https://localhost:8080/",
          "height": 272
        }
      },
      "source": [
        "xtrain.head"
      ],
      "execution_count": 0,
      "outputs": [
        {
          "output_type": "execute_result",
          "data": {
            "text/plain": [
              "<bound method NDFrame.head of        CustomerID  MonthlyRevenue  ...  ServiceArea  CurrentEquipmentDays\n",
              "45796     3362334           46.77  ...          143                 257.0\n",
              "41551     3330934           34.87  ...          699                 310.0\n",
              "14260     3112282           52.08  ...          508                 453.0\n",
              "14551     3114534           24.99  ...          658                 748.0\n",
              "1462      3011486           35.24  ...          625                 423.0\n",
              "...           ...             ...  ...          ...                   ...\n",
              "9024      3071046           42.05  ...          154                   9.0\n",
              "12859     3101410           51.68  ...          455                 384.0\n",
              "43814     3347358           13.75  ...          387                 292.0\n",
              "36950     3294910           71.84  ...          436                 236.0\n",
              "6056      3047442           79.21  ...          358                 262.0\n",
              "\n",
              "[35716 rows x 10 columns]>"
            ]
          },
          "metadata": {
            "tags": []
          },
          "execution_count": 40
        }
      ]
    },
    {
      "cell_type": "code",
      "metadata": {
        "id": "CMYjSOfFoQwM",
        "colab_type": "code",
        "outputId": "1b8b416f-216c-47d6-cf48-3e0c5b10d266",
        "colab": {
          "base_uri": "https://localhost:8080/",
          "height": 377
        }
      },
      "source": [
        "  #for i in range(0,5):\n",
        "    from sklearn.model_selection import train_test_split  \n",
        "    xtrain,xtest,ytrain,ytest=train_test_split(x,y,test_size=0.3,shuffle=True,random_state=50)\n",
        "    from sklearn.tree import DecisionTreeClassifier\n",
        "    from sklearn.ensemble import AdaBoostClassifier,RandomForestClassifier\n",
        "    from sklearn.datasets import make_classification\n",
        "    #X, y = make_classification(n_samples=1000, n_features=4,n_informative=2, n_redundant=0,random_state=0, shuffle=True)\n",
        "    dec_clf = DecisionTreeClassifier(max_depth=15)\n",
        "    ada_clf = AdaBoostClassifier(base_estimator=dec_clf,n_estimators=100,learning_rate=0.08)\n",
        "    ada_clf.fit(xtrain,ytrain)\n",
        "    print('training:',ada_clf.score(xtrain,ytrain))\n",
        "    print('test:',ada_clf.score(xtest,ytest))\n",
        "    y_pred = ada_clf.predict(xtest)\n",
        "    from sklearn.metrics import precision_recall_fscore_support\n",
        "    print('precision_recall_fscore_support\\n',precision_recall_fscore_support(ytest, y_pred, average=None),'\\n')\n",
        "    from sklearn.metrics import classification_report\n",
        "    print('classification_report',classification_report(ytest,y_pred),'\\n')\n",
        "    from sklearn.metrics import confusion_matrix\n",
        "    print('confusion_matrix\\n',confusion_matrix(ytest,y_pred))"
      ],
      "execution_count": 0,
      "outputs": [
        {
          "output_type": "stream",
          "text": [
            "/usr/local/lib/python3.6/dist-packages/sklearn/utils/validation.py:760: DataConversionWarning: A column-vector y was passed when a 1d array was expected. Please change the shape of y to (n_samples, ), for example using ravel().\n",
            "  y = column_or_1d(y, warn=True)\n"
          ],
          "name": "stderr"
        },
        {
          "output_type": "stream",
          "text": [
            "training: 1.0\n",
            "test: 0.6914428482198626\n",
            "precision_recall_fscore_support\n",
            " (array([0.71480472, 0.43358396]), array([0.93301719, 0.12106368]), array([0.80946259, 0.1892779 ]), array([3374, 1429])) \n",
            "\n",
            "classification_report               precision    recall  f1-score   support\n",
            "\n",
            "           0       0.71      0.93      0.81      3374\n",
            "           1       0.43      0.12      0.19      1429\n",
            "\n",
            "    accuracy                           0.69      4803\n",
            "   macro avg       0.57      0.53      0.50      4803\n",
            "weighted avg       0.63      0.69      0.62      4803\n",
            " \n",
            "\n",
            "confusion_matrix\n",
            " [[3148  226]\n",
            " [1256  173]]\n"
          ],
          "name": "stdout"
        }
      ]
    },
    {
      "cell_type": "code",
      "metadata": {
        "id": "6pdq31G8DgVA",
        "colab_type": "code",
        "outputId": "0e55de9c-4942-4e01-e1b2-1a9fb3c36b56",
        "colab": {
          "base_uri": "https://localhost:8080/",
          "height": 377
        }
      },
      "source": [
        "    from sklearn.model_selection import train_test_split  \n",
        "    xtrain,xtest,ytrain,ytest=train_test_split(x,y,test_size=0.3,shuffle=True)\n",
        "    from sklearn.tree import DecisionTreeClassifier\n",
        "    from sklearn.ensemble import AdaBoostClassifier,RandomForestClassifier\n",
        "    from sklearn.datasets import make_classification\n",
        "    #X, y = make_classification(n_samples=1000, n_features=4,n_informative=2, n_redundant=0,random_state=0, shuffle=True)\n",
        "    randm_ada = AdaBoostClassifier(RandomForestClassifier(max_depth=1),n_estimators=100, random_state=0,learning_rate=1.5,algorithm=\"SAMME\")\n",
        "    randm_ada.fit(xtrain,ytrain)\n",
        "    print('training:',randm_ada.score(xtrain,ytrain))\n",
        "    print('test:',randm_ada.score(xtest,ytest))    \n",
        "    y_pred = randm_ada.predict(xtest)\n",
        "    from sklearn.metrics import precision_recall_fscore_support\n",
        "    print('precision_recall_fscore_support\\n',precision_recall_fscore_support(ytest, y_pred, average=None),'\\n')\n",
        "    from sklearn.metrics import classification_report\n",
        "    print('classification_report',classification_report(ytest,y_pred),'\\n')\n",
        "    from sklearn.metrics import confusion_matrix\n",
        "    print('confusion_matrix\\n',confusion_matrix(ytest,y_pred))\n"
      ],
      "execution_count": 0,
      "outputs": [
        {
          "output_type": "stream",
          "text": [
            "/usr/local/lib/python3.6/dist-packages/sklearn/utils/validation.py:760: DataConversionWarning: A column-vector y was passed when a 1d array was expected. Please change the shape of y to (n_samples, ), for example using ravel().\n",
            "  y = column_or_1d(y, warn=True)\n"
          ],
          "name": "stderr"
        },
        {
          "output_type": "stream",
          "text": [
            "training: 0.7150576772314929\n",
            "test: 0.7188214542366238\n",
            "precision_recall_fscore_support\n",
            " (array([0.729926  , 0.52948113]), array([0.96357162, 0.10312356]), array([0.8306312 , 0.17262591]), array([10953,  4354])) \n",
            "\n",
            "classification_report               precision    recall  f1-score   support\n",
            "\n",
            "           0       0.73      0.96      0.83     10953\n",
            "           1       0.53      0.10      0.17      4354\n",
            "\n",
            "    accuracy                           0.72     15307\n",
            "   macro avg       0.63      0.53      0.50     15307\n",
            "weighted avg       0.67      0.72      0.64     15307\n",
            " \n",
            "\n",
            "confusion_matrix\n",
            " [[10554   399]\n",
            " [ 3905   449]]\n"
          ],
          "name": "stdout"
        }
      ]
    },
    {
      "cell_type": "code",
      "metadata": {
        "id": "cPbG6nfF2Imp",
        "colab_type": "code",
        "outputId": "db618195-62d1-4bec-dd92-2d8ab34a2069",
        "colab": {
          "base_uri": "https://localhost:8080/",
          "height": 401
        }
      },
      "source": [
        "from sklearn.model_selection import train_test_split  \n",
        "xtrain,xtest,ytrain,ytest=train_test_split(x,y,test_size=0.3,shuffle=True)\n",
        "from sklearn.tree import DecisionTreeClassifier\n",
        "from sklearn.ensemble import RandomForestClassifier\n",
        "from sklearn.model_selection import GridSearchCV\n",
        "param_grid={\n",
        "    'max_depth':[15],\n",
        "    'max_features':[3],\n",
        "    'n_estimators':[1000],\n",
        "    'min_samples_split':[4],\n",
        "    'bootstrap':[True]}\n",
        "grid_search = GridSearchCV(estimator = RandomForestClassifier(),param_grid=param_grid,cv=3,n_jobs=-1,verbose=2).fit(xtrain,ytrain)\n",
        "print('training:',grid_search.score(xtrain,ytrain))\n",
        "print('test:',grid_search.score(xtest,ytest))    \n",
        "y_pred = grid_search.predict(xtest)\n",
        "from sklearn.metrics import classification_report\n",
        "print('classification_report',classification_report(ytest,y_pred),'\\n')\n",
        "from sklearn.metrics import confusion_matrix\n",
        "print('confusion_matrix\\n',confusion_matrix(ytest,y_pred))\n"
      ],
      "execution_count": 0,
      "outputs": [
        {
          "output_type": "stream",
          "text": [
            "Fitting 3 folds for each of 1 candidates, totalling 3 fits\n"
          ],
          "name": "stdout"
        },
        {
          "output_type": "stream",
          "text": [
            "[Parallel(n_jobs=-1)]: Using backend LokyBackend with 2 concurrent workers.\n",
            "[Parallel(n_jobs=-1)]: Done   3 out of   3 | elapsed:  2.6min finished\n",
            "/usr/local/lib/python3.6/dist-packages/sklearn/model_selection/_search.py:739: DataConversionWarning: A column-vector y was passed when a 1d array was expected. Please change the shape of y to (n_samples,), for example using ravel().\n",
            "  self.best_estimator_.fit(X, y, **fit_params)\n"
          ],
          "name": "stderr"
        },
        {
          "output_type": "stream",
          "text": [
            "training: 0.8221525366782394\n",
            "test: 0.7147710197948651\n",
            "classification_report               precision    recall  f1-score   support\n",
            "\n",
            "           0       0.72      0.97      0.83     10848\n",
            "           1       0.57      0.08      0.14      4459\n",
            "\n",
            "    accuracy                           0.71     15307\n",
            "   macro avg       0.65      0.53      0.49     15307\n",
            "weighted avg       0.68      0.71      0.63     15307\n",
            " \n",
            "\n",
            "confusion_matrix\n",
            " [[10576   272]\n",
            " [ 4094   365]]\n"
          ],
          "name": "stdout"
        }
      ]
    },
    {
      "cell_type": "markdown",
      "metadata": {
        "id": "qX29rrKhwen4",
        "colab_type": "text"
      },
      "source": [
        "importing model to the drive"
      ]
    },
    {
      "cell_type": "code",
      "metadata": {
        "id": "cMF2z6Y4T0-U",
        "colab_type": "code",
        "outputId": "e8fa0447-7eb5-40da-d4a2-7f157fc8e4b6",
        "colab": {
          "base_uri": "https://localhost:8080/",
          "height": 407
        }
      },
      "source": [
        "colors = [\"#0101DF\",\"#DF0101\"]\n",
        "sns.countplot('Churn',data = df,palette=colors)\n",
        "plt.title(\"chrun\\n(0 :No chrun||1: chrun)\")"
      ],
      "execution_count": 0,
      "outputs": [
        {
          "output_type": "execute_result",
          "data": {
            "text/plain": [
              "Text(0.5, 1.0, 'chrun\\n(0 :No chrun||1: chrun)')"
            ]
          },
          "metadata": {
            "tags": []
          },
          "execution_count": 60
        },
        {
          "output_type": "display_data",
          "data": {
            "image/png": "[encoded data removed]",
            "text/plain": [
              "<Figure size 576x396 with 1 Axes>"
            ]
          },
          "metadata": {
            "tags": []
          }
        }
      ]
    },
    {
      "cell_type": "code",
      "metadata": {
        "id": "wMAGUkfOZmtu",
        "colab_type": "code",
        "outputId": "db6d8b15-1fab-4f06-fde4-153e748f06d9",
        "colab": {
          "base_uri": "https://localhost:8080/",
          "height": 887
        }
      },
      "source": [
        "from sklearn.metrics import roc_curve, auc\n",
        "false_positive_rate, true_positive_rate, thresholds = roc_curve(y_test, y_pred)\n",
        "roc_auc = auc(false_positive_rate, true_positive_rate)\n",
        "roc_auc\n",
        "n_estimators = [1, 2, 4, 8, 16, 32, 64, 100, 200]\n",
        "train_results = []\n",
        "test_results = []\n",
        "from sklearn.model_selection import train_test_split  \n",
        "x_train,x_test,y_train,y_test=train_test_split(x,y,test_size=0.3,shuffle=True)\n",
        "for estimator in n_estimators:\n",
        "   randm_ada = AdaBoostClassifier(DecisionTreeClassifier(max_depth=1),n_estimators=100, random_state=0,learning_rate=1.5,algorithm=\"SAMME\")\n",
        "   randm_ada.fit(x_train,y_train)\n",
        "   train_pred = randm_ada.predict(x_train)\n",
        "   false_positive_rate, true_positive_rate, thresholds = roc_curve(y_train, train_pred)\n",
        "   roc_auc = auc(false_positive_rate, true_positive_rate)\n",
        "   train_results.append(roc_auc)\n",
        "   y_pred = randm_ada.predict(x_test)\n",
        "   false_positive_rate, true_positive_rate, thresholds = roc_curve(y_test, y_pred)\n",
        "   roc_auc = auc(false_positive_rate, true_positive_rate)\n",
        "   test_results.append(roc_auc)\n",
        "from matplotlib.legend_handler import HandlerLine2D\n",
        "line1 = plt.plot(n_estimators, train_results, \"b\", label =\"Train AUC\")\n",
        "line2 = plt.plot(n_estimators, test_results, 'r', label='Test AUC')\n",
        "plt.legend(handler_map={line1: HandlerLine2D(numpoints=2)})\n",
        "plt.ylabel('AUC score')\n",
        "plt.xlabel('n_estimators')\n",
        "plt.show()"
      ],
      "execution_count": 0,
      "outputs": [
        {
          "output_type": "stream",
          "text": [
            "/usr/local/lib/python3.6/dist-packages/sklearn/utils/validation.py:760: DataConversionWarning: A column-vector y was passed when a 1d array was expected. Please change the shape of y to (n_samples, ), for example using ravel().\n",
            "  y = column_or_1d(y, warn=True)\n",
            "/usr/local/lib/python3.6/dist-packages/sklearn/utils/validation.py:760: DataConversionWarning: A column-vector y was passed when a 1d array was expected. Please change the shape of y to (n_samples, ), for example using ravel().\n",
            "  y = column_or_1d(y, warn=True)\n",
            "/usr/local/lib/python3.6/dist-packages/sklearn/utils/validation.py:760: DataConversionWarning: A column-vector y was passed when a 1d array was expected. Please change the shape of y to (n_samples, ), for example using ravel().\n",
            "  y = column_or_1d(y, warn=True)\n",
            "/usr/local/lib/python3.6/dist-packages/sklearn/utils/validation.py:760: DataConversionWarning: A column-vector y was passed when a 1d array was expected. Please change the shape of y to (n_samples, ), for example using ravel().\n",
            "  y = column_or_1d(y, warn=True)\n",
            "/usr/local/lib/python3.6/dist-packages/sklearn/utils/validation.py:760: DataConversionWarning: A column-vector y was passed when a 1d array was expected. Please change the shape of y to (n_samples, ), for example using ravel().\n",
            "  y = column_or_1d(y, warn=True)\n",
            "/usr/local/lib/python3.6/dist-packages/sklearn/utils/validation.py:760: DataConversionWarning: A column-vector y was passed when a 1d array was expected. Please change the shape of y to (n_samples, ), for example using ravel().\n",
            "  y = column_or_1d(y, warn=True)\n",
            "/usr/local/lib/python3.6/dist-packages/sklearn/utils/validation.py:760: DataConversionWarning: A column-vector y was passed when a 1d array was expected. Please change the shape of y to (n_samples, ), for example using ravel().\n",
            "  y = column_or_1d(y, warn=True)\n",
            "/usr/local/lib/python3.6/dist-packages/sklearn/utils/validation.py:760: DataConversionWarning: A column-vector y was passed when a 1d array was expected. Please change the shape of y to (n_samples, ), for example using ravel().\n",
            "  y = column_or_1d(y, warn=True)\n",
            "/usr/local/lib/python3.6/dist-packages/sklearn/utils/validation.py:760: DataConversionWarning: A column-vector y was passed when a 1d array was expected. Please change the shape of y to (n_samples, ), for example using ravel().\n",
            "  y = column_or_1d(y, warn=True)\n"
          ],
          "name": "stderr"
        },
        {
          "output_type": "error",
          "ename": "TypeError",
          "evalue": "ignored",
          "traceback": [
            "\u001b[0;31m---------------------------------------------------------------------------\u001b[0m",
            "\u001b[0;31mTypeError\u001b[0m                                 Traceback (most recent call last)",
            "\u001b[0;32m<ipython-input-77-e067c2457a18>\u001b[0m in \u001b[0;36m<module>\u001b[0;34m()\u001b[0m\n\u001b[1;32m     22\u001b[0m \u001b[0mline1\u001b[0m \u001b[0;34m=\u001b[0m \u001b[0mplt\u001b[0m\u001b[0;34m.\u001b[0m\u001b[0mplot\u001b[0m\u001b[0;34m(\u001b[0m\u001b[0mn_estimators\u001b[0m\u001b[0;34m,\u001b[0m \u001b[0mtrain_results\u001b[0m\u001b[0;34m,\u001b[0m \u001b[0;34m\"b\"\u001b[0m\u001b[0;34m,\u001b[0m \u001b[0mlabel\u001b[0m \u001b[0;34m=\u001b[0m\u001b[0;34m\"Train AUC\"\u001b[0m\u001b[0;34m)\u001b[0m\u001b[0;34m\u001b[0m\u001b[0;34m\u001b[0m\u001b[0m\n\u001b[1;32m     23\u001b[0m \u001b[0mline2\u001b[0m \u001b[0;34m=\u001b[0m \u001b[0mplt\u001b[0m\u001b[0;34m.\u001b[0m\u001b[0mplot\u001b[0m\u001b[0;34m(\u001b[0m\u001b[0mn_estimators\u001b[0m\u001b[0;34m,\u001b[0m \u001b[0mtest_results\u001b[0m\u001b[0;34m,\u001b[0m \u001b[0;34m'r'\u001b[0m\u001b[0;34m,\u001b[0m \u001b[0mlabel\u001b[0m\u001b[0;34m=\u001b[0m\u001b[0;34m'Test AUC'\u001b[0m\u001b[0;34m)\u001b[0m\u001b[0;34m\u001b[0m\u001b[0;34m\u001b[0m\u001b[0m\n\u001b[0;32m---> 24\u001b[0;31m \u001b[0mplt\u001b[0m\u001b[0;34m.\u001b[0m\u001b[0mlegend\u001b[0m\u001b[0;34m(\u001b[0m\u001b[0mhandler_map\u001b[0m\u001b[0;34m=\u001b[0m\u001b[0;34m{\u001b[0m\u001b[0mline1\u001b[0m\u001b[0;34m:\u001b[0m \u001b[0mHandlerLine2D\u001b[0m\u001b[0;34m(\u001b[0m\u001b[0mnumpoints\u001b[0m\u001b[0;34m=\u001b[0m\u001b[0;36m2\u001b[0m\u001b[0;34m)\u001b[0m\u001b[0;34m}\u001b[0m\u001b[0;34m)\u001b[0m\u001b[0;34m\u001b[0m\u001b[0;34m\u001b[0m\u001b[0m\n\u001b[0m\u001b[1;32m     25\u001b[0m \u001b[0mplt\u001b[0m\u001b[0;34m.\u001b[0m\u001b[0mylabel\u001b[0m\u001b[0;34m(\u001b[0m\u001b[0;34m'AUC score'\u001b[0m\u001b[0;34m)\u001b[0m\u001b[0;34m\u001b[0m\u001b[0;34m\u001b[0m\u001b[0m\n\u001b[1;32m     26\u001b[0m \u001b[0mplt\u001b[0m\u001b[0;34m.\u001b[0m\u001b[0mxlabel\u001b[0m\u001b[0;34m(\u001b[0m\u001b[0;34m'n_estimators'\u001b[0m\u001b[0;34m)\u001b[0m\u001b[0;34m\u001b[0m\u001b[0;34m\u001b[0m\u001b[0m\n",
            "\u001b[0;31mTypeError\u001b[0m: unhashable type: 'list'"
          ]
        },
        {
          "output_type": "display_data",
          "data": {
            "image/png": "[encoded data removed]",
            "text/plain": [
              "<Figure size 576x396 with 1 Axes>"
            ]
          },
          "metadata": {
            "tags": []
          }
        }
      ]
    },
    {
      "cell_type": "code",
      "metadata": {
        "id": "ZbRydFWJoKwi",
        "colab_type": "code",
        "outputId": "17d9f59d-8525-4d80-bac4-d428752524f5",
        "colab": {
          "base_uri": "https://localhost:8080/",
          "height": 317
        }
      },
      "source": [
        "df.describe()"
      ],
      "execution_count": 0,
      "outputs": [
        {
          "output_type": "execute_result",
          "data": {
            "text/html": [
              "<div>\n",
              "<style scoped>\n",
              "    .dataframe tbody tr th:only-of-type {\n",
              "        vertical-align: middle;\n",
              "    }\n",
              "\n",
              "    .dataframe tbody tr th {\n",
              "        vertical-align: top;\n",
              "    }\n",
              "\n",
              "    .dataframe thead th {\n",
              "        text-align: right;\n",
              "    }\n",
              "</style>\n",
              "<table border=\"1\" class=\"dataframe\">\n",
              "  <thead>\n",
              "    <tr style=\"text-align: right;\">\n",
              "      <th></th>\n",
              "      <th>CustomerID</th>\n",
              "      <th>Churn</th>\n",
              "      <th>MonthlyRevenue</th>\n",
              "      <th>MonthlyMinutes</th>\n",
              "      <th>TotalRecurringCharge</th>\n",
              "      <th>DirectorAssistedCalls</th>\n",
              "      <th>OverageMinutes</th>\n",
              "      <th>RoamingCalls</th>\n",
              "      <th>PercChangeMinutes</th>\n",
              "      <th>PercChangeRevenues</th>\n",
              "      <th>DroppedCalls</th>\n",
              "      <th>BlockedCalls</th>\n",
              "      <th>UnansweredCalls</th>\n",
              "      <th>CustomerCareCalls</th>\n",
              "      <th>ThreewayCalls</th>\n",
              "      <th>ReceivedCalls</th>\n",
              "      <th>OutboundCalls</th>\n",
              "      <th>InboundCalls</th>\n",
              "      <th>PeakCallsInOut</th>\n",
              "      <th>OffPeakCallsInOut</th>\n",
              "      <th>DroppedBlockedCalls</th>\n",
              "      <th>CallForwardingCalls</th>\n",
              "      <th>CallWaitingCalls</th>\n",
              "      <th>MonthsInService</th>\n",
              "      <th>UniqueSubs</th>\n",
              "      <th>ActiveSubs</th>\n",
              "      <th>ServiceArea</th>\n",
              "      <th>Handsets</th>\n",
              "      <th>HandsetModels</th>\n",
              "      <th>CurrentEquipmentDays</th>\n",
              "      <th>AgeHH1</th>\n",
              "      <th>AgeHH2</th>\n",
              "      <th>ChildrenInHH</th>\n",
              "      <th>HandsetRefurbished</th>\n",
              "      <th>HandsetWebCapable</th>\n",
              "      <th>TruckOwner</th>\n",
              "      <th>RVOwner</th>\n",
              "      <th>Homeownership</th>\n",
              "      <th>BuysViaMailOrder</th>\n",
              "      <th>RespondsToMailOffers</th>\n",
              "      <th>OptOutMailings</th>\n",
              "      <th>NonUSTravel</th>\n",
              "      <th>OwnsComputer</th>\n",
              "      <th>HasCreditCard</th>\n",
              "      <th>RetentionCalls</th>\n",
              "      <th>RetentionOffersAccepted</th>\n",
              "      <th>NewCellphoneUser</th>\n",
              "      <th>NotNewCellphoneUser</th>\n",
              "      <th>ReferralsMadeBySubscriber</th>\n",
              "      <th>IncomeGroup</th>\n",
              "      <th>OwnsMotorcycle</th>\n",
              "      <th>AdjustmentsToCreditRating</th>\n",
              "      <th>HandsetPrice</th>\n",
              "      <th>MadeCallToRetentionTeam</th>\n",
              "      <th>CreditRating</th>\n",
              "      <th>PrizmCode</th>\n",
              "      <th>Occupation</th>\n",
              "      <th>MaritalStatus</th>\n",
              "    </tr>\n",
              "  </thead>\n",
              "  <tbody>\n",
              "    <tr>\n",
              "      <th>count</th>\n",
              "      <td>5.102300e+04</td>\n",
              "      <td>51023.000000</td>\n",
              "      <td>51023.000000</td>\n",
              "      <td>51023.000000</td>\n",
              "      <td>51023.000000</td>\n",
              "      <td>51023.000000</td>\n",
              "      <td>51023.000000</td>\n",
              "      <td>51023.000000</td>\n",
              "      <td>51023.000000</td>\n",
              "      <td>51023.000000</td>\n",
              "      <td>51023.000000</td>\n",
              "      <td>51023.000000</td>\n",
              "      <td>51023.000000</td>\n",
              "      <td>51023.000000</td>\n",
              "      <td>51023.000000</td>\n",
              "      <td>51023.000000</td>\n",
              "      <td>51023.000000</td>\n",
              "      <td>51023.000000</td>\n",
              "      <td>51023.000000</td>\n",
              "      <td>51023.000000</td>\n",
              "      <td>51023.000000</td>\n",
              "      <td>51023.000000</td>\n",
              "      <td>51023.000000</td>\n",
              "      <td>51023.000000</td>\n",
              "      <td>51023.000000</td>\n",
              "      <td>51023.000000</td>\n",
              "      <td>51023.000000</td>\n",
              "      <td>51023.000000</td>\n",
              "      <td>51023.000000</td>\n",
              "      <td>51023.000000</td>\n",
              "      <td>51023.000000</td>\n",
              "      <td>51023.000000</td>\n",
              "      <td>51023.000000</td>\n",
              "      <td>51023.000000</td>\n",
              "      <td>51023.000000</td>\n",
              "      <td>51023.000000</td>\n",
              "      <td>51023.000000</td>\n",
              "      <td>51023.000000</td>\n",
              "      <td>51023.000000</td>\n",
              "      <td>51023.000000</td>\n",
              "      <td>51023.000000</td>\n",
              "      <td>51023.000000</td>\n",
              "      <td>51023.000000</td>\n",
              "      <td>51023.000000</td>\n",
              "      <td>51023.000000</td>\n",
              "      <td>51023.000000</td>\n",
              "      <td>51023.000000</td>\n",
              "      <td>51023.000000</td>\n",
              "      <td>51023.000000</td>\n",
              "      <td>51023.000000</td>\n",
              "      <td>51023.000000</td>\n",
              "      <td>51023.000000</td>\n",
              "      <td>51023.000000</td>\n",
              "      <td>51023.000000</td>\n",
              "      <td>51023.000000</td>\n",
              "      <td>51023.000000</td>\n",
              "      <td>51023.000000</td>\n",
              "      <td>51023.000000</td>\n",
              "    </tr>\n",
              "    <tr>\n",
              "      <th>mean</th>\n",
              "      <td>3.201981e+06</td>\n",
              "      <td>0.288086</td>\n",
              "      <td>58.831616</td>\n",
              "      <td>525.598983</td>\n",
              "      <td>46.830028</td>\n",
              "      <td>0.895034</td>\n",
              "      <td>40.022153</td>\n",
              "      <td>1.236432</td>\n",
              "      <td>-11.581171</td>\n",
              "      <td>-1.199317</td>\n",
              "      <td>6.010944</td>\n",
              "      <td>4.083913</td>\n",
              "      <td>28.288313</td>\n",
              "      <td>1.867489</td>\n",
              "      <td>0.298832</td>\n",
              "      <td>114.785120</td>\n",
              "      <td>25.371221</td>\n",
              "      <td>8.177226</td>\n",
              "      <td>90.548935</td>\n",
              "      <td>67.635018</td>\n",
              "      <td>10.155714</td>\n",
              "      <td>0.012283</td>\n",
              "      <td>1.840384</td>\n",
              "      <td>18.756600</td>\n",
              "      <td>1.531937</td>\n",
              "      <td>1.354174</td>\n",
              "      <td>351.533700</td>\n",
              "      <td>1.805692</td>\n",
              "      <td>1.558818</td>\n",
              "      <td>380.564991</td>\n",
              "      <td>31.334523</td>\n",
              "      <td>21.141231</td>\n",
              "      <td>0.242165</td>\n",
              "      <td>0.138898</td>\n",
              "      <td>0.902025</td>\n",
              "      <td>0.186406</td>\n",
              "      <td>0.081257</td>\n",
              "      <td>0.334281</td>\n",
              "      <td>0.361386</td>\n",
              "      <td>0.376575</td>\n",
              "      <td>0.014738</td>\n",
              "      <td>0.056406</td>\n",
              "      <td>0.185348</td>\n",
              "      <td>0.675813</td>\n",
              "      <td>0.037199</td>\n",
              "      <td>0.018266</td>\n",
              "      <td>0.192403</td>\n",
              "      <td>0.137801</td>\n",
              "      <td>0.052094</td>\n",
              "      <td>4.323874</td>\n",
              "      <td>0.013288</td>\n",
              "      <td>0.053936</td>\n",
              "      <td>11.193717</td>\n",
              "      <td>0.034181</td>\n",
              "      <td>1.887267</td>\n",
              "      <td>1.135233</td>\n",
              "      <td>3.161025</td>\n",
              "      <td>1.116555</td>\n",
              "    </tr>\n",
              "    <tr>\n",
              "      <th>std</th>\n",
              "      <td>1.169140e+05</td>\n",
              "      <td>0.452876</td>\n",
              "      <td>44.441046</td>\n",
              "      <td>529.061843</td>\n",
              "      <td>23.812641</td>\n",
              "      <td>2.224956</td>\n",
              "      <td>96.451972</td>\n",
              "      <td>9.805417</td>\n",
              "      <td>256.601528</td>\n",
              "      <td>39.431917</td>\n",
              "      <td>9.044773</td>\n",
              "      <td>10.945340</td>\n",
              "      <td>38.879473</td>\n",
              "      <td>5.086508</td>\n",
              "      <td>1.168514</td>\n",
              "      <td>166.490255</td>\n",
              "      <td>35.202964</td>\n",
              "      <td>16.667845</td>\n",
              "      <td>104.963265</td>\n",
              "      <td>92.745247</td>\n",
              "      <td>15.554445</td>\n",
              "      <td>0.594308</td>\n",
              "      <td>5.585892</td>\n",
              "      <td>9.801269</td>\n",
              "      <td>1.223341</td>\n",
              "      <td>0.675230</td>\n",
              "      <td>203.854534</td>\n",
              "      <td>1.331317</td>\n",
              "      <td>0.906046</td>\n",
              "      <td>253.820101</td>\n",
              "      <td>21.899673</td>\n",
              "      <td>23.718128</td>\n",
              "      <td>0.428398</td>\n",
              "      <td>0.345844</td>\n",
              "      <td>0.297284</td>\n",
              "      <td>0.389438</td>\n",
              "      <td>0.273233</td>\n",
              "      <td>0.471743</td>\n",
              "      <td>0.480407</td>\n",
              "      <td>0.484532</td>\n",
              "      <td>0.120505</td>\n",
              "      <td>0.230706</td>\n",
              "      <td>0.388583</td>\n",
              "      <td>0.468075</td>\n",
              "      <td>0.206486</td>\n",
              "      <td>0.142425</td>\n",
              "      <td>0.394192</td>\n",
              "      <td>0.344694</td>\n",
              "      <td>0.307662</td>\n",
              "      <td>3.138366</td>\n",
              "      <td>0.114507</td>\n",
              "      <td>0.383235</td>\n",
              "      <td>5.218628</td>\n",
              "      <td>0.181695</td>\n",
              "      <td>1.583520</td>\n",
              "      <td>1.174855</td>\n",
              "      <td>0.879260</td>\n",
              "      <td>0.774858</td>\n",
              "    </tr>\n",
              "    <tr>\n",
              "      <th>min</th>\n",
              "      <td>3.000002e+06</td>\n",
              "      <td>0.000000</td>\n",
              "      <td>-6.170000</td>\n",
              "      <td>0.000000</td>\n",
              "      <td>-11.000000</td>\n",
              "      <td>0.000000</td>\n",
              "      <td>0.000000</td>\n",
              "      <td>0.000000</td>\n",
              "      <td>-3875.000000</td>\n",
              "      <td>-1107.700000</td>\n",
              "      <td>0.000000</td>\n",
              "      <td>0.000000</td>\n",
              "      <td>0.000000</td>\n",
              "      <td>0.000000</td>\n",
              "      <td>0.000000</td>\n",
              "      <td>0.000000</td>\n",
              "      <td>0.000000</td>\n",
              "      <td>0.000000</td>\n",
              "      <td>0.000000</td>\n",
              "      <td>0.000000</td>\n",
              "      <td>0.000000</td>\n",
              "      <td>0.000000</td>\n",
              "      <td>0.000000</td>\n",
              "      <td>6.000000</td>\n",
              "      <td>1.000000</td>\n",
              "      <td>0.000000</td>\n",
              "      <td>0.000000</td>\n",
              "      <td>1.000000</td>\n",
              "      <td>1.000000</td>\n",
              "      <td>-5.000000</td>\n",
              "      <td>0.000000</td>\n",
              "      <td>0.000000</td>\n",
              "      <td>0.000000</td>\n",
              "      <td>0.000000</td>\n",
              "      <td>0.000000</td>\n",
              "      <td>0.000000</td>\n",
              "      <td>0.000000</td>\n",
              "      <td>0.000000</td>\n",
              "      <td>0.000000</td>\n",
              "      <td>0.000000</td>\n",
              "      <td>0.000000</td>\n",
              "      <td>0.000000</td>\n",
              "      <td>0.000000</td>\n",
              "      <td>0.000000</td>\n",
              "      <td>0.000000</td>\n",
              "      <td>0.000000</td>\n",
              "      <td>0.000000</td>\n",
              "      <td>0.000000</td>\n",
              "      <td>0.000000</td>\n",
              "      <td>0.000000</td>\n",
              "      <td>0.000000</td>\n",
              "      <td>0.000000</td>\n",
              "      <td>0.000000</td>\n",
              "      <td>0.000000</td>\n",
              "      <td>0.000000</td>\n",
              "      <td>0.000000</td>\n",
              "      <td>0.000000</td>\n",
              "      <td>0.000000</td>\n",
              "    </tr>\n",
              "    <tr>\n",
              "      <th>25%</th>\n",
              "      <td>3.100632e+06</td>\n",
              "      <td>0.000000</td>\n",
              "      <td>33.660000</td>\n",
              "      <td>159.000000</td>\n",
              "      <td>30.000000</td>\n",
              "      <td>0.000000</td>\n",
              "      <td>0.000000</td>\n",
              "      <td>0.000000</td>\n",
              "      <td>-82.000000</td>\n",
              "      <td>-6.900000</td>\n",
              "      <td>0.700000</td>\n",
              "      <td>0.000000</td>\n",
              "      <td>5.300000</td>\n",
              "      <td>0.000000</td>\n",
              "      <td>0.000000</td>\n",
              "      <td>8.300000</td>\n",
              "      <td>3.300000</td>\n",
              "      <td>0.000000</td>\n",
              "      <td>23.000000</td>\n",
              "      <td>11.000000</td>\n",
              "      <td>1.700000</td>\n",
              "      <td>0.000000</td>\n",
              "      <td>0.000000</td>\n",
              "      <td>11.000000</td>\n",
              "      <td>1.000000</td>\n",
              "      <td>1.000000</td>\n",
              "      <td>163.000000</td>\n",
              "      <td>1.000000</td>\n",
              "      <td>1.000000</td>\n",
              "      <td>205.000000</td>\n",
              "      <td>0.000000</td>\n",
              "      <td>0.000000</td>\n",
              "      <td>0.000000</td>\n",
              "      <td>0.000000</td>\n",
              "      <td>1.000000</td>\n",
              "      <td>0.000000</td>\n",
              "      <td>0.000000</td>\n",
              "      <td>0.000000</td>\n",
              "      <td>0.000000</td>\n",
              "      <td>0.000000</td>\n",
              "      <td>0.000000</td>\n",
              "      <td>0.000000</td>\n",
              "      <td>0.000000</td>\n",
              "      <td>0.000000</td>\n",
              "      <td>0.000000</td>\n",
              "      <td>0.000000</td>\n",
              "      <td>0.000000</td>\n",
              "      <td>0.000000</td>\n",
              "      <td>0.000000</td>\n",
              "      <td>0.000000</td>\n",
              "      <td>0.000000</td>\n",
              "      <td>0.000000</td>\n",
              "      <td>8.000000</td>\n",
              "      <td>0.000000</td>\n",
              "      <td>1.000000</td>\n",
              "      <td>0.000000</td>\n",
              "      <td>3.000000</td>\n",
              "      <td>1.000000</td>\n",
              "    </tr>\n",
              "    <tr>\n",
              "      <th>50%</th>\n",
              "      <td>3.201586e+06</td>\n",
              "      <td>0.000000</td>\n",
              "      <td>48.620000</td>\n",
              "      <td>368.000000</td>\n",
              "      <td>45.000000</td>\n",
              "      <td>0.250000</td>\n",
              "      <td>3.000000</td>\n",
              "      <td>0.000000</td>\n",
              "      <td>-6.000000</td>\n",
              "      <td>-0.300000</td>\n",
              "      <td>3.000000</td>\n",
              "      <td>1.000000</td>\n",
              "      <td>16.300000</td>\n",
              "      <td>0.000000</td>\n",
              "      <td>0.000000</td>\n",
              "      <td>52.700000</td>\n",
              "      <td>13.700000</td>\n",
              "      <td>2.000000</td>\n",
              "      <td>62.000000</td>\n",
              "      <td>35.700000</td>\n",
              "      <td>5.300000</td>\n",
              "      <td>0.000000</td>\n",
              "      <td>0.300000</td>\n",
              "      <td>16.000000</td>\n",
              "      <td>1.000000</td>\n",
              "      <td>1.000000</td>\n",
              "      <td>343.000000</td>\n",
              "      <td>1.000000</td>\n",
              "      <td>1.000000</td>\n",
              "      <td>329.000000</td>\n",
              "      <td>36.000000</td>\n",
              "      <td>0.000000</td>\n",
              "      <td>0.000000</td>\n",
              "      <td>0.000000</td>\n",
              "      <td>1.000000</td>\n",
              "      <td>0.000000</td>\n",
              "      <td>0.000000</td>\n",
              "      <td>0.000000</td>\n",
              "      <td>0.000000</td>\n",
              "      <td>0.000000</td>\n",
              "      <td>0.000000</td>\n",
              "      <td>0.000000</td>\n",
              "      <td>0.000000</td>\n",
              "      <td>1.000000</td>\n",
              "      <td>0.000000</td>\n",
              "      <td>0.000000</td>\n",
              "      <td>0.000000</td>\n",
              "      <td>0.000000</td>\n",
              "      <td>0.000000</td>\n",
              "      <td>5.000000</td>\n",
              "      <td>0.000000</td>\n",
              "      <td>0.000000</td>\n",
              "      <td>15.000000</td>\n",
              "      <td>0.000000</td>\n",
              "      <td>1.000000</td>\n",
              "      <td>1.000000</td>\n",
              "      <td>3.000000</td>\n",
              "      <td>1.000000</td>\n",
              "    </tr>\n",
              "    <tr>\n",
              "      <th>75%</th>\n",
              "      <td>3.305422e+06</td>\n",
              "      <td>1.000000</td>\n",
              "      <td>70.960000</td>\n",
              "      <td>722.000000</td>\n",
              "      <td>60.000000</td>\n",
              "      <td>0.990000</td>\n",
              "      <td>40.027785</td>\n",
              "      <td>0.300000</td>\n",
              "      <td>65.000000</td>\n",
              "      <td>1.500000</td>\n",
              "      <td>7.700000</td>\n",
              "      <td>3.700000</td>\n",
              "      <td>36.300000</td>\n",
              "      <td>1.700000</td>\n",
              "      <td>0.300000</td>\n",
              "      <td>153.500000</td>\n",
              "      <td>34.000000</td>\n",
              "      <td>9.300000</td>\n",
              "      <td>121.300000</td>\n",
              "      <td>88.700000</td>\n",
              "      <td>12.300000</td>\n",
              "      <td>0.000000</td>\n",
              "      <td>1.300000</td>\n",
              "      <td>24.000000</td>\n",
              "      <td>2.000000</td>\n",
              "      <td>2.000000</td>\n",
              "      <td>481.500000</td>\n",
              "      <td>2.000000</td>\n",
              "      <td>2.000000</td>\n",
              "      <td>515.000000</td>\n",
              "      <td>48.000000</td>\n",
              "      <td>42.000000</td>\n",
              "      <td>0.000000</td>\n",
              "      <td>0.000000</td>\n",
              "      <td>1.000000</td>\n",
              "      <td>0.000000</td>\n",
              "      <td>0.000000</td>\n",
              "      <td>1.000000</td>\n",
              "      <td>1.000000</td>\n",
              "      <td>1.000000</td>\n",
              "      <td>0.000000</td>\n",
              "      <td>0.000000</td>\n",
              "      <td>0.000000</td>\n",
              "      <td>1.000000</td>\n",
              "      <td>0.000000</td>\n",
              "      <td>0.000000</td>\n",
              "      <td>0.000000</td>\n",
              "      <td>0.000000</td>\n",
              "      <td>0.000000</td>\n",
              "      <td>7.000000</td>\n",
              "      <td>0.000000</td>\n",
              "      <td>0.000000</td>\n",
              "      <td>15.000000</td>\n",
              "      <td>0.000000</td>\n",
              "      <td>3.000000</td>\n",
              "      <td>2.000000</td>\n",
              "      <td>3.000000</td>\n",
              "      <td>2.000000</td>\n",
              "    </tr>\n",
              "    <tr>\n",
              "      <th>max</th>\n",
              "      <td>3.399994e+06</td>\n",
              "      <td>1.000000</td>\n",
              "      <td>1223.380000</td>\n",
              "      <td>7359.000000</td>\n",
              "      <td>400.000000</td>\n",
              "      <td>159.390000</td>\n",
              "      <td>4321.000000</td>\n",
              "      <td>1112.400000</td>\n",
              "      <td>5192.000000</td>\n",
              "      <td>2483.500000</td>\n",
              "      <td>221.700000</td>\n",
              "      <td>384.300000</td>\n",
              "      <td>848.700000</td>\n",
              "      <td>327.300000</td>\n",
              "      <td>66.000000</td>\n",
              "      <td>2692.400000</td>\n",
              "      <td>644.300000</td>\n",
              "      <td>519.300000</td>\n",
              "      <td>2090.700000</td>\n",
              "      <td>1474.700000</td>\n",
              "      <td>411.700000</td>\n",
              "      <td>81.300000</td>\n",
              "      <td>212.700000</td>\n",
              "      <td>61.000000</td>\n",
              "      <td>196.000000</td>\n",
              "      <td>53.000000</td>\n",
              "      <td>746.000000</td>\n",
              "      <td>24.000000</td>\n",
              "      <td>15.000000</td>\n",
              "      <td>1812.000000</td>\n",
              "      <td>99.000000</td>\n",
              "      <td>99.000000</td>\n",
              "      <td>1.000000</td>\n",
              "      <td>1.000000</td>\n",
              "      <td>1.000000</td>\n",
              "      <td>1.000000</td>\n",
              "      <td>1.000000</td>\n",
              "      <td>1.000000</td>\n",
              "      <td>1.000000</td>\n",
              "      <td>1.000000</td>\n",
              "      <td>1.000000</td>\n",
              "      <td>1.000000</td>\n",
              "      <td>1.000000</td>\n",
              "      <td>1.000000</td>\n",
              "      <td>4.000000</td>\n",
              "      <td>3.000000</td>\n",
              "      <td>1.000000</td>\n",
              "      <td>1.000000</td>\n",
              "      <td>35.000000</td>\n",
              "      <td>9.000000</td>\n",
              "      <td>1.000000</td>\n",
              "      <td>25.000000</td>\n",
              "      <td>15.000000</td>\n",
              "      <td>1.000000</td>\n",
              "      <td>6.000000</td>\n",
              "      <td>3.000000</td>\n",
              "      <td>7.000000</td>\n",
              "      <td>2.000000</td>\n",
              "    </tr>\n",
              "  </tbody>\n",
              "</table>\n",
              "</div>"
            ],
            "text/plain": [
              "         CustomerID         Churn  ...    Occupation  MaritalStatus\n",
              "count  5.102300e+04  51023.000000  ...  51023.000000   51023.000000\n",
              "mean   3.201981e+06      0.288086  ...      3.161025       1.116555\n",
              "std    1.169140e+05      0.452876  ...      0.879260       0.774858\n",
              "min    3.000002e+06      0.000000  ...      0.000000       0.000000\n",
              "25%    3.100632e+06      0.000000  ...      3.000000       1.000000\n",
              "50%    3.201586e+06      0.000000  ...      3.000000       1.000000\n",
              "75%    3.305422e+06      1.000000  ...      3.000000       2.000000\n",
              "max    3.399994e+06      1.000000  ...      7.000000       2.000000\n",
              "\n",
              "[8 rows x 58 columns]"
            ]
          },
          "metadata": {
            "tags": []
          },
          "execution_count": 103
        }
      ]
    },
    {
      "cell_type": "code",
      "metadata": {
        "id": "UC7TuqfoFy9r",
        "colab_type": "code",
        "outputId": "ff60d206-21f9-45c9-d9d0-7b93e93661ad",
        "colab": {
          "base_uri": "https://localhost:8080/",
          "height": 377
        }
      },
      "source": [
        "  #for i in range(0,5):\n",
        "    from sklearn.model_selection import train_test_split  \n",
        "    xtrain,xtest,ytrain,ytest=train_test_split(x,y,test_size=0.3,shuffle=True)\n",
        "    from sklearn.tree import DecisionTreeClassifier\n",
        "    from sklearn.ensemble import AdaBoostClassifier,RandomForestClassifier\n",
        "    from sklearn.datasets import make_classification\n",
        "    #X, y = make_classification(n_samples=1000, n_features=4,n_informative=2, n_redundant=0,random_state=0, shuffle=True)\n",
        "    dec_clf = DecisionTreeClassifier()\n",
        "    ada_clf = AdaBoostClassifier(base_estimator=dec_clf)\n",
        "    ada_clf.fit(xtrain,ytrain)\n",
        "    print('training:',ada_clf.score(xtrain,ytrain))\n",
        "    print('test:',ada_clf.score(xtest,ytest))\n",
        "    y_pred = ada_clf.predict(xtest)\n",
        "    from sklearn.metrics import precision_recall_fscore_support\n",
        "    print('precision_recall_fscore_support\\n',precision_recall_fscore_support(ytest, y_pred, average=None),'\\n')\n",
        "    from sklearn.metrics import classification_report\n",
        "    print('classification_report',classification_report(ytest,y_pred),'\\n')\n",
        "    from sklearn.metrics import confusion_matrix\n",
        "    print('confusion_matrix\\n',confusion_matrix(ytest,y_pred))"
      ],
      "execution_count": 0,
      "outputs": [
        {
          "output_type": "stream",
          "text": [
            "/usr/local/lib/python3.6/dist-packages/sklearn/utils/validation.py:760: DataConversionWarning: A column-vector y was passed when a 1d array was expected. Please change the shape of y to (n_samples, ), for example using ravel().\n",
            "  y = column_or_1d(y, warn=True)\n"
          ],
          "name": "stderr"
        },
        {
          "output_type": "stream",
          "text": [
            "training: 1.0\n",
            "test: 0.6202800169707255\n",
            "precision_recall_fscore_support\n",
            " (array([0.73602854, 0.33185185]), array([0.73297809, 0.33532934]), array([0.73450015, 0.33358153]), array([3378, 1336])) \n",
            "\n",
            "classification_report               precision    recall  f1-score   support\n",
            "\n",
            "           0       0.74      0.73      0.73      3378\n",
            "           1       0.33      0.34      0.33      1336\n",
            "\n",
            "    accuracy                           0.62      4714\n",
            "   macro avg       0.53      0.53      0.53      4714\n",
            "weighted avg       0.62      0.62      0.62      4714\n",
            " \n",
            "\n",
            "confusion_matrix\n",
            " [[2476  902]\n",
            " [ 888  448]]\n"
          ],
          "name": "stdout"
        }
      ]
    },
    {
      "cell_type": "code",
      "metadata": {
        "id": "SlpRe_4ZJI3t",
        "colab_type": "code",
        "outputId": "8286fcc1-5baa-4b43-9f75-b1d0dafa7a2f",
        "colab": {
          "base_uri": "https://localhost:8080/",
          "height": 394
        }
      },
      "source": [
        "from sklearn.model_selection import train_test_split\n",
        "xtrain,xtest,ytrain,ytest=train_test_split(x,y,test_size=0.3,shuffle=True)\n",
        "from sklearn.ensemble import GradientBoostingClassifier\n",
        "gb_model = GradientBoostingClassifier(n_estimators=100, learning_rate=0.1,max_depth=3, random_state=0).fit(xtrain, ytrain)\n",
        "print('Accuracy of training set: ',gb_model.score(xtrain, ytrain))\n",
        "print('Accuracy of test set: ',gb_model.score(xtest, ytest))\n",
        "y_pred = gb_model.predict(xtest)\n",
        "from sklearn.metrics import precision_recall_fscore_support\n",
        "print('precision_recall_fscore_support\\n',precision_recall_fscore_support(ytest, y_pred, average=None),'\\n')\n",
        "from sklearn.metrics import classification_report\n",
        "print('classification_report\\n',classification_report(ytest,y_pred),'\\n')\n",
        "from sklearn.metrics import confusion_matrix\n",
        "print('confusion_matrix\\n',confusion_matrix(ytest,y_pred))"
      ],
      "execution_count": 0,
      "outputs": [
        {
          "output_type": "stream",
          "text": [
            "/usr/local/lib/python3.6/dist-packages/sklearn/ensemble/_gb.py:1454: DataConversionWarning: A column-vector y was passed when a 1d array was expected. Please change the shape of y to (n_samples, ), for example using ravel().\n",
            "  y = column_or_1d(y, warn=True)\n"
          ],
          "name": "stderr"
        },
        {
          "output_type": "stream",
          "text": [
            "Accuracy of training set:  0.7362917159225243\n",
            "Accuracy of test set:  0.7093763258379295\n",
            "precision_recall_fscore_support\n",
            " (array([0.71506431, 0.50393701]), array([0.98115465, 0.04668125]), array([0.82723834, 0.08544726]), array([3343, 1371])) \n",
            "\n",
            "classification_report\n",
            "               precision    recall  f1-score   support\n",
            "\n",
            "           0       0.72      0.98      0.83      3343\n",
            "           1       0.50      0.05      0.09      1371\n",
            "\n",
            "    accuracy                           0.71      4714\n",
            "   macro avg       0.61      0.51      0.46      4714\n",
            "weighted avg       0.65      0.71      0.61      4714\n",
            " \n",
            "\n",
            "confusion_matrix\n",
            " [[3280   63]\n",
            " [1307   64]]\n"
          ],
          "name": "stdout"
        }
      ]
    },
    {
      "cell_type": "markdown",
      "metadata": {
        "id": "fcFyDtpOsYlW",
        "colab_type": "text"
      },
      "source": [
        "***Voting Classifier***"
      ]
    },
    {
      "cell_type": "code",
      "metadata": {
        "id": "DqHDdUmZsW5l",
        "colab_type": "code",
        "colab": {}
      },
      "source": [
        ""
      ],
      "execution_count": 0,
      "outputs": []
    }
  ]
}